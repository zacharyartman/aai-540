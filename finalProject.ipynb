{
 "cells": [
  {
   "cell_type": "markdown",
   "id": "f2430624-8608-48b5-b620-7073a766df48",
   "metadata": {},
   "source": [
    "## AAI-540\n",
    "Zach Artman, Samantha Colbert-Neal, Nabeel Khan"
   ]
  },
  {
   "cell_type": "code",
   "execution_count": 3,
   "id": "1e2ec324-7314-46e6-9291-0c44015e1d13",
   "metadata": {
    "execution": {
     "iopub.execute_input": "2025-10-18T08:36:01.169633Z",
     "iopub.status.busy": "2025-10-18T08:36:01.169041Z",
     "iopub.status.idle": "2025-10-18T08:36:06.191906Z",
     "shell.execute_reply": "2025-10-18T08:36:06.190878Z",
     "shell.execute_reply.started": "2025-10-18T08:36:01.169594Z"
    }
   },
   "outputs": [],
   "source": [
    "!pip install -U sagemaker kagglehub pandas numpy scikit-learn matplotlib seaborn xgboost --quiet"
   ]
  },
  {
   "cell_type": "code",
   "execution_count": 4,
   "id": "cfe55d50-d754-42f0-9eb6-d83926a94cfb",
   "metadata": {
    "execution": {
     "iopub.execute_input": "2025-10-18T08:36:06.194170Z",
     "iopub.status.busy": "2025-10-18T08:36:06.193839Z",
     "iopub.status.idle": "2025-10-18T08:36:08.344535Z",
     "shell.execute_reply": "2025-10-18T08:36:08.343295Z",
     "shell.execute_reply.started": "2025-10-18T08:36:06.194144Z"
    }
   },
   "outputs": [
    {
     "name": "stdout",
     "output_type": "stream",
     "text": [
      "All libraries imported successfully!\n"
     ]
    }
   ],
   "source": [
    "import boto3\n",
    "import sagemaker\n",
    "from sagemaker import get_execution_role, Session\n",
    "from sagemaker.workflow.pipeline_context import PipelineSession\n",
    "from sagemaker.feature_store.feature_group import FeatureGroup\n",
    "from sagemaker.sklearn.processing import SKLearnProcessor\n",
    "from sagemaker.processing import ProcessingInput, ProcessingOutput\n",
    "from sagemaker.estimator import Estimator\n",
    "from sagemaker.inputs import TrainingInput\n",
    "from sagemaker.model_monitor import ModelQualityMonitor, DataCaptureConfig\n",
    "from sagemaker.workflow.pipeline import Pipeline\n",
    "from sagemaker.workflow.steps import ProcessingStep, TrainingStep\n",
    "from sagemaker.workflow.parameters import ParameterString, ParameterFloat, ParameterInteger\n",
    "\n",
    "import pandas as pd\n",
    "import numpy as np\n",
    "import matplotlib.pyplot as plt\n",
    "import seaborn as sns\n",
    "from datetime import datetime, timedelta\n",
    "import json\n",
    "import time\n",
    "from time import gmtime, strftime, sleep\n",
    "import warnings\n",
    "warnings.filterwarnings('ignore')\n",
    "\n",
    "print(\"All libraries imported successfully!\")"
   ]
  },
  {
   "cell_type": "code",
   "execution_count": 5,
   "id": "0102c19e-414d-4c63-8d57-d2177c007e7d",
   "metadata": {
    "execution": {
     "iopub.execute_input": "2025-10-18T08:36:08.347067Z",
     "iopub.status.busy": "2025-10-18T08:36:08.346659Z",
     "iopub.status.idle": "2025-10-18T08:36:09.482748Z",
     "shell.execute_reply": "2025-10-18T08:36:09.481773Z",
     "shell.execute_reply.started": "2025-10-18T08:36:08.347042Z"
    }
   },
   "outputs": [
    {
     "name": "stdout",
     "output_type": "stream",
     "text": [
      "Region: us-east-1\n",
      "Role: arn:aws:iam::471112536460:role/LabRole\n",
      "Default S3 Bucket: sagemaker-us-east-1-471112536460\n",
      "Data Prefix: hcp-marketing-campaign-prediction/data\n"
     ]
    }
   ],
   "source": [
    "sagemaker_session = Session()\n",
    "region = boto3.Session().region_name\n",
    "role = get_execution_role()\n",
    "pipeline_session = PipelineSession()\n",
    "default_bucket = sagemaker_session.default_bucket()\n",
    "prefix = \"hcp-marketing-campaign-prediction\"\n",
    "\n",
    "# S3 paths\n",
    "data_prefix = f\"{prefix}/data\"\n",
    "feature_store_prefix = f\"{prefix}/feature-store\"\n",
    "model_prefix = f\"{prefix}/models\"\n",
    "output_prefix = f\"{prefix}/output\"\n",
    "monitoring_prefix = f\"{prefix}/monitoring\"\n",
    "\n",
    "print(f\"Region: {region}\")\n",
    "print(f\"Role: {role}\")\n",
    "print(f\"Default S3 Bucket: {default_bucket}\")\n",
    "print(f\"Data Prefix: {data_prefix}\")"
   ]
  },
  {
   "cell_type": "markdown",
   "id": "e9c67882-6082-466f-bdfe-554ed34d8e8a",
   "metadata": {},
   "source": [
    "## Load Data Set"
   ]
  },
  {
   "cell_type": "code",
   "execution_count": 6,
   "id": "8d4e7f53-4e79-4bc7-866d-f263b7036d0e",
   "metadata": {
    "execution": {
     "iopub.execute_input": "2025-10-18T08:36:09.484992Z",
     "iopub.status.busy": "2025-10-18T08:36:09.484741Z",
     "iopub.status.idle": "2025-10-18T08:36:09.924403Z",
     "shell.execute_reply": "2025-10-18T08:36:09.923682Z",
     "shell.execute_reply.started": "2025-10-18T08:36:09.484972Z"
    }
   },
   "outputs": [
    {
     "name": "stdout",
     "output_type": "stream",
     "text": [
      "Downloading dataset from Kaggle...\n",
      "Dataset loaded successfully!\n",
      "Dataset shape: (8000, 20)\n",
      "Dataset columns: ['CustomerID', 'Age', 'Gender', 'Income', 'CampaignChannel', 'CampaignType', 'AdSpend', 'ClickThroughRate', 'ConversionRate', 'WebsiteVisits', 'PagesPerVisit', 'TimeOnSite', 'SocialShares', 'EmailOpens', 'EmailClicks', 'PreviousPurchases', 'LoyaltyPoints', 'AdvertisingPlatform', 'AdvertisingTool', 'Conversion']\n"
     ]
    }
   ],
   "source": [
    "import kagglehub\n",
    "import pandas as pd\n",
    "import os\n",
    "\n",
    "print(\"Downloading dataset from Kaggle...\")\n",
    "path = kagglehub.dataset_download(\"arpit2712/digital-marketing-company\")\n",
    "\n",
    "# Load the first CSV file found\n",
    "csv_file = [f for f in os.listdir(path) if f.endswith('.csv')][0]\n",
    "df = pd.read_csv(os.path.join(path, csv_file))\n",
    "\n",
    "print(f\"Dataset loaded successfully!\")\n",
    "print(f\"Dataset shape: {df.shape}\")\n",
    "print(f\"Dataset columns: {list(df.columns)}\")\n"
   ]
  },
  {
   "cell_type": "code",
   "execution_count": 7,
   "id": "07a83fc9-7497-4636-8149-b4c177367060",
   "metadata": {
    "execution": {
     "iopub.execute_input": "2025-10-18T08:36:09.925477Z",
     "iopub.status.busy": "2025-10-18T08:36:09.925203Z",
     "iopub.status.idle": "2025-10-18T08:36:09.950129Z",
     "shell.execute_reply": "2025-10-18T08:36:09.949190Z",
     "shell.execute_reply.started": "2025-10-18T08:36:09.925455Z"
    }
   },
   "outputs": [
    {
     "data": {
      "text/html": [
       "<div>\n",
       "<style scoped>\n",
       "    .dataframe tbody tr th:only-of-type {\n",
       "        vertical-align: middle;\n",
       "    }\n",
       "\n",
       "    .dataframe tbody tr th {\n",
       "        vertical-align: top;\n",
       "    }\n",
       "\n",
       "    .dataframe thead th {\n",
       "        text-align: right;\n",
       "    }\n",
       "</style>\n",
       "<table border=\"1\" class=\"dataframe\">\n",
       "  <thead>\n",
       "    <tr style=\"text-align: right;\">\n",
       "      <th></th>\n",
       "      <th>CustomerID</th>\n",
       "      <th>Age</th>\n",
       "      <th>Gender</th>\n",
       "      <th>Income</th>\n",
       "      <th>CampaignChannel</th>\n",
       "      <th>CampaignType</th>\n",
       "      <th>AdSpend</th>\n",
       "      <th>ClickThroughRate</th>\n",
       "      <th>ConversionRate</th>\n",
       "      <th>WebsiteVisits</th>\n",
       "      <th>PagesPerVisit</th>\n",
       "      <th>TimeOnSite</th>\n",
       "      <th>SocialShares</th>\n",
       "      <th>EmailOpens</th>\n",
       "      <th>EmailClicks</th>\n",
       "      <th>PreviousPurchases</th>\n",
       "      <th>LoyaltyPoints</th>\n",
       "      <th>AdvertisingPlatform</th>\n",
       "      <th>AdvertisingTool</th>\n",
       "      <th>Conversion</th>\n",
       "    </tr>\n",
       "  </thead>\n",
       "  <tbody>\n",
       "    <tr>\n",
       "      <th>0</th>\n",
       "      <td>8000</td>\n",
       "      <td>56</td>\n",
       "      <td>Female</td>\n",
       "      <td>136912</td>\n",
       "      <td>Social Media</td>\n",
       "      <td>Awareness</td>\n",
       "      <td>6497.870068</td>\n",
       "      <td>0.043919</td>\n",
       "      <td>0.088031</td>\n",
       "      <td>0</td>\n",
       "      <td>2.399017</td>\n",
       "      <td>7.396803</td>\n",
       "      <td>19</td>\n",
       "      <td>6</td>\n",
       "      <td>9</td>\n",
       "      <td>4</td>\n",
       "      <td>688</td>\n",
       "      <td>IsConfid</td>\n",
       "      <td>ToolConfid</td>\n",
       "      <td>1</td>\n",
       "    </tr>\n",
       "    <tr>\n",
       "      <th>1</th>\n",
       "      <td>8001</td>\n",
       "      <td>69</td>\n",
       "      <td>Male</td>\n",
       "      <td>41760</td>\n",
       "      <td>Email</td>\n",
       "      <td>Retention</td>\n",
       "      <td>3898.668606</td>\n",
       "      <td>0.155725</td>\n",
       "      <td>0.182725</td>\n",
       "      <td>42</td>\n",
       "      <td>2.917138</td>\n",
       "      <td>5.352549</td>\n",
       "      <td>5</td>\n",
       "      <td>2</td>\n",
       "      <td>7</td>\n",
       "      <td>2</td>\n",
       "      <td>3459</td>\n",
       "      <td>IsConfid</td>\n",
       "      <td>ToolConfid</td>\n",
       "      <td>1</td>\n",
       "    </tr>\n",
       "    <tr>\n",
       "      <th>2</th>\n",
       "      <td>8002</td>\n",
       "      <td>46</td>\n",
       "      <td>Female</td>\n",
       "      <td>88456</td>\n",
       "      <td>PPC</td>\n",
       "      <td>Awareness</td>\n",
       "      <td>1546.429596</td>\n",
       "      <td>0.277490</td>\n",
       "      <td>0.076423</td>\n",
       "      <td>2</td>\n",
       "      <td>8.223619</td>\n",
       "      <td>13.794901</td>\n",
       "      <td>0</td>\n",
       "      <td>11</td>\n",
       "      <td>2</td>\n",
       "      <td>8</td>\n",
       "      <td>2337</td>\n",
       "      <td>IsConfid</td>\n",
       "      <td>ToolConfid</td>\n",
       "      <td>1</td>\n",
       "    </tr>\n",
       "    <tr>\n",
       "      <th>3</th>\n",
       "      <td>8003</td>\n",
       "      <td>32</td>\n",
       "      <td>Female</td>\n",
       "      <td>44085</td>\n",
       "      <td>PPC</td>\n",
       "      <td>Conversion</td>\n",
       "      <td>539.525936</td>\n",
       "      <td>0.137611</td>\n",
       "      <td>0.088004</td>\n",
       "      <td>47</td>\n",
       "      <td>4.540939</td>\n",
       "      <td>14.688363</td>\n",
       "      <td>89</td>\n",
       "      <td>2</td>\n",
       "      <td>2</td>\n",
       "      <td>0</td>\n",
       "      <td>2463</td>\n",
       "      <td>IsConfid</td>\n",
       "      <td>ToolConfid</td>\n",
       "      <td>1</td>\n",
       "    </tr>\n",
       "    <tr>\n",
       "      <th>4</th>\n",
       "      <td>8004</td>\n",
       "      <td>60</td>\n",
       "      <td>Female</td>\n",
       "      <td>83964</td>\n",
       "      <td>PPC</td>\n",
       "      <td>Conversion</td>\n",
       "      <td>1678.043573</td>\n",
       "      <td>0.252851</td>\n",
       "      <td>0.109940</td>\n",
       "      <td>0</td>\n",
       "      <td>2.046847</td>\n",
       "      <td>13.993370</td>\n",
       "      <td>6</td>\n",
       "      <td>6</td>\n",
       "      <td>6</td>\n",
       "      <td>8</td>\n",
       "      <td>4345</td>\n",
       "      <td>IsConfid</td>\n",
       "      <td>ToolConfid</td>\n",
       "      <td>1</td>\n",
       "    </tr>\n",
       "    <tr>\n",
       "      <th>5</th>\n",
       "      <td>8005</td>\n",
       "      <td>25</td>\n",
       "      <td>Female</td>\n",
       "      <td>42925</td>\n",
       "      <td>Social Media</td>\n",
       "      <td>Awareness</td>\n",
       "      <td>9579.388247</td>\n",
       "      <td>0.153795</td>\n",
       "      <td>0.161316</td>\n",
       "      <td>6</td>\n",
       "      <td>2.125850</td>\n",
       "      <td>7.752831</td>\n",
       "      <td>95</td>\n",
       "      <td>5</td>\n",
       "      <td>8</td>\n",
       "      <td>0</td>\n",
       "      <td>3316</td>\n",
       "      <td>IsConfid</td>\n",
       "      <td>ToolConfid</td>\n",
       "      <td>1</td>\n",
       "    </tr>\n",
       "    <tr>\n",
       "      <th>6</th>\n",
       "      <td>8006</td>\n",
       "      <td>38</td>\n",
       "      <td>Female</td>\n",
       "      <td>25615</td>\n",
       "      <td>Referral</td>\n",
       "      <td>Awareness</td>\n",
       "      <td>7302.899852</td>\n",
       "      <td>0.040975</td>\n",
       "      <td>0.060977</td>\n",
       "      <td>42</td>\n",
       "      <td>1.753995</td>\n",
       "      <td>10.698672</td>\n",
       "      <td>54</td>\n",
       "      <td>14</td>\n",
       "      <td>3</td>\n",
       "      <td>6</td>\n",
       "      <td>930</td>\n",
       "      <td>IsConfid</td>\n",
       "      <td>ToolConfid</td>\n",
       "      <td>1</td>\n",
       "    </tr>\n",
       "    <tr>\n",
       "      <th>7</th>\n",
       "      <td>8007</td>\n",
       "      <td>56</td>\n",
       "      <td>Female</td>\n",
       "      <td>57083</td>\n",
       "      <td>Social Media</td>\n",
       "      <td>Conversion</td>\n",
       "      <td>5324.283667</td>\n",
       "      <td>0.052878</td>\n",
       "      <td>0.188946</td>\n",
       "      <td>48</td>\n",
       "      <td>2.626015</td>\n",
       "      <td>2.987817</td>\n",
       "      <td>96</td>\n",
       "      <td>9</td>\n",
       "      <td>3</td>\n",
       "      <td>0</td>\n",
       "      <td>2983</td>\n",
       "      <td>IsConfid</td>\n",
       "      <td>ToolConfid</td>\n",
       "      <td>1</td>\n",
       "    </tr>\n",
       "    <tr>\n",
       "      <th>8</th>\n",
       "      <td>8008</td>\n",
       "      <td>36</td>\n",
       "      <td>Female</td>\n",
       "      <td>140788</td>\n",
       "      <td>Email</td>\n",
       "      <td>Retention</td>\n",
       "      <td>9421.250951</td>\n",
       "      <td>0.023536</td>\n",
       "      <td>0.112585</td>\n",
       "      <td>13</td>\n",
       "      <td>5.472843</td>\n",
       "      <td>14.287421</td>\n",
       "      <td>73</td>\n",
       "      <td>4</td>\n",
       "      <td>8</td>\n",
       "      <td>5</td>\n",
       "      <td>460</td>\n",
       "      <td>IsConfid</td>\n",
       "      <td>ToolConfid</td>\n",
       "      <td>1</td>\n",
       "    </tr>\n",
       "    <tr>\n",
       "      <th>9</th>\n",
       "      <td>8009</td>\n",
       "      <td>40</td>\n",
       "      <td>Male</td>\n",
       "      <td>130764</td>\n",
       "      <td>Social Media</td>\n",
       "      <td>Awareness</td>\n",
       "      <td>6229.193333</td>\n",
       "      <td>0.066641</td>\n",
       "      <td>0.169786</td>\n",
       "      <td>22</td>\n",
       "      <td>1.135665</td>\n",
       "      <td>4.613312</td>\n",
       "      <td>14</td>\n",
       "      <td>8</td>\n",
       "      <td>4</td>\n",
       "      <td>8</td>\n",
       "      <td>3789</td>\n",
       "      <td>IsConfid</td>\n",
       "      <td>ToolConfid</td>\n",
       "      <td>1</td>\n",
       "    </tr>\n",
       "  </tbody>\n",
       "</table>\n",
       "</div>"
      ],
      "text/plain": [
       "   CustomerID  Age  Gender  Income CampaignChannel CampaignType      AdSpend  \\\n",
       "0        8000   56  Female  136912    Social Media    Awareness  6497.870068   \n",
       "1        8001   69    Male   41760           Email    Retention  3898.668606   \n",
       "2        8002   46  Female   88456             PPC    Awareness  1546.429596   \n",
       "3        8003   32  Female   44085             PPC   Conversion   539.525936   \n",
       "4        8004   60  Female   83964             PPC   Conversion  1678.043573   \n",
       "5        8005   25  Female   42925    Social Media    Awareness  9579.388247   \n",
       "6        8006   38  Female   25615        Referral    Awareness  7302.899852   \n",
       "7        8007   56  Female   57083    Social Media   Conversion  5324.283667   \n",
       "8        8008   36  Female  140788           Email    Retention  9421.250951   \n",
       "9        8009   40    Male  130764    Social Media    Awareness  6229.193333   \n",
       "\n",
       "   ClickThroughRate  ConversionRate  WebsiteVisits  PagesPerVisit  TimeOnSite  \\\n",
       "0          0.043919        0.088031              0       2.399017    7.396803   \n",
       "1          0.155725        0.182725             42       2.917138    5.352549   \n",
       "2          0.277490        0.076423              2       8.223619   13.794901   \n",
       "3          0.137611        0.088004             47       4.540939   14.688363   \n",
       "4          0.252851        0.109940              0       2.046847   13.993370   \n",
       "5          0.153795        0.161316              6       2.125850    7.752831   \n",
       "6          0.040975        0.060977             42       1.753995   10.698672   \n",
       "7          0.052878        0.188946             48       2.626015    2.987817   \n",
       "8          0.023536        0.112585             13       5.472843   14.287421   \n",
       "9          0.066641        0.169786             22       1.135665    4.613312   \n",
       "\n",
       "   SocialShares  EmailOpens  EmailClicks  PreviousPurchases  LoyaltyPoints  \\\n",
       "0            19           6            9                  4            688   \n",
       "1             5           2            7                  2           3459   \n",
       "2             0          11            2                  8           2337   \n",
       "3            89           2            2                  0           2463   \n",
       "4             6           6            6                  8           4345   \n",
       "5            95           5            8                  0           3316   \n",
       "6            54          14            3                  6            930   \n",
       "7            96           9            3                  0           2983   \n",
       "8            73           4            8                  5            460   \n",
       "9            14           8            4                  8           3789   \n",
       "\n",
       "  AdvertisingPlatform AdvertisingTool  Conversion  \n",
       "0            IsConfid      ToolConfid           1  \n",
       "1            IsConfid      ToolConfid           1  \n",
       "2            IsConfid      ToolConfid           1  \n",
       "3            IsConfid      ToolConfid           1  \n",
       "4            IsConfid      ToolConfid           1  \n",
       "5            IsConfid      ToolConfid           1  \n",
       "6            IsConfid      ToolConfid           1  \n",
       "7            IsConfid      ToolConfid           1  \n",
       "8            IsConfid      ToolConfid           1  \n",
       "9            IsConfid      ToolConfid           1  "
      ]
     },
     "execution_count": 7,
     "metadata": {},
     "output_type": "execute_result"
    }
   ],
   "source": [
    "df.head(10)\n"
   ]
  },
  {
   "cell_type": "code",
   "execution_count": 8,
   "id": "559e2343-bccc-4c20-8d05-311653b7b2e1",
   "metadata": {
    "execution": {
     "iopub.execute_input": "2025-10-18T08:36:09.951358Z",
     "iopub.status.busy": "2025-10-18T08:36:09.950997Z",
     "iopub.status.idle": "2025-10-18T08:36:09.992237Z",
     "shell.execute_reply": "2025-10-18T08:36:09.991497Z",
     "shell.execute_reply.started": "2025-10-18T08:36:09.951329Z"
    }
   },
   "outputs": [
    {
     "name": "stdout",
     "output_type": "stream",
     "text": [
      "        CustomerID          Age         Income      AdSpend  ClickThroughRate  \\\n",
      "count   8000.00000  8000.000000    8000.000000  8000.000000       8000.000000   \n",
      "mean   11999.50000    43.625500   84664.196750  5000.944830          0.154829   \n",
      "std     2309.54541    14.902785   37580.387945  2838.038153          0.084007   \n",
      "min     8000.00000    18.000000   20014.000000   100.054813          0.010005   \n",
      "25%     9999.75000    31.000000   51744.500000  2523.221165          0.082635   \n",
      "50%    11999.50000    43.000000   84926.500000  5013.440044          0.154505   \n",
      "75%    13999.25000    56.000000  116815.750000  7407.989369          0.228207   \n",
      "max    15999.00000    69.000000  149986.000000  9997.914781          0.299968   \n",
      "\n",
      "       ConversionRate  WebsiteVisits  PagesPerVisit   TimeOnSite  \\\n",
      "count     8000.000000    8000.000000    8000.000000  8000.000000   \n",
      "mean         0.104389      24.751625       5.549299     7.727718   \n",
      "std          0.054878      14.312269       2.607358     4.228218   \n",
      "min          0.010018       0.000000       1.000428     0.501669   \n",
      "25%          0.056410      13.000000       3.302479     4.068340   \n",
      "50%          0.104046      25.000000       5.534257     7.682956   \n",
      "75%          0.152077      37.000000       7.835756    11.481468   \n",
      "max          0.199995      49.000000       9.999055    14.995311   \n",
      "\n",
      "       SocialShares   EmailOpens  EmailClicks  PreviousPurchases  \\\n",
      "count   8000.000000  8000.000000  8000.000000        8000.000000   \n",
      "mean      49.799750     9.476875     4.467375           4.485500   \n",
      "std       28.901165     5.711111     2.856564           2.888093   \n",
      "min        0.000000     0.000000     0.000000           0.000000   \n",
      "25%       25.000000     5.000000     2.000000           2.000000   \n",
      "50%       50.000000     9.000000     4.000000           4.000000   \n",
      "75%       75.000000    14.000000     7.000000           7.000000   \n",
      "max       99.000000    19.000000     9.000000           9.000000   \n",
      "\n",
      "       LoyaltyPoints   Conversion  \n",
      "count    8000.000000  8000.000000  \n",
      "mean     2490.268500     0.876500  \n",
      "std      1429.527162     0.329031  \n",
      "min         0.000000     0.000000  \n",
      "25%      1254.750000     1.000000  \n",
      "50%      2497.000000     1.000000  \n",
      "75%      3702.250000     1.000000  \n",
      "max      4999.000000     1.000000  \n"
     ]
    }
   ],
   "source": [
    "print(df.describe())"
   ]
  },
  {
   "cell_type": "code",
   "execution_count": 9,
   "id": "4ad92f8f-6cdc-4112-aaf7-f3356af0bdbd",
   "metadata": {
    "execution": {
     "iopub.execute_input": "2025-10-18T08:36:09.993128Z",
     "iopub.status.busy": "2025-10-18T08:36:09.992866Z",
     "iopub.status.idle": "2025-10-18T08:36:10.009509Z",
     "shell.execute_reply": "2025-10-18T08:36:10.008793Z",
     "shell.execute_reply.started": "2025-10-18T08:36:09.993108Z"
    }
   },
   "outputs": [
    {
     "name": "stdout",
     "output_type": "stream",
     "text": [
      "Empty DataFrame\n",
      "Columns: [Column, Missing_Count, Missing_Percentage]\n",
      "Index: []\n"
     ]
    }
   ],
   "source": [
    "missing_values = df.isnull().sum()\n",
    "missing_percentage = (missing_values / len(df)) * 100\n",
    "missing_df = pd.DataFrame({\n",
    "    'Column': missing_values.index,\n",
    "    'Missing_Count': missing_values.values,\n",
    "    'Missing_Percentage': missing_percentage.values\n",
    "})\n",
    "missing_df = missing_df[missing_df['Missing_Count'] > 0].sort_values('Missing_Count', ascending=False)\n",
    "print(missing_df)"
   ]
  },
  {
   "cell_type": "code",
   "execution_count": 10,
   "id": "55c4606e-bf78-43d1-943a-4862dca81d59",
   "metadata": {
    "execution": {
     "iopub.execute_input": "2025-10-18T08:36:10.010819Z",
     "iopub.status.busy": "2025-10-18T08:36:10.010391Z",
     "iopub.status.idle": "2025-10-18T08:36:10.443404Z",
     "shell.execute_reply": "2025-10-18T08:36:10.442677Z",
     "shell.execute_reply.started": "2025-10-18T08:36:10.010790Z"
    }
   },
   "outputs": [
    {
     "name": "stdout",
     "output_type": "stream",
     "text": [
      "Raw data uploaded to: s3://sagemaker-us-east-1-471112536460/hcp-marketing-campaign-prediction/data/raw/raw_marketing_data.csv\n"
     ]
    }
   ],
   "source": [
    "# Save raw data to S3\n",
    "os.makedirs('data', exist_ok=True)\n",
    "raw_data_path = \"data/raw_marketing_data.csv\"\n",
    "df.to_csv(raw_data_path, index=False)\n",
    "\n",
    "# Upload to S3\n",
    "s3_raw_data_uri = sagemaker.s3.S3Uploader.upload(\n",
    "    local_path=raw_data_path,\n",
    "    desired_s3_uri=f\"s3://{default_bucket}/{data_prefix}/raw\"\n",
    ")\n",
    "print(f\"Raw data uploaded to: {s3_raw_data_uri}\")"
   ]
  },
  {
   "cell_type": "markdown",
   "id": "f49be346-be89-43a9-b4ec-7f71d87ffada",
   "metadata": {},
   "source": [
    "## EDA"
   ]
  },
  {
   "cell_type": "code",
   "execution_count": 11,
   "id": "d38ac89b-4bd2-4fe1-a0c3-985652275870",
   "metadata": {
    "execution": {
     "iopub.execute_input": "2025-10-18T08:36:10.444667Z",
     "iopub.status.busy": "2025-10-18T08:36:10.444230Z",
     "iopub.status.idle": "2025-10-18T08:36:10.448639Z",
     "shell.execute_reply": "2025-10-18T08:36:10.448019Z",
     "shell.execute_reply.started": "2025-10-18T08:36:10.444644Z"
    }
   },
   "outputs": [
    {
     "name": "stdout",
     "output_type": "stream",
     "text": [
      "Columns in dataset: ['CustomerID', 'Age', 'Gender', 'Income', 'CampaignChannel', 'CampaignType', 'AdSpend', 'ClickThroughRate', 'ConversionRate', 'WebsiteVisits', 'PagesPerVisit', 'TimeOnSite', 'SocialShares', 'EmailOpens', 'EmailClicks', 'PreviousPurchases', 'LoyaltyPoints', 'AdvertisingPlatform', 'AdvertisingTool', 'Conversion']\n"
     ]
    }
   ],
   "source": [
    "print(f\"Columns in dataset: {df.columns.tolist()}\")"
   ]
  },
  {
   "cell_type": "code",
   "execution_count": 12,
   "id": "d40c3ab6-5eab-4572-9851-83acd1e5dde8",
   "metadata": {
    "execution": {
     "iopub.execute_input": "2025-10-18T08:36:10.451473Z",
     "iopub.status.busy": "2025-10-18T08:36:10.451240Z",
     "iopub.status.idle": "2025-10-18T08:36:10.816493Z",
     "shell.execute_reply": "2025-10-18T08:36:10.815705Z",
     "shell.execute_reply.started": "2025-10-18T08:36:10.451452Z"
    }
   },
   "outputs": [
    {
     "data": {
      "image/png": "[encoded data removed]",
      "text/plain": [
       "<Figure size 1500x500 with 2 Axes>"
      ]
     },
     "metadata": {},
     "output_type": "display_data"
    }
   ],
   "source": [
    "fig, axes = plt.subplots(1, 2, figsize=(15, 5))\n",
    "\n",
    "# Distribution of categorical features\n",
    "categorical_cols = df.select_dtypes(include=['object', 'category']).columns\n",
    "if len(categorical_cols) > 0:\n",
    "    for i, col in enumerate(categorical_cols[:2]):\n",
    "        if i < 2:\n",
    "            df[col].value_counts().plot(kind='bar', ax=axes[i])\n",
    "            axes[i].set_title(f'Distribution of {col}')\n",
    "            axes[i].set_xlabel(col)\n",
    "            axes[i].set_ylabel('Count')\n",
    "            \n",
    "plt.tight_layout()\n",
    "plt.show()"
   ]
  },
  {
   "cell_type": "code",
   "execution_count": 13,
   "id": "53832352-7a97-494f-8f54-78841ff7d6e3",
   "metadata": {
    "execution": {
     "iopub.execute_input": "2025-10-18T08:36:10.817814Z",
     "iopub.status.busy": "2025-10-18T08:36:10.817337Z",
     "iopub.status.idle": "2025-10-18T08:36:11.597371Z",
     "shell.execute_reply": "2025-10-18T08:36:11.596571Z",
     "shell.execute_reply.started": "2025-10-18T08:36:10.817779Z"
    }
   },
   "outputs": [
    {
     "name": "stdout",
     "output_type": "stream",
     "text": [
      "Numeric columns: ['CustomerID', 'Age', 'Income', 'AdSpend', 'ClickThroughRate', 'ConversionRate', 'WebsiteVisits', 'PagesPerVisit', 'TimeOnSite', 'SocialShares', 'EmailOpens', 'EmailClicks', 'PreviousPurchases', 'LoyaltyPoints', 'Conversion']\n"
     ]
    },
    {
     "data": {
      "image/png": "[encoded data removed]",
      "text/plain": [
       "<Figure size 1200x1000 with 2 Axes>"
      ]
     },
     "metadata": {},
     "output_type": "display_data"
    }
   ],
   "source": [
    "numeric_cols = df.select_dtypes(include=[np.number]).columns.tolist()\n",
    "print(f\"Numeric columns: {numeric_cols}\")\n",
    "\n",
    "if len(numeric_cols) > 0:\n",
    "    fig, ax = plt.subplots(figsize=(12, 10))\n",
    "    correlation_matrix = df[numeric_cols].corr()\n",
    "    sns.heatmap(correlation_matrix, annot=True, \n",
    "                center=0, ax=ax, square=True, linewidths=1)\n",
    "    ax.set_title('Correlation Heatmap of Numeric Features', fontsize=16, pad=20)\n",
    "    plt.tight_layout()\n",
    "    plt.show()"
   ]
  },
  {
   "cell_type": "code",
   "execution_count": 14,
   "id": "72309691-5b59-43db-98bb-8def121a242b",
   "metadata": {
    "execution": {
     "iopub.execute_input": "2025-10-18T08:36:11.598380Z",
     "iopub.status.busy": "2025-10-18T08:36:11.598146Z",
     "iopub.status.idle": "2025-10-18T08:36:12.727202Z",
     "shell.execute_reply": "2025-10-18T08:36:12.726450Z",
     "shell.execute_reply.started": "2025-10-18T08:36:11.598358Z"
    }
   },
   "outputs": [
    {
     "data": {
      "image/png": "[encoded data removed]",
      "text/plain": [
       "<Figure size 1500x1200 with 4 Axes>"
      ]
     },
     "metadata": {},
     "output_type": "display_data"
    }
   ],
   "source": [
    "fig, axes = plt.subplots(2, 2, figsize=(15, 12))\n",
    "axes = axes.ravel()\n",
    "\n",
    "for idx, col in enumerate(numeric_cols[:4]):\n",
    "    axes[idx].hist(df[col].dropna(), bins=30, edgecolor='black', alpha=0.7)\n",
    "    axes[idx].set_title(f'Distribution of {col}', fontsize=12)\n",
    "    axes[idx].set_xlabel(col)\n",
    "    axes[idx].set_ylabel('Frequency')\n",
    "    axes[idx].grid(True, alpha=0.3)\n",
    "\n",
    "plt.tight_layout()\n",
    "plt.show()"
   ]
  },
  {
   "cell_type": "code",
   "execution_count": 15,
   "id": "4d219080-060c-4643-be6f-41d2ce3054e0",
   "metadata": {
    "execution": {
     "iopub.execute_input": "2025-10-18T08:36:12.728343Z",
     "iopub.status.busy": "2025-10-18T08:36:12.728033Z",
     "iopub.status.idle": "2025-10-18T08:36:13.249762Z",
     "shell.execute_reply": "2025-10-18T08:36:13.248947Z",
     "shell.execute_reply.started": "2025-10-18T08:36:12.728313Z"
    }
   },
   "outputs": [
    {
     "data": {
      "image/png": "[encoded data removed]",
      "text/plain": [
       "<Figure size 1500x1200 with 4 Axes>"
      ]
     },
     "metadata": {},
     "output_type": "display_data"
    }
   ],
   "source": [
    "fig, axes = plt.subplots(2, 2, figsize=(15, 12))\n",
    "axes = axes.ravel()\n",
    "\n",
    "for idx, col in enumerate(numeric_cols[:4]):\n",
    "    axes[idx].boxplot(df[col].dropna())\n",
    "    axes[idx].set_title(f'Box Plot of {col}', fontsize=12)\n",
    "    axes[idx].set_ylabel(col)\n",
    "    axes[idx].grid(True, alpha=0.3)\n",
    "\n",
    "plt.tight_layout()\n",
    "plt.show()"
   ]
  },
  {
   "cell_type": "markdown",
   "id": "e1ab7742-e1cb-4e0b-80f3-f2821801aeb8",
   "metadata": {},
   "source": [
    "## Feature Engineering"
   ]
  },
  {
   "cell_type": "code",
   "execution_count": 16,
   "id": "974373b7-417d-4503-8985-bf108ee8be54",
   "metadata": {
    "execution": {
     "iopub.execute_input": "2025-10-18T08:36:13.251028Z",
     "iopub.status.busy": "2025-10-18T08:36:13.250717Z",
     "iopub.status.idle": "2025-10-18T08:36:13.515711Z",
     "shell.execute_reply": "2025-10-18T08:36:13.514915Z",
     "shell.execute_reply.started": "2025-10-18T08:36:13.250999Z"
    }
   },
   "outputs": [
    {
     "name": "stdout",
     "output_type": "stream",
     "text": [
      "Target variable: Conversion\n",
      "Target distribution:\n",
      "Conversion\n",
      "1    7012\n",
      "0     988\n",
      "Name: count, dtype: int64\n",
      "\n",
      "Categorical features: ['Gender', 'CampaignChannel', 'CampaignType', 'AdvertisingPlatform', 'AdvertisingTool']\n",
      "Numeric features: ['Age', 'Income', 'AdSpend', 'ClickThroughRate', 'ConversionRate', 'WebsiteVisits', 'PagesPerVisit', 'TimeOnSite', 'SocialShares', 'EmailOpens', 'EmailClicks', 'PreviousPurchases', 'LoyaltyPoints']\n",
      "\n",
      "Feature engineered dataset shape: (8000, 21)\n",
      "Columns: ['Age', 'Gender', 'Income', 'CampaignChannel', 'CampaignType', 'AdSpend', 'ClickThroughRate', 'ConversionRate', 'WebsiteVisits', 'PagesPerVisit', 'TimeOnSite', 'SocialShares', 'EmailOpens', 'EmailClicks', 'PreviousPurchases', 'LoyaltyPoints', 'AdvertisingPlatform', 'AdvertisingTool', 'Conversion', 'event_time', 'id']\n"
     ]
    }
   ],
   "source": [
    "from sklearn.preprocessing import StandardScaler, LabelEncoder\n",
    "from sklearn.model_selection import train_test_split\n",
    "\n",
    "df_features = df.copy()\n",
    "\n",
    "target_column = 'Conversion'\n",
    "print(f\"Target variable: {target_column}\")\n",
    "print(f\"Target distribution:\\n{df_features[target_column].value_counts()}\")\n",
    "\n",
    "categorical_features = ['Gender', 'CampaignChannel', 'CampaignType', \n",
    "                       'AdvertisingPlatform', 'AdvertisingTool']\n",
    "numeric_features = ['Age', 'Income', 'AdSpend', 'ClickThroughRate', 'ConversionRate',\n",
    "                   'WebsiteVisits', 'PagesPerVisit', 'TimeOnSite', 'SocialShares',\n",
    "                   'EmailOpens', 'EmailClicks', 'PreviousPurchases', 'LoyaltyPoints']\n",
    "\n",
    "print(f\"\\nCategorical features: {categorical_features}\")\n",
    "print(f\"Numeric features: {numeric_features}\")\n",
    "\n",
    "current_time_sec = int(time.time())\n",
    "df_features['event_time'] = float(current_time_sec)\n",
    "\n",
    "df_features['id'] = df_features['CustomerID'].astype(int)\n",
    "df_features = df_features.drop('CustomerID', axis=1)\n",
    "\n",
    "print(f\"\\nFeature engineered dataset shape: {df_features.shape}\")\n",
    "print(f\"Columns: {df_features.columns.tolist()}\")\n"
   ]
  },
  {
   "cell_type": "code",
   "execution_count": 17,
   "id": "73f0b1ce-b82a-4b27-a467-987a2009f1ba",
   "metadata": {
    "execution": {
     "iopub.execute_input": "2025-10-18T08:36:13.517276Z",
     "iopub.status.busy": "2025-10-18T08:36:13.516626Z",
     "iopub.status.idle": "2025-10-18T08:36:13.541702Z",
     "shell.execute_reply": "2025-10-18T08:36:13.540910Z",
     "shell.execute_reply.started": "2025-10-18T08:36:13.517245Z"
    }
   },
   "outputs": [
    {
     "name": "stdout",
     "output_type": "stream",
     "text": [
      "Data types after conversion:\n",
      "Age                             int64\n",
      "Gender                 string[python]\n",
      "Income                          int64\n",
      "CampaignChannel        string[python]\n",
      "CampaignType           string[python]\n",
      "AdSpend                       float64\n",
      "ClickThroughRate              float64\n",
      "ConversionRate                float64\n",
      "WebsiteVisits                   int64\n",
      "PagesPerVisit                 float64\n",
      "TimeOnSite                    float64\n",
      "SocialShares                    int64\n",
      "EmailOpens                      int64\n",
      "EmailClicks                     int64\n",
      "PreviousPurchases               int64\n",
      "LoyaltyPoints                   int64\n",
      "AdvertisingPlatform    string[python]\n",
      "AdvertisingTool        string[python]\n",
      "Conversion                      int64\n",
      "event_time                    float64\n",
      "id                              int64\n",
      "dtype: object\n",
      "\n",
      "Sample of prepared data:\n",
      "   Age  Gender  Income CampaignChannel CampaignType      AdSpend  \\\n",
      "0   56  Female  136912    Social Media    Awareness  6497.870068   \n",
      "1   69    Male   41760           Email    Retention  3898.668606   \n",
      "2   46  Female   88456             PPC    Awareness  1546.429596   \n",
      "3   32  Female   44085             PPC   Conversion   539.525936   \n",
      "4   60  Female   83964             PPC   Conversion  1678.043573   \n",
      "\n",
      "   ClickThroughRate  ConversionRate  WebsiteVisits  PagesPerVisit  ...  \\\n",
      "0          0.043919        0.088031              0       2.399017  ...   \n",
      "1          0.155725        0.182725             42       2.917138  ...   \n",
      "2          0.277490        0.076423              2       8.223619  ...   \n",
      "3          0.137611        0.088004             47       4.540939  ...   \n",
      "4          0.252851        0.109940              0       2.046847  ...   \n",
      "\n",
      "   SocialShares  EmailOpens  EmailClicks  PreviousPurchases  LoyaltyPoints  \\\n",
      "0            19           6            9                  4            688   \n",
      "1             5           2            7                  2           3459   \n",
      "2             0          11            2                  8           2337   \n",
      "3            89           2            2                  0           2463   \n",
      "4             6           6            6                  8           4345   \n",
      "\n",
      "   AdvertisingPlatform AdvertisingTool Conversion    event_time    id  \n",
      "0             IsConfid      ToolConfid          1  1.760777e+09  8000  \n",
      "1             IsConfid      ToolConfid          1  1.760777e+09  8001  \n",
      "2             IsConfid      ToolConfid          1  1.760777e+09  8002  \n",
      "3             IsConfid      ToolConfid          1  1.760777e+09  8003  \n",
      "4             IsConfid      ToolConfid          1  1.760777e+09  8004  \n",
      "\n",
      "[5 rows x 21 columns]\n"
     ]
    }
   ],
   "source": [
    "for col in categorical_features:\n",
    "    df_features[col] = df_features[col].astype('str').astype('string')\n",
    "\n",
    "for col in numeric_features + [target_column]:\n",
    "    df_features[col] = pd.to_numeric(df_features[col])\n",
    "\n",
    "df_features['id'] = df_features['id'].astype('int64')\n",
    "df_features['event_time'] = df_features['event_time'].astype('float64')\n",
    "\n",
    "print(\"Data types after conversion:\")\n",
    "print(df_features.dtypes)\n",
    "print(f\"\\nSample of prepared data:\")\n",
    "print(df_features.head())\n"
   ]
  },
  {
   "cell_type": "code",
   "execution_count": 18,
   "id": "b0bd2323-d6f2-4109-8705-678798c814b4",
   "metadata": {
    "execution": {
     "iopub.execute_input": "2025-10-18T08:36:13.542813Z",
     "iopub.status.busy": "2025-10-18T08:36:13.542479Z",
     "iopub.status.idle": "2025-10-18T08:36:13.548830Z",
     "shell.execute_reply": "2025-10-18T08:36:13.547923Z",
     "shell.execute_reply.started": "2025-10-18T08:36:13.542782Z"
    }
   },
   "outputs": [
    {
     "name": "stdout",
     "output_type": "stream",
     "text": [
      "Feature Group Name: hcp-marketing-features-18-08-36-13-2\n",
      "Feature definitions loaded successfully!\n"
     ]
    }
   ],
   "source": [
    "from sagemaker.feature_store.feature_group import FeatureGroup\n",
    "\n",
    "feature_group_name = f\"hcp-marketing-features-{strftime('%d-%H-%M-%S-2', gmtime())}\"\n",
    "\n",
    "# Create feature group\n",
    "marketing_feature_group = FeatureGroup(\n",
    "    name=feature_group_name,\n",
    "    sagemaker_session=sagemaker_session\n",
    ")\n",
    "\n",
    "print(f\"Feature Group Name: {feature_group_name}\")\n",
    "\n",
    "marketing_feature_group.load_feature_definitions(data_frame=df_features)\n",
    "\n",
    "print(\"Feature definitions loaded successfully!\")\n"
   ]
  },
  {
   "cell_type": "code",
   "execution_count": 19,
   "id": "7372cfe8-e596-4692-b17f-fc3df8a9d07f",
   "metadata": {
    "execution": {
     "iopub.execute_input": "2025-10-18T08:36:13.550163Z",
     "iopub.status.busy": "2025-10-18T08:36:13.549855Z",
     "iopub.status.idle": "2025-10-18T08:36:44.989296Z",
     "shell.execute_reply": "2025-10-18T08:36:44.988611Z",
     "shell.execute_reply.started": "2025-10-18T08:36:13.550133Z"
    }
   },
   "outputs": [
    {
     "name": "stdout",
     "output_type": "stream",
     "text": [
      "Creating\n",
      "Waiting for Feature Group completion\n",
      "Status: Creating\n",
      "Status: Creating\n",
      "Status: Creating\n",
      "created with status: Created\n"
     ]
    }
   ],
   "source": [
    "s3_feature_store_uri = f\"s3://{default_bucket}/{feature_store_prefix}\"\n",
    "\n",
    "print(\"Creating\")\n",
    "marketing_feature_group.create(\n",
    "    s3_uri=s3_feature_store_uri,\n",
    "    record_identifier_name='id',\n",
    "    event_time_feature_name='event_time',\n",
    "    role_arn=role,\n",
    "    enable_online_store=True\n",
    ")\n",
    "\n",
    "print(\"Waiting for Feature Group completion\")\n",
    "status = marketing_feature_group.describe().get('FeatureGroupStatus')\n",
    "while status == 'Creating':\n",
    "    print(f\"Status: {status}\")\n",
    "    time.sleep(10)\n",
    "    status = marketing_feature_group.describe().get('FeatureGroupStatus')\n",
    "print(f\"created with status: {status}\")"
   ]
  },
  {
   "cell_type": "code",
   "execution_count": 20,
   "id": "1e5d186b-7ae1-4136-91c6-6a270ac209b9",
   "metadata": {
    "execution": {
     "iopub.execute_input": "2025-10-18T08:36:44.990495Z",
     "iopub.status.busy": "2025-10-18T08:36:44.990276Z",
     "iopub.status.idle": "2025-10-18T08:37:18.359416Z",
     "shell.execute_reply": "2025-10-18T08:37:18.358486Z",
     "shell.execute_reply.started": "2025-10-18T08:36:44.990476Z"
    }
   },
   "outputs": [
    {
     "name": "stderr",
     "output_type": "stream",
     "text": [
      "INFO:sagemaker.feature_store.feature_group:Started ingesting index 0 to 2667\n",
      "INFO:sagemaker.feature_store.feature_group:Started ingesting index 2667 to 5334\n",
      "INFO:sagemaker.feature_store.feature_group:Started ingesting index 5334 to 8000\n",
      "INFO:sagemaker.feature_store.feature_group:Successfully ingested row 2667 to 5334\n",
      "INFO:sagemaker.feature_store.feature_group:Successfully ingested row 5334 to 8000\n",
      "INFO:sagemaker.feature_store.feature_group:Successfully ingested row 0 to 2667\n"
     ]
    },
    {
     "name": "stdout",
     "output_type": "stream",
     "text": [
      "Data ingestion complete!\n"
     ]
    }
   ],
   "source": [
    "marketing_feature_group.ingest(\n",
    "    data_frame=df_features,\n",
    "    max_workers=3,\n",
    "    wait=True\n",
    ")\n",
    "print(\"Data ingestion complete!\")"
   ]
  },
  {
   "cell_type": "code",
   "execution_count": 21,
   "id": "fb4e39ff-36d8-4949-b6ac-d5d625c03bfc",
   "metadata": {
    "execution": {
     "iopub.execute_input": "2025-10-18T08:37:18.360560Z",
     "iopub.status.busy": "2025-10-18T08:37:18.360314Z",
     "iopub.status.idle": "2025-10-18T08:37:18.534456Z",
     "shell.execute_reply": "2025-10-18T08:37:18.533834Z",
     "shell.execute_reply.started": "2025-10-18T08:37:18.360536Z"
    }
   },
   "outputs": [
    {
     "name": "stdout",
     "output_type": "stream",
     "text": [
      "Sample record from Feature Store:\n",
      "{\n",
      "  \"ResponseMetadata\": {\n",
      "    \"RequestId\": \"534f8feb-4793-477f-a0d9-0caeee550d1b\",\n",
      "    \"HTTPStatusCode\": 200,\n",
      "    \"HTTPHeaders\": {\n",
      "      \"x-amzn-requestid\": \"534f8feb-4793-477f-a0d9-0caeee550d1b\",\n",
      "      \"content-type\": \"application/json\",\n",
      "      \"content-length\": \"1720\",\n",
      "      \"date\": \"Sat, 18 Oct 2025 08:37:18 GMT\"\n",
      "    },\n",
      "    \"RetryAttempts\": 0\n",
      "  },\n",
      "  \"Record\": [\n",
      "    {\n",
      "      \"FeatureName\": \"Age\",\n",
      "      \"ValueAsString\": \"56\"\n",
      "    },\n",
      "    {\n",
      "      \"FeatureName\": \"Gender\",\n",
      "      \"ValueAsString\": \"Female\"\n",
      "    },\n",
      "    {\n",
      "      \"FeatureName\": \"Income\",\n",
      "      \"ValueAsString\": \"136912\"\n",
      "    },\n",
      "    {\n",
      "      \"FeatureName\": \"CampaignChannel\",\n",
      "      \"ValueAsString\": \"Social Media\"\n",
      "    },\n",
      "    {\n",
      "      \"FeatureName\": \"CampaignType\",\n",
      "      \"ValueAsString\": \"Awareness\"\n",
      "    },\n",
      "    {\n",
      "      \"FeatureName\": \"AdSpend\",\n",
      "      \"ValueAsString\": \"6497.870068\"\n",
      "    },\n",
      "    {\n",
      "      \"FeatureName\": \"ClickThroughRate\",\n",
      "      \"ValueAsString\": \"0.043918511\"\n",
      "    },\n",
      "    {\n",
      "      \"FeatureName\": \"ConversionRate\",\n",
      "      \"ValueAsString\": \"0.088031412\"\n",
      "    },\n",
      "    {\n",
      "      \"FeatureName\": \"WebsiteVisits\",\n",
      "      \"ValueAsString\": \"0\"\n",
      "    },\n",
      "    {\n",
      "      \"FeatureName\": \"PagesPerVisit\",\n",
      "      \"ValueAsString\": \"2.399016528\"\n",
      "    },\n",
      "    {\n",
      "      \"FeatureName\": \"TimeOnSite\",\n",
      "      \"ValueAsString\": \"7.396802581\"\n",
      "    },\n",
      "    {\n",
      "      \"FeatureName\": \"SocialShares\",\n",
      "      \"ValueAsString\": \"19\"\n",
      "    },\n",
      "    {\n",
      "      \"FeatureName\": \"EmailOpens\",\n",
      "      \"ValueAsString\": \"6\"\n",
      "    },\n",
      "    {\n",
      "      \"FeatureName\": \"EmailClicks\",\n",
      "      \"ValueAsString\": \"9\"\n",
      "    },\n",
      "    {\n",
      "      \"FeatureName\": \"PreviousPurchases\",\n",
      "      \"ValueAsString\": \"4\"\n",
      "    },\n",
      "    {\n",
      "      \"FeatureName\": \"LoyaltyPoints\",\n",
      "      \"ValueAsString\": \"688\"\n",
      "    },\n",
      "    {\n",
      "      \"FeatureName\": \"AdvertisingPlatform\",\n",
      "      \"ValueAsString\": \"IsConfid\"\n",
      "    },\n",
      "    {\n",
      "      \"FeatureName\": \"AdvertisingTool\",\n",
      "      \"ValueAsString\": \"ToolConfid\"\n",
      "    },\n",
      "    {\n",
      "      \"FeatureName\": \"Conversion\",\n",
      "      \"ValueAsString\": \"1\"\n",
      "    },\n",
      "    {\n",
      "      \"FeatureName\": \"event_time\",\n",
      "      \"ValueAsString\": \"1760776573.0\"\n",
      "    },\n",
      "    {\n",
      "      \"FeatureName\": \"id\",\n",
      "      \"ValueAsString\": \"8000\"\n",
      "    }\n",
      "  ]\n",
      "}\n"
     ]
    }
   ],
   "source": [
    "featurestore_runtime = boto3.Session().client(\n",
    "    service_name='sagemaker-featurestore-runtime',\n",
    "    region_name=region\n",
    ")\n",
    "\n",
    "sample_id = str(df_features['id'].iloc[0])\n",
    "record = featurestore_runtime.get_record(\n",
    "    FeatureGroupName=feature_group_name,\n",
    "    RecordIdentifierValueAsString=sample_id\n",
    ")\n",
    "\n",
    "print(\"Sample record from Feature Store:\")\n",
    "print(json.dumps(record, indent=2, default=str))"
   ]
  },
  {
   "cell_type": "code",
   "execution_count": 22,
   "id": "be7eff6f-ee9c-4a46-9a1f-10d5abbdfec5",
   "metadata": {
    "execution": {
     "iopub.execute_input": "2025-10-18T08:37:18.535505Z",
     "iopub.status.busy": "2025-10-18T08:37:18.535288Z",
     "iopub.status.idle": "2025-10-18T08:37:18.703151Z",
     "shell.execute_reply": "2025-10-18T08:37:18.702060Z",
     "shell.execute_reply.started": "2025-10-18T08:37:18.535488Z"
    }
   },
   "outputs": [],
   "source": [
    "!mkdir -p code"
   ]
  },
  {
   "cell_type": "code",
   "execution_count": 23,
   "id": "89fc9757-b8ca-4c47-87dd-29b6ac66172c",
   "metadata": {
    "execution": {
     "iopub.execute_input": "2025-10-18T08:37:18.704435Z",
     "iopub.status.busy": "2025-10-18T08:37:18.704125Z",
     "iopub.status.idle": "2025-10-18T08:37:18.741052Z",
     "shell.execute_reply": "2025-10-18T08:37:18.724753Z",
     "shell.execute_reply.started": "2025-10-18T08:37:18.704408Z"
    }
   },
   "outputs": [
    {
     "name": "stdout",
     "output_type": "stream",
     "text": [
      "Overwriting code/preprocessing.py\n"
     ]
    }
   ],
   "source": [
    "%%writefile code/preprocessing.py\n",
    "import argparse\n",
    "import os\n",
    "import pandas as pd\n",
    "import numpy as np\n",
    "from sklearn.preprocessing import StandardScaler, LabelEncoder\n",
    "from sklearn.model_selection import train_test_split\n",
    "import joblib\n",
    "\n",
    "if __name__ == '__main__':\n",
    "    parser = argparse.ArgumentParser()\n",
    "    parser.add_argument('--test-size', type=float, default=0.2)\n",
    "    args, _ = parser.parse_known_args()\n",
    "    \n",
    "    input_data_path = '/opt/ml/processing/input'\n",
    "    df = pd.read_csv(f'{input_data_path}/raw_marketing_data.csv')\n",
    "    \n",
    "    target_col = 'Conversion'\n",
    "    categorical_features = ['Gender', 'CampaignChannel', 'CampaignType', \n",
    "                           'AdvertisingPlatform', 'AdvertisingTool']\n",
    "    numeric_features = ['Age', 'Income', 'AdSpend', 'ClickThroughRate', 'ConversionRate',\n",
    "                       'WebsiteVisits', 'PagesPerVisit', 'TimeOnSite', 'SocialShares',\n",
    "                       'EmailOpens', 'EmailClicks', 'PreviousPurchases', 'LoyaltyPoints']\n",
    "    \n",
    "    df = df.drop('CustomerID', axis=1)\n",
    "    \n",
    "    le_dict = {}\n",
    "    for col in categorical_features:\n",
    "        le = LabelEncoder()\n",
    "        df[col] = le.fit_transform(df[col].astype(str))\n",
    "        le_dict[col] = le\n",
    "    \n",
    "    scaler = StandardScaler()\n",
    "    df[numeric_features] = scaler.fit_transform(df[numeric_features])\n",
    "    \n",
    "    X = df.drop(columns=[target_col])\n",
    "    y = df[target_col]\n",
    "    \n",
    "    # Split data: 60% train, 20% validation, 20% test\n",
    "    X_train, X_temp, y_train, y_temp = train_test_split(X, y, test_size=0.4, random_state=42)\n",
    "    X_val, X_test, y_val, y_test = train_test_split(X_temp, y_temp, test_size=0.5, random_state=42)\n",
    "    \n",
    "    # Save processed data (target as first column)\n",
    "    train_data = pd.concat([y_train.reset_index(drop=True), X_train.reset_index(drop=True)], axis=1)\n",
    "    val_data = pd.concat([y_val.reset_index(drop=True), X_val.reset_index(drop=True)], axis=1)\n",
    "    test_data = pd.concat([y_test.reset_index(drop=True), X_test.reset_index(drop=True)], axis=1)\n",
    "    \n",
    "    train_data.to_csv('/opt/ml/processing/train/train.csv', header=False, index=False)\n",
    "    val_data.to_csv('/opt/ml/processing/validation/validation.csv', header=False, index=False)\n",
    "    test_data.to_csv('/opt/ml/processing/test/test.csv', header=False, index=False)\n",
    "    \n",
    "    # Save preprocessing objects\n",
    "    joblib.dump(scaler, '/opt/ml/processing/model/scaler.joblib')\n",
    "    joblib.dump(le_dict, '/opt/ml/processing/model/label_encoders.joblib')\n",
    "    \n",
    "    print(f'Preprocessing complete')\n",
    "    print(f'Train: {train_data.shape}, Val: {val_data.shape}, Test: {test_data.shape}')\n"
   ]
  },
  {
   "cell_type": "code",
   "execution_count": 47,
   "id": "716a51c9-4f4e-4e22-8f5a-6b9e76167ac7",
   "metadata": {
    "execution": {
     "iopub.execute_input": "2025-10-18T11:29:21.548763Z",
     "iopub.status.busy": "2025-10-18T11:29:21.548499Z",
     "iopub.status.idle": "2025-10-18T11:32:14.456537Z",
     "shell.execute_reply": "2025-10-18T11:32:14.455648Z",
     "shell.execute_reply.started": "2025-10-18T11:29:21.548743Z"
    }
   },
   "outputs": [
    {
     "name": "stderr",
     "output_type": "stream",
     "text": [
      "INFO:sagemaker.image_uris:Defaulting to only available Python version: py3\n",
      "INFO:sagemaker:Creating processing-job with name hcp-marketing-preprocessing-2025-10-18-11-29-21-575\n"
     ]
    },
    {
     "name": "stdout",
     "output_type": "stream",
     "text": [
      "Starting preprocessing job...\n",
      "...........\u001b[34mPreprocessing complete\u001b[0m\n",
      "\u001b[34mTrain: (4800, 19), Val: (1600, 19), Test: (1600, 19)\u001b[0m\n",
      "\n",
      "Preprocessing job complete\n"
     ]
    }
   ],
   "source": [
    "sklearn_processor = SKLearnProcessor(\n",
    "    framework_version='1.2-1',\n",
    "    instance_type='ml.m5.xlarge',\n",
    "    instance_count=1,\n",
    "    base_job_name='hcp-marketing-preprocessing',\n",
    "    role=role,\n",
    "    sagemaker_session=sagemaker_session\n",
    ")\n",
    "\n",
    "print(\"Starting preprocessing job...\")\n",
    "sklearn_processor.run(\n",
    "    code='code/preprocessing.py',\n",
    "    inputs=[\n",
    "        ProcessingInput(\n",
    "            source=s3_raw_data_uri,\n",
    "            destination='/opt/ml/processing/input'\n",
    "        )\n",
    "    ],\n",
    "    outputs=[\n",
    "        ProcessingOutput(output_name='train', source='/opt/ml/processing/train'),\n",
    "        ProcessingOutput(output_name='validation', source='/opt/ml/processing/validation'),\n",
    "        ProcessingOutput(output_name='test', source='/opt/ml/processing/test'),\n",
    "        ProcessingOutput(output_name='model', source='/opt/ml/processing/model')\n",
    "    ]\n",
    ")\n",
    "\n",
    "print(\"Preprocessing job complete\")"
   ]
  },
  {
   "cell_type": "code",
   "execution_count": 48,
   "id": "3a8da428-8782-4d4b-b4a7-236cf2981edf",
   "metadata": {
    "execution": {
     "iopub.execute_input": "2025-10-18T11:32:14.457656Z",
     "iopub.status.busy": "2025-10-18T11:32:14.457423Z",
     "iopub.status.idle": "2025-10-18T11:32:14.491643Z",
     "shell.execute_reply": "2025-10-18T11:32:14.489659Z",
     "shell.execute_reply.started": "2025-10-18T11:32:14.457627Z"
    }
   },
   "outputs": [
    {
     "name": "stdout",
     "output_type": "stream",
     "text": [
      "Training data: s3://sagemaker-us-east-1-471112536460/hcp-marketing-preprocessing-2025-10-18-11-29-21-575/output/train\n",
      "Validation data: s3://sagemaker-us-east-1-471112536460/hcp-marketing-preprocessing-2025-10-18-11-29-21-575/output/validation\n",
      "Test data: s3://sagemaker-us-east-1-471112536460/hcp-marketing-preprocessing-2025-10-18-11-29-21-575/output/test\n"
     ]
    }
   ],
   "source": [
    "# Get preprocessing job outputs\n",
    "preprocessing_job_description = sklearn_processor.jobs[-1].describe()\n",
    "train_data_s3_uri = preprocessing_job_description['ProcessingOutputConfig']['Outputs'][0]['S3Output']['S3Uri']\n",
    "val_data_s3_uri = preprocessing_job_description['ProcessingOutputConfig']['Outputs'][1]['S3Output']['S3Uri']\n",
    "test_data_s3_uri = preprocessing_job_description['ProcessingOutputConfig']['Outputs'][2]['S3Output']['S3Uri']\n",
    "\n",
    "print(f\"Training data: {train_data_s3_uri}\")\n",
    "print(f\"Validation data: {val_data_s3_uri}\")\n",
    "print(f\"Test data: {test_data_s3_uri}\")"
   ]
  },
  {
   "cell_type": "markdown",
   "id": "eab2f61f-0d6b-4c43-9064-cf47b0850e96",
   "metadata": {},
   "source": [
    "## Logistic Regression Model"
   ]
  },
  {
   "cell_type": "code",
   "execution_count": 49,
   "id": "9929fe28-71b1-4562-9632-b541b72b791c",
   "metadata": {
    "execution": {
     "iopub.execute_input": "2025-10-18T11:32:23.110761Z",
     "iopub.status.busy": "2025-10-18T11:32:23.110378Z",
     "iopub.status.idle": "2025-10-18T11:32:23.116435Z",
     "shell.execute_reply": "2025-10-18T11:32:23.115479Z",
     "shell.execute_reply.started": "2025-10-18T11:32:23.110676Z"
    }
   },
   "outputs": [
    {
     "name": "stdout",
     "output_type": "stream",
     "text": [
      "Overwriting code/train_logistic.py\n"
     ]
    }
   ],
   "source": [
    "%%writefile code/train_logistic.py\n",
    "import argparse\n",
    "import os\n",
    "import pandas as pd\n",
    "import numpy as np\n",
    "from sklearn.linear_model import LogisticRegression\n",
    "from sklearn.metrics import accuracy_score, precision_score, recall_score, f1_score, classification_report\n",
    "import joblib\n",
    "import json\n",
    "\n",
    "if __name__ == '__main__':\n",
    "    train_df = pd.read_csv('/opt/ml/input/data/train/train.csv', header=None)\n",
    "    X_train = train_df.iloc[:, 1:]\n",
    "    y_train = train_df.iloc[:, 0]\n",
    "    \n",
    "    # Train Logistic Regression\n",
    "    print(\"Training Logistic Regression model...\")\n",
    "    model = LogisticRegression(max_iter=1000, random_state=42)\n",
    "    model.fit(X_train, y_train)\n",
    "    \n",
    "    # Save model\n",
    "    model_path = os.path.join('/opt/ml/model', 'model.joblib')\n",
    "    joblib.dump(model, model_path)\n",
    "    print(f\"Model saved to {model_path}\")"
   ]
  },
  {
   "cell_type": "code",
   "execution_count": 50,
   "id": "415b3d54-0aa0-4be0-a579-1dab1cd59976",
   "metadata": {
    "execution": {
     "iopub.execute_input": "2025-10-18T11:32:24.754280Z",
     "iopub.status.busy": "2025-10-18T11:32:24.753791Z",
     "iopub.status.idle": "2025-10-18T11:35:12.816705Z",
     "shell.execute_reply": "2025-10-18T11:35:12.815961Z",
     "shell.execute_reply.started": "2025-10-18T11:32:24.754254Z"
    }
   },
   "outputs": [
    {
     "name": "stderr",
     "output_type": "stream",
     "text": [
      "INFO:sagemaker.telemetry.telemetry_logging:SageMaker Python SDK will collect telemetry to help us better understand our user's needs, diagnose issues, and deliver additional features.\n",
      "To opt out of telemetry, please disable via TelemetryOptOut parameter in SDK defaults config. For more information, refer to https://sagemaker.readthedocs.io/en/stable/overview.html#configuring-and-using-defaults-with-the-sagemaker-python-sdk.\n",
      "INFO:sagemaker:Creating training-job with name: hcp-logistic-regression-2025-10-18-11-32-24-792\n"
     ]
    },
    {
     "name": "stdout",
     "output_type": "stream",
     "text": [
      "Starting Logistic Regression training...\n",
      "2025-10-18 11:32:26 Starting - Starting the training job...\n",
      "2025-10-18 11:32:57 Downloading - Downloading input data...\n",
      "2025-10-18 11:33:17 Downloading - Downloading the training image......\n",
      "2025-10-18 11:34:23 Training - Training image download completed. Training in progress.\n",
      "2025-10-18 11:34:23 Uploading - Uploading generated training model\u001b[34m/miniconda3/lib/python3.9/site-packages/sagemaker_containers/_server.py:22: UserWarning: pkg_resources is deprecated as an API. See https://setuptools.pypa.io/en/latest/pkg_resources.html. The pkg_resources package is slated for removal as early as 2025-11-30. Refrain from using this package or pin to Setuptools<81.\n",
      "  import pkg_resources\u001b[0m\n",
      "\u001b[34m2025-10-18 11:34:18,542 sagemaker-containers INFO     Imported framework sagemaker_sklearn_container.training\u001b[0m\n",
      "\u001b[34m2025-10-18 11:34:18,547 sagemaker-training-toolkit INFO     No GPUs detected (normal if no gpus installed)\u001b[0m\n",
      "\u001b[34m2025-10-18 11:34:18,550 sagemaker-training-toolkit INFO     No Neurons detected (normal if no neurons installed)\u001b[0m\n",
      "\u001b[34m2025-10-18 11:34:18,565 sagemaker_sklearn_container.training INFO     Invoking user training script.\u001b[0m\n",
      "\u001b[34m2025-10-18 11:34:18,889 sagemaker-training-toolkit INFO     No GPUs detected (normal if no gpus installed)\u001b[0m\n",
      "\u001b[34m2025-10-18 11:34:18,892 sagemaker-training-toolkit INFO     No Neurons detected (normal if no neurons installed)\u001b[0m\n",
      "\u001b[34m2025-10-18 11:34:18,911 sagemaker-training-toolkit INFO     No GPUs detected (normal if no gpus installed)\u001b[0m\n",
      "\u001b[34m2025-10-18 11:34:18,914 sagemaker-training-toolkit INFO     No Neurons detected (normal if no neurons installed)\u001b[0m\n",
      "\u001b[34m2025-10-18 11:34:18,931 sagemaker-training-toolkit INFO     No GPUs detected (normal if no gpus installed)\u001b[0m\n",
      "\u001b[34m2025-10-18 11:34:18,934 sagemaker-training-toolkit INFO     No Neurons detected (normal if no neurons installed)\u001b[0m\n",
      "\u001b[34m2025-10-18 11:34:18,950 sagemaker-training-toolkit INFO     Invoking user script\u001b[0m\n",
      "\u001b[34mTraining Env:\u001b[0m\n",
      "\u001b[34m{\n",
      "    \"additional_framework_parameters\": {},\n",
      "    \"channel_input_dirs\": {\n",
      "        \"train\": \"/opt/ml/input/data/train\",\n",
      "        \"validation\": \"/opt/ml/input/data/validation\"\n",
      "    },\n",
      "    \"current_host\": \"algo-1\",\n",
      "    \"current_instance_group\": \"homogeneousCluster\",\n",
      "    \"current_instance_group_hosts\": [\n",
      "        \"algo-1\"\n",
      "    ],\n",
      "    \"current_instance_type\": \"ml.m5.xlarge\",\n",
      "    \"distribution_hosts\": [],\n",
      "    \"distribution_instance_groups\": [],\n",
      "    \"framework_module\": \"sagemaker_sklearn_container.training:main\",\n",
      "    \"hosts\": [\n",
      "        \"algo-1\"\n",
      "    ],\n",
      "    \"hyperparameters\": {},\n",
      "    \"input_config_dir\": \"/opt/ml/input/config\",\n",
      "    \"input_data_config\": {\n",
      "        \"train\": {\n",
      "            \"TrainingInputMode\": \"File\",\n",
      "            \"S3DistributionType\": \"FullyReplicated\",\n",
      "            \"RecordWrapperType\": \"None\"\n",
      "        },\n",
      "        \"validation\": {\n",
      "            \"TrainingInputMode\": \"File\",\n",
      "            \"S3DistributionType\": \"FullyReplicated\",\n",
      "            \"RecordWrapperType\": \"None\"\n",
      "        }\n",
      "    },\n",
      "    \"input_dir\": \"/opt/ml/input\",\n",
      "    \"instance_groups\": [\n",
      "        \"homogeneousCluster\"\n",
      "    ],\n",
      "    \"instance_groups_dict\": {\n",
      "        \"homogeneousCluster\": {\n",
      "            \"instance_group_name\": \"homogeneousCluster\",\n",
      "            \"instance_type\": \"ml.m5.xlarge\",\n",
      "            \"hosts\": [\n",
      "                \"algo-1\"\n",
      "            ]\n",
      "        }\n",
      "    },\n",
      "    \"is_hetero\": false,\n",
      "    \"is_master\": true,\n",
      "    \"is_modelparallel_enabled\": null,\n",
      "    \"is_smddpmprun_installed\": false,\n",
      "    \"is_smddprun_installed\": false,\n",
      "    \"job_name\": \"hcp-logistic-regression-2025-10-18-11-32-24-792\",\n",
      "    \"log_level\": 20,\n",
      "    \"master_hostname\": \"algo-1\",\n",
      "    \"model_dir\": \"/opt/ml/model\",\n",
      "    \"module_dir\": \"s3://sagemaker-us-east-1-471112536460/hcp-logistic-regression-2025-10-18-11-32-24-792/source/sourcedir.tar.gz\",\n",
      "    \"module_name\": \"train_logistic\",\n",
      "    \"network_interface_name\": \"eth0\",\n",
      "    \"num_cpus\": 4,\n",
      "    \"num_gpus\": 0,\n",
      "    \"num_neurons\": 0,\n",
      "    \"output_data_dir\": \"/opt/ml/output/data\",\n",
      "    \"output_dir\": \"/opt/ml/output\",\n",
      "    \"output_intermediate_dir\": \"/opt/ml/output/intermediate\",\n",
      "    \"resource_config\": {\n",
      "        \"current_host\": \"algo-1\",\n",
      "        \"current_instance_type\": \"ml.m5.xlarge\",\n",
      "        \"current_group_name\": \"homogeneousCluster\",\n",
      "        \"hosts\": [\n",
      "            \"algo-1\"\n",
      "        ],\n",
      "        \"instance_groups\": [\n",
      "            {\n",
      "                \"instance_group_name\": \"homogeneousCluster\",\n",
      "                \"instance_type\": \"ml.m5.xlarge\",\n",
      "                \"hosts\": [\n",
      "                    \"algo-1\"\n",
      "                ]\n",
      "            }\n",
      "        ],\n",
      "        \"network_interface_name\": \"eth0\",\n",
      "        \"topology\": null\n",
      "    },\n",
      "    \"user_entry_point\": \"train_logistic.py\"\u001b[0m\n",
      "\u001b[34m}\u001b[0m\n",
      "\u001b[34mEnvironment variables:\u001b[0m\n",
      "\u001b[34mSM_HOSTS=[\"algo-1\"]\u001b[0m\n",
      "\u001b[34mSM_NETWORK_INTERFACE_NAME=eth0\u001b[0m\n",
      "\u001b[34mSM_HPS={}\u001b[0m\n",
      "\u001b[34mSM_USER_ENTRY_POINT=train_logistic.py\u001b[0m\n",
      "\u001b[34mSM_FRAMEWORK_PARAMS={}\u001b[0m\n",
      "\u001b[34mSM_RESOURCE_CONFIG={\"current_group_name\":\"homogeneousCluster\",\"current_host\":\"algo-1\",\"current_instance_type\":\"ml.m5.xlarge\",\"hosts\":[\"algo-1\"],\"instance_groups\":[{\"hosts\":[\"algo-1\"],\"instance_group_name\":\"homogeneousCluster\",\"instance_type\":\"ml.m5.xlarge\"}],\"network_interface_name\":\"eth0\",\"topology\":null}\u001b[0m\n",
      "\u001b[34mSM_INPUT_DATA_CONFIG={\"train\":{\"RecordWrapperType\":\"None\",\"S3DistributionType\":\"FullyReplicated\",\"TrainingInputMode\":\"File\"},\"validation\":{\"RecordWrapperType\":\"None\",\"S3DistributionType\":\"FullyReplicated\",\"TrainingInputMode\":\"File\"}}\u001b[0m\n",
      "\u001b[34mSM_OUTPUT_DATA_DIR=/opt/ml/output/data\u001b[0m\n",
      "\u001b[34mSM_CHANNELS=[\"train\",\"validation\"]\u001b[0m\n",
      "\u001b[34mSM_CURRENT_HOST=algo-1\u001b[0m\n",
      "\u001b[34mSM_CURRENT_INSTANCE_TYPE=ml.m5.xlarge\u001b[0m\n",
      "\u001b[34mSM_CURRENT_INSTANCE_GROUP=homogeneousCluster\u001b[0m\n",
      "\u001b[34mSM_CURRENT_INSTANCE_GROUP_HOSTS=[\"algo-1\"]\u001b[0m\n",
      "\u001b[34mSM_INSTANCE_GROUPS=[\"homogeneousCluster\"]\u001b[0m\n",
      "\u001b[34mSM_INSTANCE_GROUPS_DICT={\"homogeneousCluster\":{\"hosts\":[\"algo-1\"],\"instance_group_name\":\"homogeneousCluster\",\"instance_type\":\"ml.m5.xlarge\"}}\u001b[0m\n",
      "\u001b[34mSM_DISTRIBUTION_INSTANCE_GROUPS=[]\u001b[0m\n",
      "\u001b[34mSM_IS_HETERO=false\u001b[0m\n",
      "\u001b[34mSM_MODULE_NAME=train_logistic\u001b[0m\n",
      "\u001b[34mSM_LOG_LEVEL=20\u001b[0m\n",
      "\u001b[34mSM_FRAMEWORK_MODULE=sagemaker_sklearn_container.training:main\u001b[0m\n",
      "\u001b[34mSM_INPUT_DIR=/opt/ml/input\u001b[0m\n",
      "\u001b[34mSM_INPUT_CONFIG_DIR=/opt/ml/input/config\u001b[0m\n",
      "\u001b[34mSM_OUTPUT_DIR=/opt/ml/output\u001b[0m\n",
      "\u001b[34mSM_NUM_CPUS=4\u001b[0m\n",
      "\u001b[34mSM_NUM_GPUS=0\u001b[0m\n",
      "\u001b[34mSM_NUM_NEURONS=0\u001b[0m\n",
      "\u001b[34mSM_MODEL_DIR=/opt/ml/model\u001b[0m\n",
      "\u001b[34mSM_MODULE_DIR=s3://sagemaker-us-east-1-471112536460/hcp-logistic-regression-2025-10-18-11-32-24-792/source/sourcedir.tar.gz\u001b[0m\n",
      "\u001b[34mSM_TRAINING_ENV={\"additional_framework_parameters\":{},\"channel_input_dirs\":{\"train\":\"/opt/ml/input/data/train\",\"validation\":\"/opt/ml/input/data/validation\"},\"current_host\":\"algo-1\",\"current_instance_group\":\"homogeneousCluster\",\"current_instance_group_hosts\":[\"algo-1\"],\"current_instance_type\":\"ml.m5.xlarge\",\"distribution_hosts\":[],\"distribution_instance_groups\":[],\"framework_module\":\"sagemaker_sklearn_container.training:main\",\"hosts\":[\"algo-1\"],\"hyperparameters\":{},\"input_config_dir\":\"/opt/ml/input/config\",\"input_data_config\":{\"train\":{\"RecordWrapperType\":\"None\",\"S3DistributionType\":\"FullyReplicated\",\"TrainingInputMode\":\"File\"},\"validation\":{\"RecordWrapperType\":\"None\",\"S3DistributionType\":\"FullyReplicated\",\"TrainingInputMode\":\"File\"}},\"input_dir\":\"/opt/ml/input\",\"instance_groups\":[\"homogeneousCluster\"],\"instance_groups_dict\":{\"homogeneousCluster\":{\"hosts\":[\"algo-1\"],\"instance_group_name\":\"homogeneousCluster\",\"instance_type\":\"ml.m5.xlarge\"}},\"is_hetero\":false,\"is_master\":true,\"is_modelparallel_enabled\":null,\"is_smddpmprun_installed\":false,\"is_smddprun_installed\":false,\"job_name\":\"hcp-logistic-regression-2025-10-18-11-32-24-792\",\"log_level\":20,\"master_hostname\":\"algo-1\",\"model_dir\":\"/opt/ml/model\",\"module_dir\":\"s3://sagemaker-us-east-1-471112536460/hcp-logistic-regression-2025-10-18-11-32-24-792/source/sourcedir.tar.gz\",\"module_name\":\"train_logistic\",\"network_interface_name\":\"eth0\",\"num_cpus\":4,\"num_gpus\":0,\"num_neurons\":0,\"output_data_dir\":\"/opt/ml/output/data\",\"output_dir\":\"/opt/ml/output\",\"output_intermediate_dir\":\"/opt/ml/output/intermediate\",\"resource_config\":{\"current_group_name\":\"homogeneousCluster\",\"current_host\":\"algo-1\",\"current_instance_type\":\"ml.m5.xlarge\",\"hosts\":[\"algo-1\"],\"instance_groups\":[{\"hosts\":[\"algo-1\"],\"instance_group_name\":\"homogeneousCluster\",\"instance_type\":\"ml.m5.xlarge\"}],\"network_interface_name\":\"eth0\",\"topology\":null},\"user_entry_point\":\"train_logistic.py\"}\u001b[0m\n",
      "\u001b[34mSM_USER_ARGS=[]\u001b[0m\n",
      "\u001b[34mSM_OUTPUT_INTERMEDIATE_DIR=/opt/ml/output/intermediate\u001b[0m\n",
      "\u001b[34mSM_CHANNEL_TRAIN=/opt/ml/input/data/train\u001b[0m\n",
      "\u001b[34mSM_CHANNEL_VALIDATION=/opt/ml/input/data/validation\u001b[0m\n",
      "\u001b[34mPYTHONPATH=/opt/ml/code:/miniconda3/bin:/miniconda3/lib/python39.zip:/miniconda3/lib/python3.9:/miniconda3/lib/python3.9/lib-dynload:/miniconda3/lib/python3.9/site-packages:/miniconda3/lib/python3.9/site-packages/setuptools/_vendor\u001b[0m\n",
      "\u001b[34mInvoking script with the following command:\u001b[0m\n",
      "\u001b[34m/miniconda3/bin/python train_logistic.py\u001b[0m\n",
      "\u001b[34m2025-10-18 11:34:18,951 sagemaker-training-toolkit INFO     Exceptions not imported for SageMaker Debugger as it is not installed.\u001b[0m\n",
      "\u001b[34m2025-10-18 11:34:18,951 sagemaker-training-toolkit INFO     Exceptions not imported for SageMaker TF as Tensorflow is not installed.\u001b[0m\n",
      "\u001b[34mTraining Logistic Regression model...\u001b[0m\n",
      "\u001b[34mModel saved to /opt/ml/model/model.joblib\u001b[0m\n",
      "\u001b[34m2025-10-18 11:34:19,938 sagemaker-containers INFO     Reporting training SUCCESS\u001b[0m\n",
      "\n",
      "2025-10-18 11:34:36 Completed - Training job completed\n",
      "Training seconds: 99\n",
      "Billable seconds: 99\n",
      "Logistic Regression training complete!\n"
     ]
    }
   ],
   "source": [
    "from sagemaker.sklearn.estimator import SKLearn\n",
    "\n",
    "sklearn_estimator_lr = SKLearn(\n",
    "    entry_point='train_logistic.py',\n",
    "    source_dir='code',\n",
    "    framework_version='1.2-1',\n",
    "    instance_type='ml.m5.xlarge',\n",
    "    role=role,\n",
    "    sagemaker_session=sagemaker_session,\n",
    "    base_job_name='hcp-logistic-regression'\n",
    ")\n",
    "\n",
    "print(\"Starting Logistic Regression training...\")\n",
    "sklearn_estimator_lr.fit({\n",
    "    'train': train_data_s3_uri,\n",
    "    'validation': val_data_s3_uri\n",
    "})\n",
    "print(\"Logistic Regression training complete!\")"
   ]
  },
  {
   "cell_type": "markdown",
   "id": "736515ed-5b0a-4bc4-b577-3f3f036a3161",
   "metadata": {},
   "source": [
    "## Random Forest"
   ]
  },
  {
   "cell_type": "code",
   "execution_count": 51,
   "id": "d7721a48-1964-43fe-ac7c-d8d8b358f43a",
   "metadata": {
    "execution": {
     "iopub.execute_input": "2025-10-18T11:35:22.965394Z",
     "iopub.status.busy": "2025-10-18T11:35:22.965111Z",
     "iopub.status.idle": "2025-10-18T11:35:22.970522Z",
     "shell.execute_reply": "2025-10-18T11:35:22.969536Z",
     "shell.execute_reply.started": "2025-10-18T11:35:22.965373Z"
    }
   },
   "outputs": [
    {
     "name": "stdout",
     "output_type": "stream",
     "text": [
      "Overwriting code/train_random_forest.py\n"
     ]
    }
   ],
   "source": [
    "%%writefile code/train_random_forest.py\n",
    "import argparse\n",
    "import os\n",
    "import pandas as pd\n",
    "from sklearn.ensemble import RandomForestClassifier\n",
    "import joblib\n",
    "\n",
    "if __name__ == '__main__':\n",
    "    train_df = pd.read_csv('/opt/ml/input/data/train/train.csv', header=None)\n",
    "    X_train = train_df.iloc[:, 1:]\n",
    "    y_train = train_df.iloc[:, 0]\n",
    "    \n",
    "    print(\"Training Random Forest\")\n",
    "    model = RandomForestClassifier(n_estimators=100, max_depth=15, random_state=42, n_jobs=-1)\n",
    "    model.fit(X_train, y_train)\n",
    "    \n",
    "    model_path = os.path.join('/opt/ml/model', 'model.joblib')\n",
    "    joblib.dump(model, model_path)\n",
    "    print(f\"Model saved to {model_path}\")\n",
    "    \n",
    "    feature_importance = pd.DataFrame({\n",
    "        'feature': [f'feature_{i}' for i in range(X_train.shape[1])],\n",
    "        'importance': model.feature_importances_\n",
    "    }).sort_values('importance', ascending=False)\n",
    "    \n",
    "    print(\"Top 10 Important Features:\")\n",
    "    print(feature_importance.head(10))"
   ]
  },
  {
   "cell_type": "code",
   "execution_count": null,
   "id": "6b22d345-b50c-441b-80f1-cd046eb5c697",
   "metadata": {
    "execution": {
     "iopub.execute_input": "2025-10-18T11:35:23.811812Z",
     "iopub.status.busy": "2025-10-18T11:35:23.811519Z"
    }
   },
   "outputs": [
    {
     "name": "stderr",
     "output_type": "stream",
     "text": [
      "INFO:sagemaker.telemetry.telemetry_logging:SageMaker Python SDK will collect telemetry to help us better understand our user's needs, diagnose issues, and deliver additional features.\n",
      "To opt out of telemetry, please disable via TelemetryOptOut parameter in SDK defaults config. For more information, refer to https://sagemaker.readthedocs.io/en/stable/overview.html#configuring-and-using-defaults-with-the-sagemaker-python-sdk.\n",
      "INFO:sagemaker:Creating training-job with name: hcp-random-forest-2025-10-18-11-35-23-846\n"
     ]
    },
    {
     "name": "stdout",
     "output_type": "stream",
     "text": [
      "Starting Random Forest train\n",
      "2025-10-18 11:35:25 Starting - Starting the training job...\n",
      "2025-10-18 11:35:58 Downloading - Downloading input data...\n",
      "2025-10-18 11:36:18 Downloading - Downloading the training image......\n",
      "2025-10-18 11:37:19 Training - Training image download completed. Training in progress.\n",
      "2025-10-18 11:37:19 Uploading - Uploading generated training model\u001b[34m/miniconda3/lib/python3.9/site-packages/sagemaker_containers/_server.py:22: UserWarning: pkg_resources is deprecated as an API. See https://setuptools.pypa.io/en/latest/pkg_resources.html. The pkg_resources package is slated for removal as early as 2025-11-30. Refrain from using this package or pin to Setuptools<81.\n",
      "  import pkg_resources\u001b[0m\n",
      "\u001b[34m2025-10-18 11:37:14,901 sagemaker-containers INFO     Imported framework sagemaker_sklearn_container.training\u001b[0m\n",
      "\u001b[34m2025-10-18 11:37:14,906 sagemaker-training-toolkit INFO     No GPUs detected (normal if no gpus installed)\u001b[0m\n",
      "\u001b[34m2025-10-18 11:37:14,908 sagemaker-training-toolkit INFO     No Neurons detected (normal if no neurons installed)\u001b[0m\n",
      "\u001b[34m2025-10-18 11:37:14,922 sagemaker_sklearn_container.training INFO     Invoking user training script.\u001b[0m\n",
      "\u001b[34m2025-10-18 11:37:15,199 sagemaker-training-toolkit INFO     No GPUs detected (normal if no gpus installed)\u001b[0m\n",
      "\u001b[34m2025-10-18 11:37:15,203 sagemaker-training-toolkit INFO     No Neurons detected (normal if no neurons installed)\u001b[0m\n",
      "\u001b[34m2025-10-18 11:37:15,220 sagemaker-training-toolkit INFO     No GPUs detected (normal if no gpus installed)\u001b[0m\n",
      "\u001b[34m2025-10-18 11:37:15,223 sagemaker-training-toolkit INFO     No Neurons detected (normal if no neurons installed)\u001b[0m\n",
      "\u001b[34m2025-10-18 11:37:15,240 sagemaker-training-toolkit INFO     No GPUs detected (normal if no gpus installed)\u001b[0m\n",
      "\u001b[34m2025-10-18 11:37:15,242 sagemaker-training-toolkit INFO     No Neurons detected (normal if no neurons installed)\u001b[0m\n",
      "\u001b[34m2025-10-18 11:37:15,257 sagemaker-training-toolkit INFO     Invoking user script\u001b[0m\n",
      "\u001b[34mTraining Env:\u001b[0m\n",
      "\u001b[34m{\n",
      "    \"additional_framework_parameters\": {},\n",
      "    \"channel_input_dirs\": {\n",
      "        \"train\": \"/opt/ml/input/data/train\",\n",
      "        \"validation\": \"/opt/ml/input/data/validation\"\n",
      "    },\n",
      "    \"current_host\": \"algo-1\",\n",
      "    \"current_instance_group\": \"homogeneousCluster\",\n",
      "    \"current_instance_group_hosts\": [\n",
      "        \"algo-1\"\n",
      "    ],\n",
      "    \"current_instance_type\": \"ml.m5.xlarge\",\n",
      "    \"distribution_hosts\": [],\n",
      "    \"distribution_instance_groups\": [],\n",
      "    \"framework_module\": \"sagemaker_sklearn_container.training:main\",\n",
      "    \"hosts\": [\n",
      "        \"algo-1\"\n",
      "    ],\n",
      "    \"hyperparameters\": {},\n",
      "    \"input_config_dir\": \"/opt/ml/input/config\",\n",
      "    \"input_data_config\": {\n",
      "        \"train\": {\n",
      "            \"TrainingInputMode\": \"File\",\n",
      "            \"S3DistributionType\": \"FullyReplicated\",\n",
      "            \"RecordWrapperType\": \"None\"\n",
      "        },\n",
      "        \"validation\": {\n",
      "            \"TrainingInputMode\": \"File\",\n",
      "            \"S3DistributionType\": \"FullyReplicated\",\n",
      "            \"RecordWrapperType\": \"None\"\n",
      "        }\n",
      "    },\n",
      "    \"input_dir\": \"/opt/ml/input\",\n",
      "    \"instance_groups\": [\n",
      "        \"homogeneousCluster\"\n",
      "    ],\n",
      "    \"instance_groups_dict\": {\n",
      "        \"homogeneousCluster\": {\n",
      "            \"instance_group_name\": \"homogeneousCluster\",\n",
      "            \"instance_type\": \"ml.m5.xlarge\",\n",
      "            \"hosts\": [\n",
      "                \"algo-1\"\n",
      "            ]\n",
      "        }\n",
      "    },\n",
      "    \"is_hetero\": false,\n",
      "    \"is_master\": true,\n",
      "    \"is_modelparallel_enabled\": null,\n",
      "    \"is_smddpmprun_installed\": false,\n",
      "    \"is_smddprun_installed\": false,\n",
      "    \"job_name\": \"hcp-random-forest-2025-10-18-11-35-23-846\",\n",
      "    \"log_level\": 20,\n",
      "    \"master_hostname\": \"algo-1\",\n",
      "    \"model_dir\": \"/opt/ml/model\",\n",
      "    \"module_dir\": \"s3://sagemaker-us-east-1-471112536460/hcp-random-forest-2025-10-18-11-35-23-846/source/sourcedir.tar.gz\",\n",
      "    \"module_name\": \"train_random_forest\",\n",
      "    \"network_interface_name\": \"eth0\",\n",
      "    \"num_cpus\": 4,\n",
      "    \"num_gpus\": 0,\n",
      "    \"num_neurons\": 0,\n",
      "    \"output_data_dir\": \"/opt/ml/output/data\",\n",
      "    \"output_dir\": \"/opt/ml/output\",\n",
      "    \"output_intermediate_dir\": \"/opt/ml/output/intermediate\",\n",
      "    \"resource_config\": {\n",
      "        \"current_host\": \"algo-1\",\n",
      "        \"current_instance_type\": \"ml.m5.xlarge\",\n",
      "        \"current_group_name\": \"homogeneousCluster\",\n",
      "        \"hosts\": [\n",
      "            \"algo-1\"\n",
      "        ],\n",
      "        \"instance_groups\": [\n",
      "            {\n",
      "                \"instance_group_name\": \"homogeneousCluster\",\n",
      "                \"instance_type\": \"ml.m5.xlarge\",\n",
      "                \"hosts\": [\n",
      "                    \"algo-1\"\n",
      "                ]\n",
      "            }\n",
      "        ],\n",
      "        \"network_interface_name\": \"eth0\",\n",
      "        \"topology\": null\n",
      "    },\n",
      "    \"user_entry_point\": \"train_random_forest.py\"\u001b[0m\n",
      "\u001b[34m}\u001b[0m\n",
      "\u001b[34mEnvironment variables:\u001b[0m\n",
      "\u001b[34mSM_HOSTS=[\"algo-1\"]\u001b[0m\n",
      "\u001b[34mSM_NETWORK_INTERFACE_NAME=eth0\u001b[0m\n",
      "\u001b[34mSM_HPS={}\u001b[0m\n",
      "\u001b[34mSM_USER_ENTRY_POINT=train_random_forest.py\u001b[0m\n",
      "\u001b[34mSM_FRAMEWORK_PARAMS={}\u001b[0m\n",
      "\u001b[34mSM_RESOURCE_CONFIG={\"current_group_name\":\"homogeneousCluster\",\"current_host\":\"algo-1\",\"current_instance_type\":\"ml.m5.xlarge\",\"hosts\":[\"algo-1\"],\"instance_groups\":[{\"hosts\":[\"algo-1\"],\"instance_group_name\":\"homogeneousCluster\",\"instance_type\":\"ml.m5.xlarge\"}],\"network_interface_name\":\"eth0\",\"topology\":null}\u001b[0m\n",
      "\u001b[34mSM_INPUT_DATA_CONFIG={\"train\":{\"RecordWrapperType\":\"None\",\"S3DistributionType\":\"FullyReplicated\",\"TrainingInputMode\":\"File\"},\"validation\":{\"RecordWrapperType\":\"None\",\"S3DistributionType\":\"FullyReplicated\",\"TrainingInputMode\":\"File\"}}\u001b[0m\n",
      "\u001b[34mSM_OUTPUT_DATA_DIR=/opt/ml/output/data\u001b[0m\n",
      "\u001b[34mSM_CHANNELS=[\"train\",\"validation\"]\u001b[0m\n",
      "\u001b[34mSM_CURRENT_HOST=algo-1\u001b[0m\n",
      "\u001b[34mSM_CURRENT_INSTANCE_TYPE=ml.m5.xlarge\u001b[0m\n",
      "\u001b[34mSM_CURRENT_INSTANCE_GROUP=homogeneousCluster\u001b[0m\n",
      "\u001b[34mSM_CURRENT_INSTANCE_GROUP_HOSTS=[\"algo-1\"]\u001b[0m\n",
      "\u001b[34mSM_INSTANCE_GROUPS=[\"homogeneousCluster\"]\u001b[0m\n",
      "\u001b[34mSM_INSTANCE_GROUPS_DICT={\"homogeneousCluster\":{\"hosts\":[\"algo-1\"],\"instance_group_name\":\"homogeneousCluster\",\"instance_type\":\"ml.m5.xlarge\"}}\u001b[0m\n",
      "\u001b[34mSM_DISTRIBUTION_INSTANCE_GROUPS=[]\u001b[0m\n",
      "\u001b[34mSM_IS_HETERO=false\u001b[0m\n",
      "\u001b[34mSM_MODULE_NAME=train_random_forest\u001b[0m\n",
      "\u001b[34mSM_LOG_LEVEL=20\u001b[0m\n",
      "\u001b[34mSM_FRAMEWORK_MODULE=sagemaker_sklearn_container.training:main\u001b[0m\n",
      "\u001b[34mSM_INPUT_DIR=/opt/ml/input\u001b[0m\n",
      "\u001b[34mSM_INPUT_CONFIG_DIR=/opt/ml/input/config\u001b[0m\n",
      "\u001b[34mSM_OUTPUT_DIR=/opt/ml/output\u001b[0m\n",
      "\u001b[34mSM_NUM_CPUS=4\u001b[0m\n",
      "\u001b[34mSM_NUM_GPUS=0\u001b[0m\n",
      "\u001b[34mSM_NUM_NEURONS=0\u001b[0m\n",
      "\u001b[34mSM_MODEL_DIR=/opt/ml/model\u001b[0m\n",
      "\u001b[34mSM_MODULE_DIR=s3://sagemaker-us-east-1-471112536460/hcp-random-forest-2025-10-18-11-35-23-846/source/sourcedir.tar.gz\u001b[0m\n",
      "\u001b[34mSM_TRAINING_ENV={\"additional_framework_parameters\":{},\"channel_input_dirs\":{\"train\":\"/opt/ml/input/data/train\",\"validation\":\"/opt/ml/input/data/validation\"},\"current_host\":\"algo-1\",\"current_instance_group\":\"homogeneousCluster\",\"current_instance_group_hosts\":[\"algo-1\"],\"current_instance_type\":\"ml.m5.xlarge\",\"distribution_hosts\":[],\"distribution_instance_groups\":[],\"framework_module\":\"sagemaker_sklearn_container.training:main\",\"hosts\":[\"algo-1\"],\"hyperparameters\":{},\"input_config_dir\":\"/opt/ml/input/config\",\"input_data_config\":{\"train\":{\"RecordWrapperType\":\"None\",\"S3DistributionType\":\"FullyReplicated\",\"TrainingInputMode\":\"File\"},\"validation\":{\"RecordWrapperType\":\"None\",\"S3DistributionType\":\"FullyReplicated\",\"TrainingInputMode\":\"File\"}},\"input_dir\":\"/opt/ml/input\",\"instance_groups\":[\"homogeneousCluster\"],\"instance_groups_dict\":{\"homogeneousCluster\":{\"hosts\":[\"algo-1\"],\"instance_group_name\":\"homogeneousCluster\",\"instance_type\":\"ml.m5.xlarge\"}},\"is_hetero\":false,\"is_master\":true,\"is_modelparallel_enabled\":null,\"is_smddpmprun_installed\":false,\"is_smddprun_installed\":false,\"job_name\":\"hcp-random-forest-2025-10-18-11-35-23-846\",\"log_level\":20,\"master_hostname\":\"algo-1\",\"model_dir\":\"/opt/ml/model\",\"module_dir\":\"s3://sagemaker-us-east-1-471112536460/hcp-random-forest-2025-10-18-11-35-23-846/source/sourcedir.tar.gz\",\"module_name\":\"train_random_forest\",\"network_interface_name\":\"eth0\",\"num_cpus\":4,\"num_gpus\":0,\"num_neurons\":0,\"output_data_dir\":\"/opt/ml/output/data\",\"output_dir\":\"/opt/ml/output\",\"output_intermediate_dir\":\"/opt/ml/output/intermediate\",\"resource_config\":{\"current_group_name\":\"homogeneousCluster\",\"current_host\":\"algo-1\",\"current_instance_type\":\"ml.m5.xlarge\",\"hosts\":[\"algo-1\"],\"instance_groups\":[{\"hosts\":[\"algo-1\"],\"instance_group_name\":\"homogeneousCluster\",\"instance_type\":\"ml.m5.xlarge\"}],\"network_interface_name\":\"eth0\",\"topology\":null},\"user_entry_point\":\"train_random_forest.py\"}\u001b[0m\n",
      "\u001b[34mSM_USER_ARGS=[]\u001b[0m\n",
      "\u001b[34mSM_OUTPUT_INTERMEDIATE_DIR=/opt/ml/output/intermediate\u001b[0m\n",
      "\u001b[34mSM_CHANNEL_TRAIN=/opt/ml/input/data/train\u001b[0m\n",
      "\u001b[34mSM_CHANNEL_VALIDATION=/opt/ml/input/data/validation\u001b[0m\n",
      "\u001b[34mPYTHONPATH=/opt/ml/code:/miniconda3/bin:/miniconda3/lib/python39.zip:/miniconda3/lib/python3.9:/miniconda3/lib/python3.9/lib-dynload:/miniconda3/lib/python3.9/site-packages:/miniconda3/lib/python3.9/site-packages/setuptools/_vendor\u001b[0m\n",
      "\u001b[34mInvoking script with the following command:\u001b[0m\n",
      "\u001b[34m/miniconda3/bin/python train_random_forest.py\u001b[0m\n",
      "\u001b[34m2025-10-18 11:37:15,258 sagemaker-training-toolkit INFO     Exceptions not imported for SageMaker Debugger as it is not installed.\u001b[0m\n",
      "\u001b[34m2025-10-18 11:37:15,258 sagemaker-training-toolkit INFO     Exceptions not imported for SageMaker TF as Tensorflow is not installed.\u001b[0m\n",
      "\u001b[34mTraining Random Forest\u001b[0m\n",
      "\u001b[34mModel saved to /opt/ml/model/model.joblib\u001b[0m\n",
      "\u001b[34mTop 10 Important Features:\n",
      "       feature  importance\u001b[0m\n",
      "\u001b[34m7    feature_7    0.092440\u001b[0m\n",
      "\u001b[34m9    feature_9    0.090437\u001b[0m\n",
      "\u001b[34m6    feature_6    0.089707\u001b[0m\n",
      "\u001b[34m10  feature_10    0.088759\u001b[0m\n",
      "\u001b[34m5    feature_5    0.085735\u001b[0m\n",
      "\u001b[34m15  feature_15    0.084150\u001b[0m\n",
      "\u001b[34m8    feature_8    0.072076\u001b[0m\n",
      "\u001b[34m12  feature_12    0.064936\u001b[0m\n",
      "\u001b[34m2    feature_2    0.061303\u001b[0m\n",
      "\u001b[34m14  feature_14    0.057578\u001b[0m\n",
      "\u001b[34m2025-10-18 11:37:16,720 sagemaker-containers INFO     Reporting training SUCCESS\u001b[0m\n"
     ]
    }
   ],
   "source": [
    "sklearn_estimator_rf = SKLearn(\n",
    "    entry_point='train_random_forest.py',\n",
    "    source_dir='code',\n",
    "    framework_version='1.2-1',\n",
    "    instance_type='ml.m5.xlarge',\n",
    "    role=role,\n",
    "    sagemaker_session=sagemaker_session,\n",
    "    base_job_name='hcp-random-forest'\n",
    ")\n",
    "\n",
    "print(\"Starting Random Forest train\")\n",
    "sklearn_estimator_rf.fit({\n",
    "    'train': train_data_s3_uri,\n",
    "    'validation': val_data_s3_uri\n",
    "})\n",
    "print(\"Random Forest training complete\")"
   ]
  },
  {
   "cell_type": "markdown",
   "id": "ebc88682-8922-49af-93f9-8fc6f937719a",
   "metadata": {},
   "source": [
    "## Eval"
   ]
  },
  {
   "cell_type": "code",
   "execution_count": 53,
   "id": "fe937de4-5858-4baf-918d-712277bef070",
   "metadata": {
    "execution": {
     "iopub.execute_input": "2025-10-18T11:49:27.768780Z",
     "iopub.status.busy": "2025-10-18T11:49:27.768516Z",
     "iopub.status.idle": "2025-10-18T11:55:11.331497Z",
     "shell.execute_reply": "2025-10-18T11:55:11.330793Z",
     "shell.execute_reply.started": "2025-10-18T11:49:27.768761Z"
    }
   },
   "outputs": [
    {
     "name": "stderr",
     "output_type": "stream",
     "text": [
      "INFO:sagemaker:Creating processing-job with name hcp-model-evaluation-2025-10-18-11-49-27-926\n"
     ]
    },
    {
     "name": "stdout",
     "output_type": "stream",
     "text": [
      "Evaluating Logistic Regression\n",
      "...............\n",
      "..Evaluating Random Forest\n"
     ]
    },
    {
     "name": "stderr",
     "output_type": "stream",
     "text": [
      "INFO:sagemaker:Creating processing-job with name hcp-model-evaluation-2025-10-18-11-52-19-619\n"
     ]
    },
    {
     "name": "stdout",
     "output_type": "stream",
     "text": [
      "...............\n",
      ".."
     ]
    }
   ],
   "source": [
    "from sagemaker.processing import ScriptProcessor\n",
    "\n",
    "script_processor = ScriptProcessor(\n",
    "    image_uri=sklearn_estimator_rf.training_image_uri(),\n",
    "    command=['python3'],\n",
    "    instance_type='ml.m5.xlarge',\n",
    "    instance_count=1,\n",
    "    base_job_name='hcp-model-evaluation',\n",
    "    role=role,\n",
    "    sagemaker_session=sagemaker_session\n",
    ")\n",
    "\n",
    "models_to_evaluate = [\n",
    "    ('Logistic Regression', sklearn_estimator_lr.model_data),\n",
    "    ('Random Forest', sklearn_estimator_rf.model_data)\n",
    "]\n",
    "\n",
    "evaluation_results = {}\n",
    "\n",
    "for model_name, model_data in models_to_evaluate:\n",
    "    print(f\"Evaluating {model_name}\")\n",
    "    \n",
    "    script_processor.run(\n",
    "        code='code/eval.py',\n",
    "        inputs=[\n",
    "            ProcessingInput(source=model_data, destination='/opt/ml/processing/model'),\n",
    "            ProcessingInput(source=test_data_s3_uri, destination='/opt/ml/processing/test')\n",
    "        ],\n",
    "        outputs=[\n",
    "            ProcessingOutput(output_name='evaluation', source='/opt/ml/processing/evaluation')\n",
    "        ],\n",
    "        arguments=['--model-name', model_name]\n",
    "    )\n",
    "    \n",
    "    # Get evaluation results\n",
    "    job_description = script_processor.jobs[-1].describe()\n",
    "    eval_output_uri = job_description['ProcessingOutputConfig']['Outputs'][0]['S3Output']['S3Uri']\n",
    "    \n",
    "    # Download and parse results\n",
    "    eval_json = sagemaker.s3.S3Downloader.read_file(f'{eval_output_uri}/evaluation.json')\n",
    "    evaluation_results[model_name] = json.loads(eval_json)\n"
   ]
  },
  {
   "cell_type": "code",
   "execution_count": 54,
   "id": "1315a621-b39d-48f5-a378-213db44d3858",
   "metadata": {
    "execution": {
     "iopub.execute_input": "2025-10-18T11:55:29.393028Z",
     "iopub.status.busy": "2025-10-18T11:55:29.392658Z",
     "iopub.status.idle": "2025-10-18T11:55:29.398076Z",
     "shell.execute_reply": "2025-10-18T11:55:29.397299Z",
     "shell.execute_reply.started": "2025-10-18T11:55:29.392990Z"
    }
   },
   "outputs": [
    {
     "name": "stdout",
     "output_type": "stream",
     "text": [
      "Overwriting code/eval.py\n"
     ]
    }
   ],
   "source": [
    "%%writefile code/eval.py\n",
    "import argparse\n",
    "import os\n",
    "import pandas as pd\n",
    "import numpy as np\n",
    "import joblib\n",
    "import json\n",
    "from sklearn.metrics import accuracy_score, precision_score, recall_score, f1_score, classification_report, confusion_matrix\n",
    "import tarfile\n",
    "\n",
    "if __name__ == '__main__':\n",
    "    parser = argparse.ArgumentParser()\n",
    "    parser.add_argument('--model-name', type=str, required=True)\n",
    "    args, _ = parser.parse_known_args()\n",
    "    \n",
    "    model_path = '/opt/ml/processing/model/model.tar.gz'\n",
    "    with tarfile.open(model_path, 'r:gz') as tar:\n",
    "        tar.extractall('/opt/ml/processing/model/')\n",
    "    \n",
    "    model = joblib.load('/opt/ml/processing/model/model.joblib')\n",
    "    \n",
    "    test_df = pd.read_csv('/opt/ml/processing/test/test.csv', header=None)\n",
    "    X_test = test_df.iloc[:, 1:]\n",
    "    y_test = test_df.iloc[:, 0]\n",
    "    \n",
    "    y_pred = model.predict(X_test)\n",
    "    y_pred_proba = model.predict_proba(X_test) if hasattr(model, 'predict_proba') else None\n",
    "    \n",
    "    metrics = {\n",
    "        'model_name': args.model_name,\n",
    "        'accuracy': float(accuracy_score(y_test, y_pred)),\n",
    "        'precision': float(precision_score(y_test, y_pred, average='weighted', zero_division=0)),\n",
    "        'recall': float(recall_score(y_test, y_pred, average='weighted', zero_division=0)),\n",
    "        'f1_score': float(f1_score(y_test, y_pred, average='weighted', zero_division=0))\n",
    "    }\n",
    "    \n",
    "    output_dir = '/opt/ml/processing/evaluation'\n",
    "    os.makedirs(output_dir, exist_ok=True)\n",
    "    \n",
    "    with open(f'{output_dir}/evaluation.json', 'w') as f:\n",
    "        json.dump(metrics, f, indent=2)\n",
    "    \n",
    "    report = classification_report(y_test, y_pred)\n",
    "    with open(f'{output_dir}/classification_report.txt', 'w') as f:\n",
    "        f.write(report)\n"
   ]
  },
  {
   "cell_type": "code",
   "execution_count": 55,
   "id": "40e4795e-2d7d-4d14-9dbd-59ba8757797b",
   "metadata": {
    "execution": {
     "iopub.execute_input": "2025-10-18T11:56:23.552983Z",
     "iopub.status.busy": "2025-10-18T11:56:23.552656Z",
     "iopub.status.idle": "2025-10-18T11:56:24.145461Z",
     "shell.execute_reply": "2025-10-18T11:56:24.144061Z",
     "shell.execute_reply.started": "2025-10-18T11:56:23.552959Z"
    }
   },
   "outputs": [
    {
     "name": "stdout",
     "output_type": "stream",
     "text": [
      "                              model_name  accuracy precision    recall  \\\n",
      "Logistic Regression  Logistic Regression  0.890625  0.874015  0.890625   \n",
      "Random Forest              Random Forest  0.890625  0.887068  0.890625   \n",
      "\n",
      "                     f1_score  \n",
      "Logistic Regression  0.859568  \n",
      "Random Forest        0.852738  \n"
     ]
    },
    {
     "data": {
      "image/png": "[encoded data removed]",
      "text/plain": [
       "<Figure size 1500x1200 with 4 Axes>"
      ]
     },
     "metadata": {},
     "output_type": "display_data"
    },
    {
     "name": "stdout",
     "output_type": "stream",
     "text": [
      "Best Model: Logistic Regression\n",
      "F1-Score: 0.8596\n"
     ]
    }
   ],
   "source": [
    "comparison_df = pd.DataFrame(evaluation_results).T\n",
    "print(comparison_df)\n",
    "\n",
    "fig, axes = plt.subplots(2, 2, figsize=(15, 12))\n",
    "metrics_to_plot = ['accuracy', 'precision', 'recall', 'f1_score']\n",
    "\n",
    "for idx, metric in enumerate(metrics_to_plot):\n",
    "    ax = axes[idx // 2, idx % 2]\n",
    "    comparison_df[metric].plot(kind='bar', ax=ax)\n",
    "    ax.set_title(f'{metric.title()} Comparison', fontsize=14)\n",
    "    ax.set_xlabel('Model')\n",
    "    ax.set_ylabel(metric.title)\n",
    "    ax.set_ylim([0, 1])\n",
    "    ax.grid(True, alpha=0.3)\n",
    "    ax.set_xticklabels(comparison_df.index, rotation=45, ha='right')\n",
    "\n",
    "plt.tight_layout()\n",
    "plt.show()\n",
    "\n",
    "best_model_name = comparison_df['f1_score'].idxmax()\n",
    "print(f\"Best Model: {best_model_name}\")\n",
    "print(f\"F1-Score: {comparison_df.loc[best_model_name, 'f1_score']:.4f}\")\n"
   ]
  },
  {
   "cell_type": "markdown",
   "id": "b7bf04dd-a729-4ec2-ad77-35a6034377e3",
   "metadata": {},
   "source": [
    "# Model Deployment"
   ]
  },
  {
   "cell_type": "code",
   "execution_count": 56,
   "id": "1a062b72-dd85-486a-a02d-ad363aa2e5aa",
   "metadata": {
    "execution": {
     "iopub.execute_input": "2025-10-18T11:56:27.915145Z",
     "iopub.status.busy": "2025-10-18T11:56:27.914868Z",
     "iopub.status.idle": "2025-10-18T11:56:28.044835Z",
     "shell.execute_reply": "2025-10-18T11:56:28.044012Z",
     "shell.execute_reply.started": "2025-10-18T11:56:27.915124Z"
    }
   },
   "outputs": [
    {
     "name": "stdout",
     "output_type": "stream",
     "text": [
      "Best model artifact: s3://sagemaker-us-east-1-471112536460/hcp-logistic-regression-2025-10-18-11-32-24-792/output/model.tar.gz\n",
      "Preprocessing artifacts: s3://sagemaker-us-east-1-471112536460/hcp-marketing-preprocessing-2025-10-18-11-29-21-575/output/model\n"
     ]
    }
   ],
   "source": [
    "model_map = {\n",
    "    'Logistic Regression': sklearn_estimator_lr.model_data,\n",
    "    'Random Forest': sklearn_estimator_rf.model_data\n",
    "}\n",
    "best_model_s3 = model_map[best_model_name]\n",
    "print(f'Best model artifact: {best_model_s3}')\n",
    "\n",
    "preprocess_artifacts_s3 = preprocessing_job_description['ProcessingOutputConfig']['Outputs'][3]['S3Output']['S3Uri']\n",
    "print(f'Preprocessing artifacts: {preprocess_artifacts_s3}')\n"
   ]
  },
  {
   "cell_type": "code",
   "execution_count": 57,
   "id": "5c28ad82-1ffa-49f6-bcc2-93e4238a0f94",
   "metadata": {
    "execution": {
     "iopub.execute_input": "2025-10-18T11:56:30.691742Z",
     "iopub.status.busy": "2025-10-18T11:56:30.691471Z",
     "iopub.status.idle": "2025-10-18T11:56:31.384186Z",
     "shell.execute_reply": "2025-10-18T11:56:31.383359Z",
     "shell.execute_reply.started": "2025-10-18T11:56:30.691722Z"
    }
   },
   "outputs": [
    {
     "name": "stdout",
     "output_type": "stream",
     "text": [
      "Deploy bundle uploaded: s3://sagemaker-us-east-1-471112536460/hcp-marketing-campaign-prediction/models/best/model_repacked.tar.gz\n"
     ]
    }
   ],
   "source": [
    "!mkdir -p deploy_bundle && rm -rf deploy_bundle/*\n",
    "from sagemaker.s3 import S3Downloader, S3Uploader\n",
    "import tarfile, os, shutil, joblib\n",
    "\n",
    "local_model_tar = 'deploy_bundle/model.tar.gz'\n",
    "local_model_dir = 'deploy_bundle/model_dir'\n",
    "local_pre_dir = 'deploy_bundle/pre_dir'\n",
    "os.makedirs(local_model_dir, exist_ok=True)\n",
    "os.makedirs(local_pre_dir, exist_ok=True)\n",
    "\n",
    "S3Downloader.download(best_model_s3, 'deploy_bundle/')\n",
    "S3Downloader.download(preprocess_artifacts_s3, local_pre_dir)\n",
    "\n",
    "with tarfile.open(local_model_tar, 'r:gz') as tar:\n",
    "    tar.extractall(local_model_dir)\n",
    "\n",
    "shutil.copy(os.path.join(local_pre_dir, 'scaler.joblib'), os.path.join(local_model_dir, 'scaler.joblib'))\n",
    "shutil.copy(os.path.join(local_pre_dir, 'label_encoders.joblib'), os.path.join(local_model_dir, 'label_encoders.joblib'))\n",
    "\n",
    "repacked_tar = 'deploy_bundle/model_repacked.tar.gz'\n",
    "with tarfile.open(repacked_tar, 'w:gz') as tar:\n",
    "    for f in os.listdir(local_model_dir):\n",
    "        tar.add(os.path.join(local_model_dir, f), arcname=f)\n",
    "\n",
    "deploy_model_s3 = S3Uploader.upload(repacked_tar, f\"s3://{default_bucket}/{model_prefix}/best\")\n",
    "print(f'Deploy bundle uploaded: {deploy_model_s3}')\n"
   ]
  },
  {
   "cell_type": "code",
   "execution_count": 58,
   "id": "d30b35da-7678-49fe-b825-84278a35906d",
   "metadata": {
    "execution": {
     "iopub.execute_input": "2025-10-18T11:56:39.462131Z",
     "iopub.status.busy": "2025-10-18T11:56:39.461821Z",
     "iopub.status.idle": "2025-10-18T11:56:39.468258Z",
     "shell.execute_reply": "2025-10-18T11:56:39.467602Z",
     "shell.execute_reply.started": "2025-10-18T11:56:39.462107Z"
    }
   },
   "outputs": [
    {
     "name": "stdout",
     "output_type": "stream",
     "text": [
      "Overwriting code/inference.py\n"
     ]
    }
   ],
   "source": [
    "%%writefile code/inference.py\n",
    "import json, joblib, numpy as np, pandas as pd, os, glob\n",
    "\n",
    "FEATURE_COLUMNS = ['Age','Gender','Income','CampaignChannel','CampaignType',\n",
    "                   'AdSpend','ClickThroughRate','ConversionRate','WebsiteVisits',\n",
    "                   'PagesPerVisit','TimeOnSite','SocialShares','EmailOpens',\n",
    "                   'EmailClicks','PreviousPurchases','LoyaltyPoints',\n",
    "                   'AdvertisingPlatform','AdvertisingTool']\n",
    "\n",
    "def _load_model(model_dir):\n",
    "    cands = ['model.joblib','model.pkl','estimator.joblib','estimator.pkl']\n",
    "    for p in cands:\n",
    "        fp = os.path.join(model_dir, p)\n",
    "        if os.path.exists(fp):\n",
    "            return joblib.load(fp)\n",
    "    any_joblib = glob.glob(os.path.join(model_dir, '*.joblib')) + glob.glob(os.path.join(model_dir, '*.pkl'))\n",
    "    if any_joblib:\n",
    "        return joblib.load(any_joblib[0])\n",
    "    raise RuntimeError('Model file not found')\n",
    "\n",
    "def model_fn(model_dir):\n",
    "    model = _load_model(model_dir)\n",
    "    scaler = joblib.load(os.path.join(model_dir,'scaler.joblib'))\n",
    "    encoders = joblib.load(os.path.join(model_dir,'label_encoders.joblib'))\n",
    "    return {'model': model, 'scaler': scaler, 'encoders': encoders}\n",
    "\n",
    "def input_fn(request_body, request_content_type='application/json'):\n",
    "    if request_content_type == 'application/json':\n",
    "        payload = json.loads(request_body)\n",
    "        recs = payload if isinstance(payload, list) else payload.get('instances', [payload])\n",
    "        return pd.DataFrame(recs)\n",
    "    raise ValueError('Unsupported content type')\n",
    "\n",
    "def _safe_encode(series, le):\n",
    "    classes = {c:i for i,c in enumerate(le.classes_)}\n",
    "    return series.astype(str).map(classes).fillna(-1).astype(int)\n",
    "\n",
    "def _prep(df, encoders, scaler):\n",
    "    df = df.copy()\n",
    "    for c in ['Gender','CampaignChannel','CampaignType','AdvertisingPlatform','AdvertisingTool']:\n",
    "        df[c] = _safe_encode(df[c], encoders[c])\n",
    "    num = ['Age','Income','AdSpend','ClickThroughRate','ConversionRate','WebsiteVisits',\n",
    "           'PagesPerVisit','TimeOnSite','SocialShares','EmailOpens','EmailClicks',\n",
    "           'PreviousPurchases','LoyaltyPoints']\n",
    "    df[num] = scaler.transform(df[num])\n",
    "    df = df.reindex(columns=FEATURE_COLUMNS)\n",
    "    return df.values\n",
    "\n",
    "def predict_fn(df, art):\n",
    "    X = _prep(df, art['encoders'], art['scaler'])\n",
    "    m = art['model']\n",
    "    if hasattr(m,'predict_proba'):\n",
    "        s = m.predict_proba(X)[:,1]\n",
    "    else:\n",
    "        s = m.decision_function(X)\n",
    "        if s.ndim==1: pass\n",
    "        else: s = s[:,0]\n",
    "    y = (s >= 0.5).astype(int)\n",
    "    return {'predictions': y.tolist(), 'scores': s.tolist()}\n",
    "\n",
    "def output_fn(prediction, accept='application/json'):\n",
    "    return json.dumps(prediction), accept\n",
    "\n"
   ]
  },
  {
   "cell_type": "code",
   "execution_count": 59,
   "id": "2266c548-500b-4650-8634-63399a73c179",
   "metadata": {
    "execution": {
     "iopub.execute_input": "2025-10-18T11:56:41.696631Z",
     "iopub.status.busy": "2025-10-18T11:56:41.696363Z",
     "iopub.status.idle": "2025-10-18T11:56:41.976662Z",
     "shell.execute_reply": "2025-10-18T11:56:41.975776Z",
     "shell.execute_reply.started": "2025-10-18T11:56:41.696611Z"
    }
   },
   "outputs": [
    {
     "data": {
      "text/plain": [
       "'s3://sagemaker-us-east-1-471112536460/hcp-marketing-campaign-prediction/models/best/model_repacked.tar.gz'"
      ]
     },
     "execution_count": 59,
     "metadata": {},
     "output_type": "execute_result"
    }
   ],
   "source": [
    "!rm -f deploy_bundle/model_repacked.tar.gz\n",
    "with tarfile.open('deploy_bundle/model_repacked.tar.gz', 'w:gz') as tar:\n",
    "    for f in os.listdir('deploy_bundle/model_dir'):\n",
    "        tar.add(os.path.join('deploy_bundle/model_dir', f), arcname=f)\n",
    "\n",
    "from sagemaker.s3 import S3Uploader\n",
    "deploy_model_s3 = S3Uploader.upload('deploy_bundle/model_repacked.tar.gz', f\"s3://{default_bucket}/{model_prefix}/best\")\n",
    "deploy_model_s3"
   ]
  },
  {
   "cell_type": "code",
   "execution_count": 60,
   "id": "34cf0aea-1313-42d3-ae22-20569cef5906",
   "metadata": {
    "execution": {
     "iopub.execute_input": "2025-10-18T11:56:45.753375Z",
     "iopub.status.busy": "2025-10-18T11:56:45.753077Z",
     "iopub.status.idle": "2025-10-18T12:00:18.429288Z",
     "shell.execute_reply": "2025-10-18T12:00:18.428613Z",
     "shell.execute_reply.started": "2025-10-18T11:56:45.753351Z"
    }
   },
   "outputs": [
    {
     "name": "stderr",
     "output_type": "stream",
     "text": [
      "INFO:sagemaker:Creating model with name: sagemaker-scikit-learn-2025-10-18-11-56-46-353\n",
      "INFO:sagemaker:Creating endpoint-config with name hcp-best-model-18-11-56-45\n",
      "INFO:sagemaker:Creating endpoint with name hcp-best-model-18-11-56-45\n"
     ]
    },
    {
     "name": "stdout",
     "output_type": "stream",
     "text": [
      "------!"
     ]
    },
    {
     "data": {
      "text/plain": [
       "'hcp-best-model-18-11-56-45'"
      ]
     },
     "execution_count": 60,
     "metadata": {},
     "output_type": "execute_result"
    }
   ],
   "source": [
    "from sagemaker.sklearn.model import SKLearnModel\n",
    "from time import strftime, gmtime\n",
    "\n",
    "endpoint_name = f\"hcp-best-model-{strftime('%d-%H-%M-%S', gmtime())}\"\n",
    "\n",
    "sk_model = SKLearnModel(\n",
    "    model_data=deploy_model_s3,\n",
    "    role=role,\n",
    "    entry_point='inference.py',\n",
    "    source_dir='code',\n",
    "    framework_version='1.2-1',\n",
    "    sagemaker_session=sagemaker_session\n",
    ")\n",
    "\n",
    "predictor = sk_model.deploy(\n",
    "    initial_instance_count=1,\n",
    "    instance_type='ml.m5.large',\n",
    "    endpoint_name=endpoint_name\n",
    ")\n",
    "endpoint_name"
   ]
  },
  {
   "cell_type": "code",
   "execution_count": 61,
   "id": "dae7740a-ff7f-48b2-9bc1-3c62de949869",
   "metadata": {
    "execution": {
     "iopub.execute_input": "2025-10-18T12:00:18.431241Z",
     "iopub.status.busy": "2025-10-18T12:00:18.430712Z",
     "iopub.status.idle": "2025-10-18T12:00:18.435842Z",
     "shell.execute_reply": "2025-10-18T12:00:18.435144Z",
     "shell.execute_reply.started": "2025-10-18T12:00:18.431191Z"
    }
   },
   "outputs": [
    {
     "name": "stdout",
     "output_type": "stream",
     "text": [
      "['model.joblib']\n"
     ]
    }
   ],
   "source": [
    "import tarfile\n",
    "with tarfile.open('deploy_bundle/model.tar.gz','r:gz') as t:\n",
    "    print(t.getnames())"
   ]
  },
  {
   "cell_type": "code",
   "execution_count": 62,
   "id": "f16e8af7-1007-4d0b-a698-15ad104803ca",
   "metadata": {
    "execution": {
     "iopub.execute_input": "2025-10-18T12:00:18.436961Z",
     "iopub.status.busy": "2025-10-18T12:00:18.436653Z",
     "iopub.status.idle": "2025-10-18T12:00:18.441100Z",
     "shell.execute_reply": "2025-10-18T12:00:18.440242Z",
     "shell.execute_reply.started": "2025-10-18T12:00:18.436933Z"
    }
   },
   "outputs": [],
   "source": [
    "from sagemaker.serializers import JSONSerializer\n",
    "from sagemaker.deserializers import JSONDeserializer\n",
    "from sagemaker.predictor import Predictor\n",
    "\n",
    "predictor = Predictor(\n",
    "    endpoint_name=endpoint_name,\n",
    "    sagemaker_session=sagemaker_session,\n",
    "    serializer=JSONSerializer(),\n",
    "    deserializer=JSONDeserializer()\n",
    ")"
   ]
  },
  {
   "cell_type": "code",
   "execution_count": 63,
   "id": "d863df6a-0269-4db0-a8bb-79c9b56f99ee",
   "metadata": {
    "execution": {
     "iopub.execute_input": "2025-10-18T12:00:18.443079Z",
     "iopub.status.busy": "2025-10-18T12:00:18.442722Z",
     "iopub.status.idle": "2025-10-18T12:00:18.672851Z",
     "shell.execute_reply": "2025-10-18T12:00:18.672150Z",
     "shell.execute_reply.started": "2025-10-18T12:00:18.443056Z"
    }
   },
   "outputs": [
    {
     "name": "stdout",
     "output_type": "stream",
     "text": [
      "{'predictions': [1], 'scores': [0.6705589595305114]}\n"
     ]
    }
   ],
   "source": [
    "FEATURE_COLUMNS = [\n",
    "    'Age','Gender','Income','CampaignChannel','CampaignType','AdSpend',\n",
    "    'ClickThroughRate','ConversionRate','WebsiteVisits','PagesPerVisit',\n",
    "    'TimeOnSite','SocialShares','EmailOpens','EmailClicks','PreviousPurchases',\n",
    "    'LoyaltyPoints','AdvertisingPlatform','AdvertisingTool'\n",
    "]\n",
    "\n",
    "sample = df.iloc[[0]][FEATURE_COLUMNS].to_dict(orient='records')\n",
    "res = predictor.predict(sample)\n",
    "print(res)"
   ]
  },
  {
   "cell_type": "code",
   "execution_count": 64,
   "id": "8b13e64b-c10f-408f-8505-d1f059885c7d",
   "metadata": {
    "execution": {
     "iopub.execute_input": "2025-10-18T12:15:21.511002Z",
     "iopub.status.busy": "2025-10-18T12:15:21.510736Z",
     "iopub.status.idle": "2025-10-18T12:15:21.696551Z",
     "shell.execute_reply": "2025-10-18T12:15:21.695940Z",
     "shell.execute_reply.started": "2025-10-18T12:15:21.510982Z"
    }
   },
   "outputs": [
    {
     "name": "stdout",
     "output_type": "stream",
     "text": [
      "InService\n"
     ]
    }
   ],
   "source": [
    "import boto3, time\n",
    "sm = boto3.client('sagemaker')\n",
    "\n",
    "while True:\n",
    "    status = sm.describe_endpoint(EndpointName=endpoint_name)['EndpointStatus']\n",
    "    print(status)\n",
    "    if status in ['InService', 'Failed']:\n",
    "        break\n",
    "    time.sleep(60)"
   ]
  },
  {
   "cell_type": "markdown",
   "id": "8be93e5d-0201-492a-8452-d48bc7200399",
   "metadata": {},
   "source": [
    "# Model Monitoring"
   ]
  },
  {
   "cell_type": "code",
   "execution_count": 65,
   "id": "8fae82e8-2ce1-419f-9897-2269df1445ff",
   "metadata": {
    "execution": {
     "iopub.execute_input": "2025-10-18T13:21:12.178905Z",
     "iopub.status.busy": "2025-10-18T13:21:12.178615Z",
     "iopub.status.idle": "2025-10-18T13:21:12.208692Z",
     "shell.execute_reply": "2025-10-18T13:21:12.207986Z",
     "shell.execute_reply.started": "2025-10-18T13:21:12.178882Z"
    }
   },
   "outputs": [],
   "source": [
    "from sagemaker.model_monitor import DataCaptureConfig\n",
    "\n",
    "data_capture_s3 = \"s3://{default_bucket}/{model_prefix}/datacapture\"\n",
    "capture_cfg = DataCaptureConfig(\n",
    "    enable_capture=True,\n",
    "    sampling_percentage=100,\n",
    "    destination_s3_uri=data_capture_s3,\n",
    "    capture_options=[\"Input\", \"Output\"],\n",
    ")"
   ]
  },
  {
   "cell_type": "code",
   "execution_count": 67,
   "id": "418fd31e-dd32-4990-84c0-8416de73dc03",
   "metadata": {
    "execution": {
     "iopub.execute_input": "2025-10-18T13:22:42.519759Z",
     "iopub.status.busy": "2025-10-18T13:22:42.519451Z",
     "iopub.status.idle": "2025-10-18T13:22:43.675420Z",
     "shell.execute_reply": "2025-10-18T13:22:43.674670Z",
     "shell.execute_reply.started": "2025-10-18T13:22:42.519737Z"
    }
   },
   "outputs": [
    {
     "name": "stdout",
     "output_type": "stream",
     "text": [
      "hcp-best-model-18-11-56-45-cfg-capture Updating\n"
     ]
    }
   ],
   "source": [
    "import boto3\n",
    "sm = boto3.client(\"sagemaker\")\n",
    "\n",
    "ep_desc = sm.describe_endpoint(EndpointName=endpoint_name)\n",
    "cfg_old = ep_desc[\"EndpointConfigName\"]\n",
    "\n",
    "mdl_desc = sm.describe_endpoint_config(EndpointConfigName=cfg_old)\n",
    "pv = mdl_desc[\"ProductionVariants\"][0]\n",
    "model_name = pv[\"ModelName\"]\n",
    "instance_type = pv[\"InstanceType\"]\n",
    "variant_name = pv[\"VariantName\"]\n",
    "initial_instance_count = pv[\"InitialInstanceCount\"]\n",
    "\n",
    "cfg_new = f\"{endpoint_name}-cfg-capture\"\n",
    "\n",
    "sm.create_endpoint_config(\n",
    "    EndpointConfigName=cfg_new,\n",
    "    ProductionVariants=[\n",
    "        {\n",
    "            \"ModelName\": model_name,\n",
    "            \"VariantName\": variant_name,\n",
    "            \"InitialInstanceCount\": initial_instance_count,\n",
    "            \"InstanceType\": instance_type,\n",
    "            \"InitialVariantWeight\": 1.0,\n",
    "        },\n",
    "    ],\n",
    "    DataCaptureConfig=capture_cfg._to_request_dict(),\n",
    ")\n",
    "\n",
    "sm.update_endpoint(EndpointName=endpoint_name, EndpointConfigName=cfg_new)\n",
    "print(cfg_new, sm.describe_endpoint(EndpointName=endpoint_name)[\"EndpointStatus\"])"
   ]
  },
  {
   "cell_type": "code",
   "execution_count": 68,
   "id": "352ddfee-05ee-499e-ae95-53a476902a67",
   "metadata": {
    "execution": {
     "iopub.execute_input": "2025-10-18T13:24:35.189107Z",
     "iopub.status.busy": "2025-10-18T13:24:35.188841Z",
     "iopub.status.idle": "2025-10-18T13:24:35.290464Z",
     "shell.execute_reply": "2025-10-18T13:24:35.289789Z",
     "shell.execute_reply.started": "2025-10-18T13:24:35.189087Z"
    }
   },
   "outputs": [],
   "source": [
    "payload = df.sample(5, random_state=8)[FEATURE_COLUMNS].to_dict(orient=\"records\")\n",
    "_ = predictor.predict(payload)"
   ]
  },
  {
   "cell_type": "code",
   "execution_count": 69,
   "id": "76631312-17f2-4a79-a26f-48e75008b038",
   "metadata": {
    "execution": {
     "iopub.execute_input": "2025-10-18T13:24:59.182456Z",
     "iopub.status.busy": "2025-10-18T13:24:59.182184Z",
     "iopub.status.idle": "2025-10-18T13:24:59.255140Z",
     "shell.execute_reply": "2025-10-18T13:24:59.254349Z",
     "shell.execute_reply.started": "2025-10-18T13:24:59.182435Z"
    }
   },
   "outputs": [
    {
     "name": "stdout",
     "output_type": "stream",
     "text": [
      "hcp-marketing-campaign-prediction/models/datacapture/hcp-best-model-18-06-06-01/AllTraffic/2025/10/18/07/26-24-844-77fce1df-09a8-4f95-8bab-b49a8f1522ed.jsonl 2025-10-18 07:27:27+00:00\n"
     ]
    }
   ],
   "source": [
    "import boto3\n",
    "s3 = boto3.client(\"s3\")\n",
    "\n",
    "bucket = default_bucket\n",
    "prefix = f\"{model_prefix}/datacapture\"\n",
    "resp = s3.list_objects_v2(Bucket=bucket, Prefix=prefix)\n",
    "\n",
    "for c in resp.get(\"Contents\", []):\n",
    "    print(c[\"Key\"], c[\"LastModified\"])"
   ]
  },
  {
   "cell_type": "code",
   "execution_count": 70,
   "id": "b76d976f-73ad-4605-bbc6-6e5a3d29e873",
   "metadata": {
    "execution": {
     "iopub.execute_input": "2025-10-18T13:25:15.970761Z",
     "iopub.status.busy": "2025-10-18T13:25:15.970381Z",
     "iopub.status.idle": "2025-10-18T13:25:16.087144Z",
     "shell.execute_reply": "2025-10-18T13:25:16.086454Z",
     "shell.execute_reply.started": "2025-10-18T13:25:15.970734Z"
    }
   },
   "outputs": [
    {
     "data": {
      "text/plain": [
       "'s3://sagemaker-us-east-1-471112536460/hcp-marketing-campaign-prediction/models/baseline/input/baseline.jsonl'"
      ]
     },
     "execution_count": 70,
     "metadata": {},
     "output_type": "execute_result"
    }
   ],
   "source": [
    "import json, os, boto3, tempfile, pathlib\n",
    "\n",
    "s3 = boto3.client(\"s3\")\n",
    "baseline_prefix = f\"{model_prefix}/baseline\"\n",
    "os.makedirs(\"baseline\", exist_ok=True)\n",
    "baseline_file = \"baseline/baseline.jsonl\"\n",
    "\n",
    "with open(baseline_file, \"w\") as f:\n",
    "    for r in df.sample(100, random_state=42).to_dict(orient=\"records\"):\n",
    "        f.write(json.dumps(r) + \"\\n\")\n",
    "\n",
    "s3.upload_file(baseline_file, default_bucket, f\"{baseline_prefix}/input/baseline.jsonl\")\n",
    "baseline_s3 = f\"s3://{default_bucket}/{baseline_prefix}/input/baseline.jsonl\"\n",
    "baseline_s3"
   ]
  },
  {
   "cell_type": "code",
   "execution_count": 71,
   "id": "7e57dc8f-9a30-4284-ab8e-ef5e434461c4",
   "metadata": {
    "execution": {
     "iopub.execute_input": "2025-10-18T13:25:37.051151Z",
     "iopub.status.busy": "2025-10-18T13:25:37.050888Z",
     "iopub.status.idle": "2025-10-18T13:30:53.234692Z",
     "shell.execute_reply": "2025-10-18T13:30:53.233968Z",
     "shell.execute_reply.started": "2025-10-18T13:25:37.051131Z"
    }
   },
   "outputs": [
    {
     "name": "stderr",
     "output_type": "stream",
     "text": [
      "INFO:sagemaker.image_uris:Ignoring unnecessary instance type: None.\n",
      "INFO:sagemaker:Creating processing-job with name fdg-baseline-18-13-25-37\n"
     ]
    },
    {
     "name": "stdout",
     "output_type": "stream",
     "text": [
      "InProgress\n",
      "InProgress\n",
      "InProgress\n",
      "InProgress\n",
      "InProgress\n",
      "InProgress\n",
      "InProgress\n",
      "InProgress\n",
      "InProgress\n",
      "InProgress\n",
      "InProgress\n",
      "InProgress\n",
      "InProgress\n",
      "InProgress\n",
      "InProgress\n",
      "InProgress\n",
      "InProgress\n",
      "InProgress\n",
      "InProgress\n",
      "InProgress\n",
      "InProgress\n",
      "Failed\n"
     ]
    }
   ],
   "source": [
    "import sagemaker\n",
    "from sagemaker.model_monitor import DefaultModelMonitor, DatasetFormat\n",
    "from time import strftime, gmtime\n",
    "import boto3, time\n",
    "\n",
    "role  = sagemaker.get_execution_role()\n",
    "sess  = sagemaker.Session()\n",
    "sm    = boto3.client(\"sagemaker\")\n",
    "\n",
    "monitor = DefaultModelMonitor(\n",
    "    role=role,\n",
    "    instance_count=1,\n",
    "    instance_type=\"ml.m5.large\",\n",
    "    volume_size_in_gb=20,\n",
    "    max_runtime_in_seconds=3600,\n",
    "    sagemaker_session=sess,\n",
    ")\n",
    "\n",
    "baseline_job    = f\"fdg-baseline-{strftime('%d-%H-%M-%S', gmtime())}\"\n",
    "baseline_output = f\"s3://{default_bucket}/{model_prefix}/baseline/output\"\n",
    "\n",
    "monitor.suggest_baseline(\n",
    "    job_name=baseline_job,\n",
    "    baseline_dataset=baseline_s3,\n",
    "    dataset_format=DatasetFormat.json(),\n",
    "    output_s3_uri=baseline_output,\n",
    "    wait=False,\n",
    "    logs=False,\n",
    ")\n",
    "\n",
    "def baseline_status(name):\n",
    "    return sm.describe_processing_job(ProcessingJobName=name)[\"ProcessingJobStatus\"]\n",
    "\n",
    "while True:\n",
    "    s = baseline_status(baseline_job)\n",
    "    print(s)\n",
    "    if s in (\"Completed\", \"Failed\", \"Stopped\"):\n",
    "        break\n",
    "    time.sleep(15)"
   ]
  },
  {
   "cell_type": "code",
   "execution_count": 72,
   "id": "dd463c9c-1626-423e-8970-0bafc03158e5",
   "metadata": {
    "execution": {
     "iopub.execute_input": "2025-10-18T13:32:45.571952Z",
     "iopub.status.busy": "2025-10-18T13:32:45.571686Z",
     "iopub.status.idle": "2025-10-18T13:32:45.637614Z",
     "shell.execute_reply": "2025-10-18T13:32:45.636953Z",
     "shell.execute_reply.started": "2025-10-18T13:32:45.571933Z"
    }
   },
   "outputs": [
    {
     "name": "stdout",
     "output_type": "stream",
     "text": [
      "Status: Failed\n",
      "FailureReason: AlgorithmError: Error: Could not find any json file under directory /opt/ml/processing/input/baseline_dataset_input. Please verify if the provided dataset path is correct or if data capturing in your Endpoint is turned on., exit code: 255\n",
      "ExitMessage: Error: Could not find any json file under directory /opt/ml/processing/input/baseline_dataset_input. Please verify if the provided dataset path is correct or if data capturing in your Endpoint is turned on.\n",
      "Logs: {'InstanceCount': 1, 'InstanceType': 'ml.m5.large', 'VolumeSizeInGB': 20}\n"
     ]
    }
   ],
   "source": [
    "import boto3, json\n",
    "sm = boto3.client(\"sagemaker\")\n",
    "\n",
    "desc = sm.describe_processing_job(ProcessingJobName=baseline_job)\n",
    "print(\"Status:\", desc[\"ProcessingJobStatus\"])\n",
    "print(\"FailureReason:\", desc.get(\"FailureReason\"))\n",
    "print(\"ExitMessage:\", desc.get(\"ExitMessage\"))\n",
    "print(\"Logs:\", desc[\"ProcessingResources\"][\"ClusterConfig\"])"
   ]
  },
  {
   "cell_type": "code",
   "execution_count": 73,
   "id": "714cf09b-2fd6-4a95-8c05-8e7995d4ff61",
   "metadata": {
    "execution": {
     "iopub.execute_input": "2025-10-18T13:35:12.406546Z",
     "iopub.status.busy": "2025-10-18T13:35:12.406271Z",
     "iopub.status.idle": "2025-10-18T13:35:12.713343Z",
     "shell.execute_reply": "2025-10-18T13:35:12.712603Z",
     "shell.execute_reply.started": "2025-10-18T13:35:12.406526Z"
    }
   },
   "outputs": [
    {
     "data": {
      "text/plain": [
       "'s3://sagemaker-us-east-1-471112536460/hcp-marketing-campaign-prediction/models/baseline/input/baseline.csv'"
      ]
     },
     "execution_count": 73,
     "metadata": {},
     "output_type": "execute_result"
    }
   ],
   "source": [
    "import boto3\n",
    "s3 = boto3.client(\"s3\")\n",
    "\n",
    "csv_path = \"baseline/baseline.csv\"\n",
    "df[FEATURE_COLUMNS].dropna().to_csv(csv_path, index=False, header=True)\n",
    "\n",
    "key = f\"{model_prefix}/baseline/input/baseline.csv\"\n",
    "s3.upload_file(csv_path, default_bucket, key)\n",
    "baseline_s3 = f\"s3://{default_bucket}/{key}\"\n",
    "baseline_s3"
   ]
  },
  {
   "cell_type": "code",
   "execution_count": null,
   "id": "a9cd9196-ab37-4395-9c18-d33e76e2fbd0",
   "metadata": {
    "execution": {
     "iopub.execute_input": "2025-10-18T13:35:26.661992Z",
     "iopub.status.busy": "2025-10-18T13:35:26.661687Z",
     "iopub.status.idle": "2025-10-18T13:40:43.091755Z"
    }
   },
   "outputs": [
    {
     "name": "stderr",
     "output_type": "stream",
     "text": [
      "INFO:sagemaker.image_uris:Ignoring unnecessary instance type: None.\n",
      "INFO:sagemaker:Creating processing-job with name fdg-baseline-18-13-35-26\n"
     ]
    },
    {
     "name": "stdout",
     "output_type": "stream",
     "text": [
      "InProgress\n",
      "InProgress\n",
      "InProgress\n",
      "InProgress\n",
      "InProgress\n",
      "InProgress\n",
      "InProgress\n",
      "InProgress\n",
      "InProgress\n",
      "InProgress\n",
      "InProgress\n",
      "InProgress\n",
      "InProgress\n",
      "InProgress\n",
      "InProgress\n",
      "InProgress\n",
      "InProgress\n",
      "InProgress\n",
      "InProgress\n",
      "InProgress\n",
      "InProgress\n",
      "Completed\n"
     ]
    }
   ],
   "source": [
    "import sagemaker, boto3, time\n",
    "from sagemaker.model_monitor import DefaultModelMonitor, DatasetFormat\n",
    "from time import strftime, gmtime\n",
    "\n",
    "role = sagemaker.get_execution_role()\n",
    "sess = sagemaker.Session()\n",
    "sm = boto3.client(\"sagemaker\")\n",
    "\n",
    "monitor = DefaultModelMonitor(\n",
    "    role=role,\n",
    "    instance_count=1,\n",
    "    instance_type=\"ml.m5.large\",\n",
    "    volume_size_in_gb=20,\n",
    "    max_runtime_in_seconds=3600,\n",
    "    sagemaker_session=sess,\n",
    ")\n",
    "\n",
    "baseline_job    = f\"fdg-baseline-{strftime('%d-%H-%M-%S', gmtime())}\"\n",
    "baseline_output = f\"s3://{default_bucket}/{model_prefix}/baseline/output\"\n",
    "\n",
    "monitor.suggest_baseline(\n",
    "    job_name=baseline_job,\n",
    "    baseline_dataset=baseline_s3,\n",
    "    dataset_format=DatasetFormat.csv(header=True),\n",
    "    output_s3_uri=baseline_output,\n",
    "    wait=False,\n",
    "    logs=False,\n",
    ")\n",
    "\n",
    "def status(name):\n",
    "    return sm.describe_processing_job(ProcessingJobName=name)[\"ProcessingJobStatus\"]\n",
    "\n",
    "while True:\n",
    "    s = status(baseline_job)\n",
    "    print(s)\n",
    "    if s in (\"Completed\", \"Failed\", \"Stopped\"):\n",
    "        break\n",
    "    time.sleep(15)"
   ]
  },
  {
   "cell_type": "code",
   "execution_count": 78,
   "id": "b81015a8-5c8a-482f-887f-6aad1a5f1a31",
   "metadata": {
    "execution": {
     "iopub.execute_input": "2025-10-18T13:47:13.787855Z",
     "iopub.status.busy": "2025-10-18T13:47:13.787565Z",
     "iopub.status.idle": "2025-10-18T13:47:14.859734Z",
     "shell.execute_reply": "2025-10-18T13:47:14.859043Z",
     "shell.execute_reply.started": "2025-10-18T13:47:13.787834Z"
    }
   },
   "outputs": [
    {
     "name": "stderr",
     "output_type": "stream",
     "text": [
      "INFO:sagemaker.model_monitor.model_monitoring:Creating Monitoring Schedule with name: hcp-best-model-18-11-56-45-data-quality-daily\n"
     ]
    },
    {
     "data": {
      "text/plain": [
       "'hcp-best-model-18-11-56-45-data-quality-daily'"
      ]
     },
     "execution_count": 78,
     "metadata": {},
     "output_type": "execute_result"
    }
   ],
   "source": [
    "from sagemaker.model_monitor import CronExpressionGenerator\n",
    "\n",
    "baseline_stats_s3 = f\"s3://{default_bucket}/{model_prefix}/baseline/output/statistics.json\"\n",
    "baseline_const_s3 = f\"s3://{default_bucket}/{model_prefix}/baseline/output/constraints.json\"\n",
    "\n",
    "schedule_name = f\"{endpoint_name}-data-quality-daily\"\n",
    "\n",
    "monitor.create_monitoring_schedule(\n",
    "    monitor_schedule_name=schedule_name,\n",
    "    endpoint_input=endpoint_name,\n",
    "    output_s3_uri=f\"s3://{default_bucket}/{model_prefix}/monitoring/output\",\n",
    "    statistics=baseline_stats_s3,\n",
    "    constraints=baseline_const_s3,\n",
    "    schedule_cron_expression=CronExpressionGenerator.daily(hour=2),\n",
    ")\n",
    "schedule_name"
   ]
  },
  {
   "cell_type": "code",
   "execution_count": 79,
   "id": "0f9dade7-b09d-4c82-84ce-46215d2b8526",
   "metadata": {
    "execution": {
     "iopub.execute_input": "2025-10-18T13:47:33.568356Z",
     "iopub.status.busy": "2025-10-18T13:47:33.568085Z",
     "iopub.status.idle": "2025-10-18T13:47:33.701407Z",
     "shell.execute_reply": "2025-10-18T13:47:33.700768Z",
     "shell.execute_reply.started": "2025-10-18T13:47:33.568335Z"
    }
   },
   "outputs": [
    {
     "name": "stdout",
     "output_type": "stream",
     "text": [
      "Scheduled\n"
     ]
    }
   ],
   "source": [
    "import boto3\n",
    "sm = boto3.client(\"sagemaker\")\n",
    "\n",
    "def schedule_status(name):\n",
    "    return sm.describe_monitoring_schedule(MonitoringScheduleName=name)[\"MonitoringScheduleStatus\"]\n",
    "\n",
    "print(schedule_status(schedule_name))"
   ]
  },
  {
   "cell_type": "code",
   "execution_count": 1,
   "id": "9345256b-81ba-41d7-bd30-5de37a66e9e2",
   "metadata": {
    "execution": {
     "iopub.execute_input": "2025-10-18T15:18:50.861365Z",
     "iopub.status.busy": "2025-10-18T15:18:50.861112Z",
     "iopub.status.idle": "2025-10-18T15:18:54.004800Z",
     "shell.execute_reply": "2025-10-18T15:18:54.004054Z",
     "shell.execute_reply.started": "2025-10-18T15:18:50.861345Z"
    }
   },
   "outputs": [
    {
     "name": "stdout",
     "output_type": "stream",
     "text": [
      "sagemaker.config INFO - Not applying SDK defaults from location: /etc/xdg/sagemaker/config.yaml\n",
      "sagemaker.config INFO - Not applying SDK defaults from location: /home/sagemaker-user/.config/sagemaker/config.yaml\n"
     ]
    }
   ],
   "source": [
    "import boto3, sagemaker, pandas as pd\n",
    "from sagemaker.serializers import JSONSerializer\n",
    "from sagemaker.deserializers import JSONDeserializer\n",
    "from sagemaker.predictor import Predictor\n",
    "\n",
    "endpoint_name = \"hcp-best-model-18-11-56-45\"  # replace with your actual endpoint name\n",
    "default_bucket = sagemaker.Session().default_bucket()\n",
    "model_prefix = \"model-monitor-demo\"  # or whatever prefix you used earlier\n",
    "\n",
    "predictor = Predictor(\n",
    "    endpoint_name=endpoint_name,\n",
    "    sagemaker_session=sagemaker.Session(),\n",
    "    serializer=JSONSerializer(),\n",
    "    deserializer=JSONDeserializer()\n",
    ")\n",
    "\n",
    "FEATURE_COLUMNS = [\n",
    "    'Age','Gender','Income','CampaignChannel','CampaignType','AdSpend',\n",
    "    'ClickThroughRate','ConversionRate','WebsiteVisits','PagesPerVisit',\n",
    "    'TimeOnSite','SocialShares','EmailOpens','EmailClicks','PreviousPurchases',\n",
    "    'LoyaltyPoints','AdvertisingPlatform','AdvertisingTool'\n",
    "]"
   ]
  },
  {
   "cell_type": "code",
   "execution_count": 2,
   "id": "60fc9db0-ea6a-4c15-b380-848c100c1801",
   "metadata": {
    "execution": {
     "iopub.execute_input": "2025-10-18T15:18:59.111332Z",
     "iopub.status.busy": "2025-10-18T15:18:59.111045Z",
     "iopub.status.idle": "2025-10-18T15:18:59.352417Z",
     "shell.execute_reply": "2025-10-18T15:18:59.351835Z",
     "shell.execute_reply.started": "2025-10-18T15:18:59.111307Z"
    }
   },
   "outputs": [
    {
     "name": "stdout",
     "output_type": "stream",
     "text": [
      "(8000, 20)\n"
     ]
    },
    {
     "data": {
      "text/plain": [
       "150"
      ]
     },
     "execution_count": 2,
     "metadata": {},
     "output_type": "execute_result"
    }
   ],
   "source": [
    "df = pd.read_csv(\"raw_marketing_data.csv\")\n",
    "print(df.shape)\n",
    "df.head()\n",
    "\n",
    "batch = df.sample(150, random_state=33)[FEATURE_COLUMNS].to_dict(orient=\"records\")\n",
    "for i in range(0, len(batch), 25):\n",
    "    _ = predictor.predict(batch[i:i+25])\n",
    "len(batch)"
   ]
  },
  {
   "cell_type": "code",
   "execution_count": 3,
   "id": "d3379513-0601-4e5e-9d0c-143e45206a5f",
   "metadata": {
    "execution": {
     "iopub.execute_input": "2025-10-18T15:19:00.627441Z",
     "iopub.status.busy": "2025-10-18T15:19:00.627135Z",
     "iopub.status.idle": "2025-10-18T15:19:00.906494Z",
     "shell.execute_reply": "2025-10-18T15:19:00.905560Z",
     "shell.execute_reply.started": "2025-10-18T15:19:00.627415Z"
    }
   },
   "outputs": [],
   "source": [
    "import boto3\n",
    "s3 = boto3.client(\"s3\")\n",
    "\n",
    "cap_prefix = f\"{model_prefix}/datacapture\"\n",
    "resp = s3.list_objects_v2(Bucket=default_bucket, Prefix=cap_prefix)\n",
    "if \"Contents\" not in resp or len(resp[\"Contents\"]) == 0:\n",
    "    batch = df.sample(120, random_state=17)[FEATURE_COLUMNS].to_dict(orient=\"records\")\n",
    "    for i in range(0, len(batch), 25):\n",
    "        _ = predictor.predict(batch[i:i+25])"
   ]
  },
  {
   "cell_type": "code",
   "execution_count": null,
   "id": "abe4a7f0-fbca-45e2-ba47-9138feb83595",
   "metadata": {
    "execution": {
     "iopub.execute_input": "2025-10-18T15:19:04.575557Z",
     "iopub.status.busy": "2025-10-18T15:19:04.575278Z",
     "iopub.status.idle": "2025-10-18T17:06:54.790348Z"
    }
   },
   "outputs": [
    {
     "name": "stdout",
     "output_type": "stream",
     "text": [
      "hcp-best-model-18-11-56-45-data-quality-daily\n",
      "Pending\n",
      "Pending\n",
      "Pending\n",
      "Pending\n",
      "Pending\n",
      "Pending\n",
      "Pending\n",
      "Pending\n",
      "Pending\n",
      "Pending\n",
      "Pending\n",
      "Pending\n",
      "Pending\n",
      "Pending\n",
      "Pending\n",
      "Pending\n",
      "Pending\n",
      "Pending\n",
      "Pending\n",
      "Pending\n",
      "Pending\n",
      "Pending\n",
      "Pending\n",
      "Pending\n",
      "Pending\n",
      "Pending\n",
      "Pending\n",
      "Pending\n",
      "Pending\n",
      "Pending\n",
      "Pending\n",
      "Pending\n",
      "Pending\n",
      "Pending\n",
      "Pending\n",
      "Pending\n",
      "Pending\n",
      "Pending\n",
      "Pending\n",
      "Pending\n",
      "Pending\n",
      "Pending\n",
      "Pending\n",
      "Pending\n",
      "Pending\n",
      "Pending\n",
      "Pending\n",
      "Pending\n",
      "Pending\n",
      "Pending\n",
      "Pending\n",
      "Pending\n",
      "Pending\n",
      "Pending\n",
      "Pending\n",
      "Pending\n",
      "Pending\n",
      "Pending\n",
      "Pending\n",
      "Pending\n",
      "Pending\n",
      "Pending\n",
      "Pending\n",
      "Pending\n",
      "Pending\n",
      "Pending\n",
      "Pending\n",
      "Pending\n",
      "Pending\n",
      "Pending\n",
      "Pending\n",
      "Pending\n",
      "Pending\n",
      "Pending\n",
      "Pending\n",
      "Pending\n",
      "Pending\n",
      "Pending\n",
      "Pending\n",
      "Pending\n",
      "Pending\n",
      "Pending\n",
      "Pending\n",
      "Pending\n",
      "Pending\n",
      "Pending\n",
      "Pending\n",
      "Pending\n",
      "Pending\n",
      "Pending\n",
      "Pending\n",
      "Pending\n",
      "Pending\n",
      "Pending\n",
      "Pending\n",
      "Pending\n",
      "Pending\n",
      "Pending\n",
      "Pending\n",
      "Pending\n",
      "Pending\n",
      "Pending\n",
      "Pending\n",
      "Pending\n",
      "Pending\n",
      "Pending\n",
      "Pending\n",
      "Pending\n",
      "Pending\n",
      "Pending\n",
      "Pending\n",
      "Pending\n",
      "Pending\n",
      "Pending\n",
      "Pending\n",
      "Pending\n",
      "Pending\n",
      "Pending\n",
      "Pending\n",
      "Pending\n",
      "Pending\n",
      "Pending\n",
      "Pending\n",
      "Pending\n",
      "Pending\n",
      "Pending\n",
      "Pending\n",
      "Pending\n",
      "Pending\n",
      "Pending\n",
      "Pending\n",
      "Pending\n",
      "Pending\n",
      "Pending\n",
      "Pending\n",
      "Pending\n",
      "Pending\n",
      "Pending\n",
      "Pending\n",
      "Pending\n",
      "Pending\n",
      "Pending\n",
      "Pending\n",
      "Pending\n",
      "Pending\n",
      "Pending\n",
      "Pending\n",
      "Pending\n",
      "Pending\n",
      "Pending\n",
      "Pending\n",
      "Pending\n",
      "Pending\n",
      "Pending\n",
      "Pending\n",
      "Pending\n",
      "Pending\n",
      "Pending\n",
      "Pending\n",
      "Pending\n",
      "Pending\n",
      "Pending\n",
      "Pending\n",
      "Pending\n",
      "Pending\n",
      "Pending\n",
      "Pending\n",
      "Pending\n",
      "Pending\n",
      "Pending\n",
      "Pending\n",
      "Pending\n",
      "Pending\n",
      "Pending\n",
      "Pending\n",
      "Pending\n",
      "Pending\n",
      "Pending\n",
      "Pending\n",
      "Pending\n",
      "Pending\n",
      "Pending\n",
      "Pending\n",
      "Pending\n",
      "Pending\n",
      "Pending\n",
      "Pending\n",
      "Pending\n",
      "Pending\n",
      "Pending\n",
      "Pending\n",
      "Pending\n",
      "Pending\n",
      "Pending\n",
      "Pending\n",
      "Pending\n",
      "Pending\n",
      "Pending\n",
      "Pending\n",
      "Pending\n",
      "Pending\n",
      "Pending\n",
      "Pending\n",
      "Pending\n",
      "Pending\n",
      "Pending\n",
      "Pending\n",
      "Pending\n",
      "Pending\n",
      "Pending\n",
      "Pending\n",
      "Pending\n",
      "Pending\n",
      "Pending\n",
      "Pending\n",
      "Pending\n",
      "Pending\n",
      "Pending\n",
      "Pending\n",
      "Pending\n",
      "Pending\n",
      "Pending\n",
      "Pending\n",
      "Pending\n",
      "Pending\n",
      "Pending\n",
      "Pending\n",
      "Pending\n",
      "Pending\n",
      "Pending\n",
      "Pending\n",
      "Pending\n",
      "Pending\n",
      "Pending\n",
      "Pending\n",
      "Pending\n",
      "Pending\n",
      "Pending\n",
      "Pending\n",
      "Pending\n",
      "Pending\n",
      "Pending\n",
      "Pending\n",
      "Pending\n",
      "Pending\n",
      "Pending\n",
      "Pending\n",
      "Pending\n",
      "Pending\n",
      "Pending\n",
      "Pending\n",
      "Pending\n",
      "Pending\n",
      "Pending\n",
      "Pending\n",
      "Pending\n",
      "Pending\n",
      "Pending\n",
      "Pending\n",
      "Pending\n",
      "Pending\n",
      "Pending\n",
      "Pending\n",
      "Pending\n",
      "Pending\n",
      "Pending\n",
      "Pending\n",
      "Pending\n",
      "Pending\n",
      "Pending\n",
      "Pending\n",
      "Pending\n",
      "Pending\n",
      "Pending\n",
      "Pending\n",
      "Pending\n",
      "Pending\n",
      "Pending\n",
      "Pending\n",
      "Pending\n",
      "Pending\n",
      "Pending\n",
      "Pending\n",
      "Pending\n",
      "Pending\n",
      "Pending\n",
      "Pending\n",
      "Pending\n",
      "Pending\n",
      "Pending\n",
      "Pending\n",
      "Pending\n",
      "Pending\n",
      "Pending\n",
      "Pending\n",
      "Pending\n",
      "Pending\n",
      "Pending\n",
      "Pending\n",
      "Pending\n",
      "Pending\n",
      "Pending\n"
     ]
    },
    {
     "data": {
      "text/html": [
       "<pre style=\"white-space:pre;overflow-x:auto;line-height:normal;font-family:Menlo,'DejaVu Sans Mono',consolas,'Courier New',monospace\"><span style=\"color: #ff0000; text-decoration-color: #ff0000\">╭─────────────────────────────── </span><span style=\"color: #ff0000; text-decoration-color: #ff0000; font-weight: bold\">Traceback </span><span style=\"color: #ff7f7f; text-decoration-color: #ff7f7f; font-weight: bold\">(most recent call last)</span><span style=\"color: #ff0000; text-decoration-color: #ff0000\"> ────────────────────────────────╮</span>\n",
       "<span style=\"color: #ff0000; text-decoration-color: #ff0000\">│</span> in <span style=\"color: #00ff00; text-decoration-color: #00ff00\">&lt;module&gt;</span>:<span style=\"color: #0000ff; text-decoration-color: #0000ff\">21</span>                                                                                   <span style=\"color: #ff0000; text-decoration-color: #ff0000\">│</span>\n",
       "<span style=\"color: #ff0000; text-decoration-color: #ff0000\">│</span>                                                                                                  <span style=\"color: #ff0000; text-decoration-color: #ff0000\">│</span>\n",
       "<span style=\"color: #ff0000; text-decoration-color: #ff0000\">│</span>   <span style=\"color: #7f7f7f; text-decoration-color: #7f7f7f\">18 </span><span style=\"color: #7f7f7f; text-decoration-color: #7f7f7f\">│   │   │   </span><span style=\"color: #0000ff; text-decoration-color: #0000ff\">break</span>                                                                           <span style=\"color: #ff0000; text-decoration-color: #ff0000\">│</span>\n",
       "<span style=\"color: #ff0000; text-decoration-color: #ff0000\">│</span>   <span style=\"color: #7f7f7f; text-decoration-color: #7f7f7f\">19 </span><span style=\"color: #7f7f7f; text-decoration-color: #7f7f7f\">│   </span><span style=\"color: #0000ff; text-decoration-color: #0000ff\">else</span>:                                                                                   <span style=\"color: #ff0000; text-decoration-color: #ff0000\">│</span>\n",
       "<span style=\"color: #ff0000; text-decoration-color: #ff0000\">│</span>   <span style=\"color: #7f7f7f; text-decoration-color: #7f7f7f\">20 </span><span style=\"color: #7f7f7f; text-decoration-color: #7f7f7f\">│   │   </span><span style=\"color: #00ffff; text-decoration-color: #00ffff\">print</span>(<span style=\"color: #808000; text-decoration-color: #808000\">\"Pending\"</span>)                                                                    <span style=\"color: #ff0000; text-decoration-color: #ff0000\">│</span>\n",
       "<span style=\"color: #ff0000; text-decoration-color: #ff0000\">│</span> <span style=\"color: #800000; text-decoration-color: #800000\">❱ </span>21 <span style=\"color: #7f7f7f; text-decoration-color: #7f7f7f\">│   </span><span style=\"font-weight: bold; text-decoration: underline\">time.sleep(</span><span style=\"color: #0000ff; text-decoration-color: #0000ff; font-weight: bold; text-decoration: underline\">20</span><span style=\"font-weight: bold; text-decoration: underline\">)</span>                                                                          <span style=\"color: #ff0000; text-decoration-color: #ff0000\">│</span>\n",
       "<span style=\"color: #ff0000; text-decoration-color: #ff0000\">│</span>   <span style=\"color: #7f7f7f; text-decoration-color: #7f7f7f\">22 </span>                                                                                            <span style=\"color: #ff0000; text-decoration-color: #ff0000\">│</span>\n",
       "<span style=\"color: #ff0000; text-decoration-color: #ff0000\">╰──────────────────────────────────────────────────────────────────────────────────────────────────╯</span>\n",
       "<span style=\"color: #ff0000; text-decoration-color: #ff0000; font-weight: bold\">KeyboardInterrupt</span>\n",
       "</pre>\n"
      ],
      "text/plain": [
       "\u001b[38;2;255;0;0m╭─\u001b[0m\u001b[38;2;255;0;0m──────────────────────────────\u001b[0m\u001b[38;2;255;0;0m \u001b[0m\u001b[1;38;2;255;0;0mTraceback \u001b[0m\u001b[1;2;38;2;255;0;0m(most recent call last)\u001b[0m\u001b[38;2;255;0;0m \u001b[0m\u001b[38;2;255;0;0m───────────────────────────────\u001b[0m\u001b[38;2;255;0;0m─╮\u001b[0m\n",
       "\u001b[38;2;255;0;0m│\u001b[0m in \u001b[92m<module>\u001b[0m:\u001b[94m21\u001b[0m                                                                                   \u001b[38;2;255;0;0m│\u001b[0m\n",
       "\u001b[38;2;255;0;0m│\u001b[0m                                                                                                  \u001b[38;2;255;0;0m│\u001b[0m\n",
       "\u001b[38;2;255;0;0m│\u001b[0m   \u001b[2m18 \u001b[0m\u001b[2m│   │   │   \u001b[0m\u001b[94mbreak\u001b[0m                                                                           \u001b[38;2;255;0;0m│\u001b[0m\n",
       "\u001b[38;2;255;0;0m│\u001b[0m   \u001b[2m19 \u001b[0m\u001b[2m│   \u001b[0m\u001b[94melse\u001b[0m:                                                                                   \u001b[38;2;255;0;0m│\u001b[0m\n",
       "\u001b[38;2;255;0;0m│\u001b[0m   \u001b[2m20 \u001b[0m\u001b[2m│   │   \u001b[0m\u001b[96mprint\u001b[0m(\u001b[33m\"\u001b[0m\u001b[33mPending\u001b[0m\u001b[33m\"\u001b[0m)                                                                    \u001b[38;2;255;0;0m│\u001b[0m\n",
       "\u001b[38;2;255;0;0m│\u001b[0m \u001b[31m❱ \u001b[0m21 \u001b[2m│   \u001b[0m\u001b[1;4mtime.sleep(\u001b[0m\u001b[1;4;94m20\u001b[0m\u001b[1;4m)\u001b[0m                                                                          \u001b[38;2;255;0;0m│\u001b[0m\n",
       "\u001b[38;2;255;0;0m│\u001b[0m   \u001b[2m22 \u001b[0m                                                                                            \u001b[38;2;255;0;0m│\u001b[0m\n",
       "\u001b[38;2;255;0;0m╰──────────────────────────────────────────────────────────────────────────────────────────────────╯\u001b[0m\n",
       "\u001b[1;91mKeyboardInterrupt\u001b[0m\n"
      ]
     },
     "metadata": {},
     "output_type": "display_data"
    }
   ],
   "source": [
    "import boto3, time\n",
    "\n",
    "schedule_name = f\"hcp-best-model-18-11-56-45-data-quality-daily\"\n",
    "print(schedule_name)\n",
    "\n",
    "sm = boto3.client(\"sagemaker\")\n",
    "\n",
    "sm.start_monitoring_schedule(MonitoringScheduleName=schedule_name)\n",
    "\n",
    "while True:\n",
    "    execs = sm.list_monitoring_executions(\n",
    "        MonitoringScheduleName=schedule_name, MaxResults=1\n",
    "    )[\"MonitoringExecutionSummaries\"]\n",
    "    if execs:\n",
    "        status = execs[0][\"MonitoringExecutionStatus\"]\n",
    "        print(status)\n",
    "        if status in (\"Completed\",\"Failed\",\"Stopped\"):\n",
    "            break\n",
    "    else:\n",
    "        print(\"Pending\")\n",
    "    time.sleep(20)"
   ]
  },
  {
   "cell_type": "code",
   "execution_count": 5,
   "id": "6f536dc8-f2f5-48a1-9f09-ab3441081f49",
   "metadata": {
    "execution": {
     "iopub.execute_input": "2025-10-18T17:07:25.107966Z",
     "iopub.status.busy": "2025-10-18T17:07:25.107696Z",
     "iopub.status.idle": "2025-10-18T17:07:25.293183Z",
     "shell.execute_reply": "2025-10-18T17:07:25.292458Z",
     "shell.execute_reply.started": "2025-10-18T17:07:25.107943Z"
    }
   },
   "outputs": [],
   "source": [
    "batch = df.sample(120, random_state=42)[FEATURE_COLUMNS].to_dict(orient=\"records\")\n",
    "\n",
    "for i in range(0, len(batch), 25):\n",
    "    _ = predictor.predict(batch[i:i+25])\n"
   ]
  },
  {
   "cell_type": "code",
   "execution_count": 6,
   "id": "9e3e661b-32ef-4734-bff6-401ebe8818b9",
   "metadata": {
    "execution": {
     "iopub.execute_input": "2025-10-18T17:07:45.932288Z",
     "iopub.status.busy": "2025-10-18T17:07:45.932016Z",
     "iopub.status.idle": "2025-10-18T17:07:45.998806Z",
     "shell.execute_reply": "2025-10-18T17:07:45.998116Z",
     "shell.execute_reply.started": "2025-10-18T17:07:45.932267Z"
    }
   },
   "outputs": [
    {
     "name": "stdout",
     "output_type": "stream",
     "text": [
      "Captured files found: 0\n"
     ]
    }
   ],
   "source": [
    "import boto3\n",
    "s3 = boto3.client(\"s3\")\n",
    "\n",
    "cap_prefix = f\"{model_prefix}/datacapture\"\n",
    "resp = s3.list_objects_v2(Bucket=default_bucket, Prefix=cap_prefix)\n",
    "\n",
    "print(\"Captured files found:\", len(resp.get(\"Contents\", [])))\n",
    "for obj in resp.get(\"Contents\", [])[-5:]:\n",
    "    print(\"-\", obj[\"Key\"])"
   ]
  },
  {
   "cell_type": "code",
   "execution_count": 7,
   "id": "dfc4c56b-8612-4d95-a54a-d54b7ba3314b",
   "metadata": {
    "execution": {
     "iopub.execute_input": "2025-10-18T17:09:13.151890Z",
     "iopub.status.busy": "2025-10-18T17:09:13.151605Z",
     "iopub.status.idle": "2025-10-18T17:09:13.351604Z",
     "shell.execute_reply": "2025-10-18T17:09:13.350747Z",
     "shell.execute_reply.started": "2025-10-18T17:09:13.151866Z"
    }
   },
   "outputs": [],
   "source": [
    "batch = df.sample(150, random_state=42)[FEATURE_COLUMNS].to_dict(orient=\"records\")\n",
    "\n",
    "for i in range(0, len(batch), 25):\n",
    "    _ = predictor.predict(batch[i:i+25])"
   ]
  },
  {
   "cell_type": "code",
   "execution_count": 8,
   "id": "52f5e291-dec5-4124-bc95-0fe7cc84f6c5",
   "metadata": {
    "execution": {
     "iopub.execute_input": "2025-10-18T17:09:23.997569Z",
     "iopub.status.busy": "2025-10-18T17:09:23.997299Z",
     "iopub.status.idle": "2025-10-18T17:09:24.062687Z",
     "shell.execute_reply": "2025-10-18T17:09:24.061889Z",
     "shell.execute_reply.started": "2025-10-18T17:09:23.997548Z"
    }
   },
   "outputs": [
    {
     "name": "stdout",
     "output_type": "stream",
     "text": [
      "Captured files found: 0\n"
     ]
    }
   ],
   "source": [
    "resp = s3.list_objects_v2(Bucket=default_bucket, Prefix=cap_prefix)\n",
    "print(\"Captured files found:\", len(resp.get(\"Contents\", [])))\n",
    "for obj in resp.get(\"Contents\", [])[-5:]:\n",
    "    print(\"-\", obj[\"Key\"])"
   ]
  },
  {
   "cell_type": "code",
   "execution_count": 9,
   "id": "ae52c236-855a-4f3a-b44c-b6cdd5a95b21",
   "metadata": {
    "execution": {
     "iopub.execute_input": "2025-10-18T17:10:34.770091Z",
     "iopub.status.busy": "2025-10-18T17:10:34.769816Z",
     "iopub.status.idle": "2025-10-18T17:10:35.093484Z",
     "shell.execute_reply": "2025-10-18T17:10:35.092713Z",
     "shell.execute_reply.started": "2025-10-18T17:10:34.770070Z"
    }
   },
   "outputs": [
    {
     "name": "stdout",
     "output_type": "stream",
     "text": [
      "EnableCapture: True\n",
      "Sampling %: 100\n",
      "CaptureOptions: [{'CaptureMode': 'Input'}, {'CaptureMode': 'Output'}]\n",
      "DestinationS3Uri: s3://{default_bucket}/{model_prefix}/datacapture\n"
     ]
    }
   ],
   "source": [
    "import boto3\n",
    "sm = boto3.client(\"sagemaker\")\n",
    "\n",
    "ep = sm.describe_endpoint(EndpointName=endpoint_name)\n",
    "cfg = sm.describe_endpoint_config(EndpointConfigName=ep[\"EndpointConfigName\"])\n",
    "dc  = cfg.get(\"DataCaptureConfig\", {})\n",
    "\n",
    "print(\"EnableCapture:\", dc.get(\"EnableCapture\"))\n",
    "print(\"Sampling %:\", dc.get(\"InitialSamplingPercentage\"))\n",
    "print(\"CaptureOptions:\", dc.get(\"CaptureOptions\"))\n",
    "print(\"DestinationS3Uri:\", dc.get(\"DestinationS3Uri\"))\n",
    "\n",
    "dest = dc.get(\"DestinationS3Uri\")"
   ]
  },
  {
   "cell_type": "code",
   "execution_count": 11,
   "id": "db2552df-a94e-453d-892c-abb2fd349172",
   "metadata": {
    "execution": {
     "iopub.execute_input": "2025-10-18T17:13:54.384208Z",
     "iopub.status.busy": "2025-10-18T17:13:54.383936Z",
     "iopub.status.idle": "2025-10-18T17:13:54.728275Z",
     "shell.execute_reply": "2025-10-18T17:13:54.727509Z",
     "shell.execute_reply.started": "2025-10-18T17:13:54.384184Z"
    }
   },
   "outputs": [
    {
     "name": "stdout",
     "output_type": "stream",
     "text": [
      "default_bucket: sagemaker-us-east-1-471112536460\n",
      "model_prefix: model-monitor-demo\n"
     ]
    }
   ],
   "source": [
    "import sagemaker, boto3\n",
    "\n",
    "sess = sagemaker.Session()\n",
    "default_bucket = sess.default_bucket()            \n",
    "model_prefix   = \"model-monitor-demo\"             \n",
    "\n",
    "print(\"default_bucket:\", default_bucket)\n",
    "print(\"model_prefix:\", model_prefix)"
   ]
  },
  {
   "cell_type": "code",
   "execution_count": 16,
   "id": "04820ece-f88a-4576-b842-089c8604f8f5",
   "metadata": {
    "execution": {
     "iopub.execute_input": "2025-10-18T17:20:26.544031Z",
     "iopub.status.busy": "2025-10-18T17:20:26.543756Z",
     "iopub.status.idle": "2025-10-18T17:23:59.582457Z",
     "shell.execute_reply": "2025-10-18T17:23:59.581744Z",
     "shell.execute_reply.started": "2025-10-18T17:20:26.544008Z"
    }
   },
   "outputs": [
    {
     "name": "stdout",
     "output_type": "stream",
     "text": [
      "Updating\n",
      "Updating\n",
      "Updating\n",
      "Updating\n",
      "Updating\n",
      "Updating\n",
      "Updating\n",
      "Updating\n",
      "Updating\n",
      "Updating\n",
      "Updating\n",
      "Updating\n",
      "Updating\n",
      "Updating\n",
      "InService\n"
     ]
    }
   ],
   "source": [
    "import boto3, sagemaker, time\n",
    "from sagemaker.model_monitor import DataCaptureConfig\n",
    "\n",
    "sm = boto3.client(\"sagemaker\")\n",
    "sess = sagemaker.Session()\n",
    "\n",
    "default_bucket = sess.default_bucket()\n",
    "model_prefix   = \"model-monitor-demo\"   # keep yours\n",
    "endpoint_name  = \"hcp-best-model-18-11-56-45\"\n",
    "\n",
    "ep = sm.describe_endpoint(EndpointName=endpoint_name)\n",
    "cfg = sm.describe_endpoint_config(EndpointConfigName=ep[\"EndpointConfigName\"])\n",
    "pv  = cfg[\"ProductionVariants\"][0]\n",
    "\n",
    "capture_cfg = DataCaptureConfig(\n",
    "    enable_capture=True,\n",
    "    sampling_percentage=100,\n",
    "    destination_s3_uri=f\"s3://{default_bucket}/{model_prefix}/datacapture\",\n",
    "    capture_options=[\"Input\",\"Output\"],\n",
    ")\n",
    "\n",
    "new_cfg_name = f\"{endpoint_name}-cfg-capture-fix\"\n",
    "sm.create_endpoint_config(\n",
    "    EndpointConfigName=new_cfg_name,\n",
    "    ProductionVariants=[{\n",
    "        \"ModelName\": pv[\"ModelName\"],\n",
    "        \"VariantName\": pv[\"VariantName\"],\n",
    "        \"InitialInstanceCount\": pv[\"InitialInstanceCount\"],\n",
    "        \"InstanceType\": pv[\"InstanceType\"],\n",
    "        \"InitialVariantWeight\": pv.get(\"InitialVariantWeight\", 1.0),\n",
    "    }],\n",
    "    DataCaptureConfig=capture_cfg._to_request_dict(),\n",
    ")\n",
    "\n",
    "sm.update_endpoint(EndpointName=endpoint_name, EndpointConfigName=new_cfg_name)\n",
    "\n",
    "while True:\n",
    "    s = sm.describe_endpoint(EndpointName=endpoint_name)[\"EndpointStatus\"]\n",
    "    if s in (\"InService\",\"Failed\"): print(s); break\n",
    "    print(s); time.sleep(15)\n"
   ]
  },
  {
   "cell_type": "code",
   "execution_count": 17,
   "id": "67037ec1-2475-4356-b0bb-8dbf528ad78c",
   "metadata": {
    "execution": {
     "iopub.execute_input": "2025-10-18T17:26:34.641370Z",
     "iopub.status.busy": "2025-10-18T17:26:34.641099Z",
     "iopub.status.idle": "2025-10-18T17:26:35.566571Z",
     "shell.execute_reply": "2025-10-18T17:26:35.565926Z",
     "shell.execute_reply.started": "2025-10-18T17:26:34.641348Z"
    }
   },
   "outputs": [
    {
     "name": "stdout",
     "output_type": "stream",
     "text": [
      "Captured files found: 0\n"
     ]
    }
   ],
   "source": [
    "# send some requests\n",
    "batch = df.sample(150, random_state=42)[FEATURE_COLUMNS].to_dict(orient=\"records\")\n",
    "for i in range(0, len(batch), 25):\n",
    "    _ = predictor.predict(batch[i:i+25])\n",
    "\n",
    "# check S3 capture path\n",
    "s3 = boto3.client(\"s3\")\n",
    "cap_prefix = f\"{model_prefix}/datacapture\"\n",
    "resp = s3.list_objects_v2(Bucket=default_bucket, Prefix=cap_prefix)\n",
    "print(\"Captured files found:\", len(resp.get(\"Contents\", [])))\n",
    "for o in resp.get(\"Contents\", [])[-5:]:\n",
    "    print(\"-\", o[\"Key\"])"
   ]
  },
  {
   "cell_type": "code",
   "execution_count": 18,
   "id": "0d96a955-51cc-4a58-9081-2a233ab01873",
   "metadata": {
    "execution": {
     "iopub.execute_input": "2025-10-18T17:27:30.996938Z",
     "iopub.status.busy": "2025-10-18T17:27:30.996661Z",
     "iopub.status.idle": "2025-10-18T17:27:31.246534Z",
     "shell.execute_reply": "2025-10-18T17:27:31.245831Z",
     "shell.execute_reply.started": "2025-10-18T17:27:30.996914Z"
    }
   },
   "outputs": [
    {
     "name": "stdout",
     "output_type": "stream",
     "text": [
      "Requests sent.\n"
     ]
    }
   ],
   "source": [
    "batch = df.sample(200, random_state=42)[FEATURE_COLUMNS].to_dict(orient=\"records\")\n",
    "\n",
    "for i in range(0, len(batch), 25):\n",
    "    _ = predictor.predict(batch[i:i+25])\n",
    "\n",
    "print(\"Requests sent.\")"
   ]
  },
  {
   "cell_type": "code",
   "execution_count": null,
   "id": "f6932377-b6ce-42f8-822d-9346ca66714e",
   "metadata": {
    "execution": {
     "iopub.execute_input": "2025-10-18T17:48:51.889402Z",
     "iopub.status.busy": "2025-10-18T17:48:51.889105Z",
     "iopub.status.idle": "2025-10-18T18:05:27.493650Z"
    }
   },
   "outputs": [
    {
     "name": "stdout",
     "output_type": "stream",
     "text": [
      "Pending\n",
      "Pending\n",
      "Pending\n",
      "Pending\n",
      "Pending\n",
      "Pending\n",
      "Pending\n",
      "Pending\n",
      "Pending\n",
      "Pending\n",
      "Pending\n",
      "Pending\n",
      "Pending\n",
      "Pending\n",
      "Pending\n",
      "Pending\n",
      "Pending\n",
      "Pending\n",
      "Pending\n",
      "Pending\n",
      "Pending\n",
      "Pending\n",
      "Pending\n",
      "Pending\n",
      "Pending\n",
      "Pending\n",
      "Pending\n",
      "Pending\n",
      "Pending\n",
      "Pending\n",
      "Pending\n",
      "Pending\n",
      "Pending\n",
      "Pending\n",
      "Pending\n",
      "Pending\n",
      "Pending\n",
      "Pending\n",
      "Pending\n",
      "Pending\n",
      "Pending\n",
      "Pending\n",
      "Pending\n",
      "Pending\n",
      "Pending\n",
      "Pending\n",
      "Pending\n",
      "Pending\n",
      "Pending\n",
      "Pending\n",
      "Pending\n",
      "Pending\n",
      "Pending\n",
      "Pending\n",
      "Pending\n",
      "Pending\n",
      "Pending\n",
      "Pending\n",
      "Pending\n",
      "Pending\n",
      "Pending\n",
      "Pending\n",
      "Pending\n",
      "Pending\n",
      "Pending\n",
      "Pending\n",
      "Pending\n",
      "Pending\n",
      "Pending\n",
      "Pending\n",
      "Pending\n",
      "Pending\n",
      "Pending\n",
      "Pending\n",
      "Pending\n",
      "Pending\n",
      "Pending\n",
      "Pending\n",
      "Pending\n",
      "Pending\n",
      "Pending\n",
      "Pending\n",
      "Pending\n",
      "Pending\n",
      "Pending\n",
      "Pending\n",
      "Pending\n",
      "Pending\n",
      "Pending\n",
      "Pending\n",
      "Pending\n",
      "Pending\n",
      "Pending\n",
      "Pending\n",
      "Pending\n",
      "Pending\n",
      "Pending\n",
      "Pending\n",
      "Pending\n",
      "Pending\n"
     ]
    },
    {
     "data": {
      "text/html": [
       "<pre style=\"white-space:pre;overflow-x:auto;line-height:normal;font-family:Menlo,'DejaVu Sans Mono',consolas,'Courier New',monospace\"><span style=\"color: #ff0000; text-decoration-color: #ff0000\">╭─────────────────────────────── </span><span style=\"color: #ff0000; text-decoration-color: #ff0000; font-weight: bold\">Traceback </span><span style=\"color: #ff7f7f; text-decoration-color: #ff7f7f; font-weight: bold\">(most recent call last)</span><span style=\"color: #ff0000; text-decoration-color: #ff0000\"> ────────────────────────────────╮</span>\n",
       "<span style=\"color: #ff0000; text-decoration-color: #ff0000\">│</span> in <span style=\"color: #00ff00; text-decoration-color: #00ff00\">&lt;module&gt;</span>:<span style=\"color: #0000ff; text-decoration-color: #0000ff\">17</span>                                                                                   <span style=\"color: #ff0000; text-decoration-color: #ff0000\">│</span>\n",
       "<span style=\"color: #ff0000; text-decoration-color: #ff0000\">│</span>                                                                                                  <span style=\"color: #ff0000; text-decoration-color: #ff0000\">│</span>\n",
       "<span style=\"color: #ff0000; text-decoration-color: #ff0000\">│</span>   <span style=\"color: #7f7f7f; text-decoration-color: #7f7f7f\">14 </span><span style=\"color: #7f7f7f; text-decoration-color: #7f7f7f\">│   │   │   </span><span style=\"color: #0000ff; text-decoration-color: #0000ff\">break</span>                                                                           <span style=\"color: #ff0000; text-decoration-color: #ff0000\">│</span>\n",
       "<span style=\"color: #ff0000; text-decoration-color: #ff0000\">│</span>   <span style=\"color: #7f7f7f; text-decoration-color: #7f7f7f\">15 </span><span style=\"color: #7f7f7f; text-decoration-color: #7f7f7f\">│   </span><span style=\"color: #0000ff; text-decoration-color: #0000ff\">else</span>:                                                                                   <span style=\"color: #ff0000; text-decoration-color: #ff0000\">│</span>\n",
       "<span style=\"color: #ff0000; text-decoration-color: #ff0000\">│</span>   <span style=\"color: #7f7f7f; text-decoration-color: #7f7f7f\">16 </span><span style=\"color: #7f7f7f; text-decoration-color: #7f7f7f\">│   │   </span><span style=\"color: #00ffff; text-decoration-color: #00ffff\">print</span>(<span style=\"color: #808000; text-decoration-color: #808000\">\"Pending\"</span>)                                                                    <span style=\"color: #ff0000; text-decoration-color: #ff0000\">│</span>\n",
       "<span style=\"color: #ff0000; text-decoration-color: #ff0000\">│</span> <span style=\"color: #800000; text-decoration-color: #800000\">❱ </span>17 <span style=\"color: #7f7f7f; text-decoration-color: #7f7f7f\">│   </span><span style=\"font-weight: bold; text-decoration: underline\">time.sleep(</span><span style=\"color: #0000ff; text-decoration-color: #0000ff; font-weight: bold; text-decoration: underline\">10</span><span style=\"font-weight: bold; text-decoration: underline\">)</span>                                                                          <span style=\"color: #ff0000; text-decoration-color: #ff0000\">│</span>\n",
       "<span style=\"color: #ff0000; text-decoration-color: #ff0000\">│</span>   <span style=\"color: #7f7f7f; text-decoration-color: #7f7f7f\">18 </span>                                                                                            <span style=\"color: #ff0000; text-decoration-color: #ff0000\">│</span>\n",
       "<span style=\"color: #ff0000; text-decoration-color: #ff0000\">╰──────────────────────────────────────────────────────────────────────────────────────────────────╯</span>\n",
       "<span style=\"color: #ff0000; text-decoration-color: #ff0000; font-weight: bold\">KeyboardInterrupt</span>\n",
       "</pre>\n"
      ],
      "text/plain": [
       "\u001b[38;2;255;0;0m╭─\u001b[0m\u001b[38;2;255;0;0m──────────────────────────────\u001b[0m\u001b[38;2;255;0;0m \u001b[0m\u001b[1;38;2;255;0;0mTraceback \u001b[0m\u001b[1;2;38;2;255;0;0m(most recent call last)\u001b[0m\u001b[38;2;255;0;0m \u001b[0m\u001b[38;2;255;0;0m───────────────────────────────\u001b[0m\u001b[38;2;255;0;0m─╮\u001b[0m\n",
       "\u001b[38;2;255;0;0m│\u001b[0m in \u001b[92m<module>\u001b[0m:\u001b[94m17\u001b[0m                                                                                   \u001b[38;2;255;0;0m│\u001b[0m\n",
       "\u001b[38;2;255;0;0m│\u001b[0m                                                                                                  \u001b[38;2;255;0;0m│\u001b[0m\n",
       "\u001b[38;2;255;0;0m│\u001b[0m   \u001b[2m14 \u001b[0m\u001b[2m│   │   │   \u001b[0m\u001b[94mbreak\u001b[0m                                                                           \u001b[38;2;255;0;0m│\u001b[0m\n",
       "\u001b[38;2;255;0;0m│\u001b[0m   \u001b[2m15 \u001b[0m\u001b[2m│   \u001b[0m\u001b[94melse\u001b[0m:                                                                                   \u001b[38;2;255;0;0m│\u001b[0m\n",
       "\u001b[38;2;255;0;0m│\u001b[0m   \u001b[2m16 \u001b[0m\u001b[2m│   │   \u001b[0m\u001b[96mprint\u001b[0m(\u001b[33m\"\u001b[0m\u001b[33mPending\u001b[0m\u001b[33m\"\u001b[0m)                                                                    \u001b[38;2;255;0;0m│\u001b[0m\n",
       "\u001b[38;2;255;0;0m│\u001b[0m \u001b[31m❱ \u001b[0m17 \u001b[2m│   \u001b[0m\u001b[1;4mtime.sleep(\u001b[0m\u001b[1;4;94m10\u001b[0m\u001b[1;4m)\u001b[0m                                                                          \u001b[38;2;255;0;0m│\u001b[0m\n",
       "\u001b[38;2;255;0;0m│\u001b[0m   \u001b[2m18 \u001b[0m                                                                                            \u001b[38;2;255;0;0m│\u001b[0m\n",
       "\u001b[38;2;255;0;0m╰──────────────────────────────────────────────────────────────────────────────────────────────────╯\u001b[0m\n",
       "\u001b[1;91mKeyboardInterrupt\u001b[0m\n"
      ]
     },
     "metadata": {},
     "output_type": "display_data"
    }
   ],
   "source": [
    "# Start a monitoring run now and track it\n",
    "import boto3, time\n",
    "sm = boto3.client(\"sagemaker\")\n",
    "\n",
    "schedule_name = f\"{endpoint_name}-data-quality-daily\"\n",
    "sm.start_monitoring_schedule(MonitoringScheduleName=schedule_name)\n",
    "\n",
    "while True:\n",
    "    execs = sm.list_monitoring_executions(MonitoringScheduleName=schedule_name, MaxResults=1)[\"MonitoringExecutionSummaries\"]\n",
    "    if execs:\n",
    "        status = execs[0][\"MonitoringExecutionStatus\"]\n",
    "        print(status)\n",
    "        if status in (\"Completed\",\"Failed\",\"Stopped\"):\n",
    "            break\n",
    "    else:\n",
    "        print(\"Pending\")\n",
    "    time.sleep(10)"
   ]
  },
  {
   "cell_type": "code",
   "execution_count": 22,
   "id": "6bed62bd-fd65-469a-aefe-018178dd0d05",
   "metadata": {
    "execution": {
     "iopub.execute_input": "2025-10-18T18:05:32.529977Z",
     "iopub.status.busy": "2025-10-18T18:05:32.529570Z",
     "iopub.status.idle": "2025-10-18T18:05:32.636835Z",
     "shell.execute_reply": "2025-10-18T18:05:32.636089Z",
     "shell.execute_reply.started": "2025-10-18T18:05:32.529952Z"
    }
   },
   "outputs": [
    {
     "name": "stdout",
     "output_type": "stream",
     "text": [
      "Now (UTC): 2025-10-18 18:05:32.633882\n",
      "ScheduleStatus: Scheduled\n",
      "ScheduleExpression: cron(0 2 ? * * *)\n",
      "MonitoringType: data-quality-job-definition-2025-10-18-13-47-13-789\n",
      "No prior executions recorded.\n"
     ]
    },
    {
     "name": "stderr",
     "output_type": "stream",
     "text": [
      "/tmp/ipykernel_9068/3413826253.py:7: DeprecationWarning: datetime.datetime.utcnow() is deprecated and scheduled for removal in a future version. Use timezone-aware objects to represent datetimes in UTC: datetime.datetime.now(datetime.UTC).\n",
      "  print(\"Now (UTC):\", datetime.datetime.utcnow())\n"
     ]
    }
   ],
   "source": [
    "import boto3, json, datetime\n",
    "sm = boto3.client(\"sagemaker\")\n",
    "\n",
    "schedule_name = f\"{endpoint_name}-data-quality-daily\"\n",
    "d = sm.describe_monitoring_schedule(MonitoringScheduleName=schedule_name)\n",
    "\n",
    "print(\"Now (UTC):\", datetime.datetime.utcnow())\n",
    "print(\"ScheduleStatus:\", d[\"MonitoringScheduleStatus\"])\n",
    "print(\"ScheduleExpression:\", d[\"MonitoringScheduleConfig\"][\"ScheduleConfig\"][\"ScheduleExpression\"])\n",
    "print(\"MonitoringType:\", d[\"MonitoringScheduleConfig\"][\"MonitoringJobDefinitionName\"] if \"MonitoringJobDefinitionName\" in d[\"MonitoringScheduleConfig\"] else d[\"MonitoringScheduleConfig\"][\"MonitoringType\"])\n",
    "if \"LastMonitoringExecutionSummary\" in d and d[\"LastMonitoringExecutionSummary\"]:\n",
    "    s = d[\"LastMonitoringExecutionSummary\"]\n",
    "    print(\"LastExecutionStatus:\", s[\"MonitoringExecutionStatus\"])\n",
    "    print(\"LastStartTime(UTC):\", s.get(\"ScheduledTime\") or s.get(\"CreationTime\"))\n",
    "    print(\"LastFailureReason:\", s.get(\"FailureReason\"))\n",
    "else:\n",
    "    print(\"No prior executions recorded.\")"
   ]
  },
  {
   "cell_type": "code",
   "execution_count": 23,
   "id": "79f90eac-2634-4df4-825c-e6df50e8ad2a",
   "metadata": {
    "execution": {
     "iopub.execute_input": "2025-10-18T18:06:50.945176Z",
     "iopub.status.busy": "2025-10-18T18:06:50.944705Z",
     "iopub.status.idle": "2025-10-18T18:06:51.049372Z",
     "shell.execute_reply": "2025-10-18T18:06:51.048607Z",
     "shell.execute_reply.started": "2025-10-18T18:06:50.945147Z"
    }
   },
   "outputs": [
    {
     "name": "stdout",
     "output_type": "stream",
     "text": [
      "Triggered a manual monitoring job for: hcp-best-model-18-11-56-45-data-quality-daily\n"
     ]
    }
   ],
   "source": [
    "import boto3\n",
    "\n",
    "sm = boto3.client(\"sagemaker\")\n",
    "\n",
    "sm.start_monitoring_schedule(MonitoringScheduleName=schedule_name)\n",
    "\n",
    "print(f\"Triggered a manual monitoring job for: {schedule_name}\")\n"
   ]
  },
  {
   "cell_type": "code",
   "execution_count": 26,
   "id": "e4b53d2c-5d43-440e-b61a-5a9b0fb1ca90",
   "metadata": {
    "execution": {
     "iopub.execute_input": "2025-10-18T18:21:07.770650Z",
     "iopub.status.busy": "2025-10-18T18:21:07.770382Z",
     "iopub.status.idle": "2025-10-18T18:21:08.202522Z",
     "shell.execute_reply": "2025-10-18T18:21:08.201483Z",
     "shell.execute_reply.started": "2025-10-18T18:21:07.770629Z"
    }
   },
   "outputs": [
    {
     "name": "stdout",
     "output_type": "stream",
     "text": [
      "Updated hcp-best-model-18-11-56-45-data-quality-daily to run hourly.\n"
     ]
    }
   ],
   "source": [
    "import boto3\n",
    "sm = boto3.client(\"sagemaker\")\n",
    "\n",
    "schedule_name = f\"{endpoint_name}-data-quality-daily\"\n",
    "\n",
    "desc = sm.describe_monitoring_schedule(MonitoringScheduleName=schedule_name)\n",
    "config = desc[\"MonitoringScheduleConfig\"]\n",
    "\n",
    "config[\"ScheduleConfig\"][\"ScheduleExpression\"] = \"cron(0 * ? * * *)\"\n",
    "\n",
    "sm.update_monitoring_schedule(\n",
    "    MonitoringScheduleName=schedule_name,\n",
    "    MonitoringScheduleConfig=config,\n",
    ")\n",
    "\n",
    "print(f\"Updated {schedule_name} to run hourly.\")"
   ]
  },
  {
   "cell_type": "code",
   "execution_count": null,
   "id": "d001af56-441f-4d89-b103-57c1105f9e38",
   "metadata": {
    "execution": {
     "iopub.execute_input": "2025-10-18T18:21:12.745973Z",
     "iopub.status.busy": "2025-10-18T18:21:12.745538Z"
    }
   },
   "outputs": [
    {
     "name": "stdout",
     "output_type": "stream",
     "text": [
      "Watching: hcp-best-model-18-11-56-45-data-quality-daily\n",
      "Pending\n",
      "Pending\n",
      "Pending\n",
      "Pending\n",
      "Pending\n",
      "Pending\n",
      "Pending\n",
      "Pending\n",
      "Pending\n",
      "Pending\n",
      "Pending\n",
      "Pending\n",
      "Pending\n",
      "Pending\n",
      "Pending\n",
      "Pending\n",
      "Pending\n",
      "Pending\n",
      "Pending\n",
      "Pending\n",
      "Pending\n",
      "Pending\n",
      "Pending\n",
      "Pending\n",
      "Pending\n",
      "Pending\n",
      "Pending\n",
      "Pending\n",
      "Pending\n",
      "Pending\n",
      "Pending\n",
      "Pending\n",
      "Pending\n",
      "Pending\n",
      "Pending\n",
      "Pending\n",
      "Pending\n",
      "Pending\n",
      "Pending\n",
      "Pending\n",
      "Pending\n",
      "Pending\n",
      "Pending\n",
      "Pending\n",
      "Pending\n",
      "Pending\n",
      "Pending\n",
      "Pending\n",
      "Pending\n",
      "Pending\n",
      "Pending\n",
      "Pending\n",
      "Pending\n",
      "Pending\n",
      "Pending\n",
      "Pending\n",
      "Pending\n",
      "Pending\n",
      "Pending\n",
      "Pending\n",
      "Pending\n",
      "Pending\n",
      "Pending\n",
      "Pending\n",
      "Pending\n",
      "Pending\n",
      "Pending\n",
      "Pending\n",
      "Pending\n",
      "Pending\n",
      "Pending\n",
      "Pending\n",
      "Pending\n",
      "Pending\n",
      "Pending\n",
      "Pending\n",
      "Pending\n",
      "Pending\n",
      "Pending\n",
      "Pending\n",
      "Pending\n",
      "Pending\n",
      "Pending\n",
      "Pending\n",
      "Pending\n",
      "Pending\n",
      "Pending\n",
      "Pending\n",
      "Pending\n",
      "Pending\n",
      "Pending\n",
      "Pending\n",
      "Pending\n",
      "Pending\n",
      "Pending\n",
      "Pending\n",
      "Pending\n",
      "Pending\n",
      "Pending\n",
      "Pending\n",
      "Pending\n",
      "Pending\n",
      "Pending\n",
      "Pending\n",
      "Pending\n",
      "Pending\n",
      "Pending\n",
      "Pending\n",
      "Pending\n",
      "Pending\n",
      "Pending\n",
      "Pending\n",
      "Pending\n",
      "Pending\n",
      "Pending\n",
      "Pending\n",
      "Pending\n",
      "Pending\n",
      "Pending\n",
      "Pending\n",
      "Pending\n",
      "Pending\n",
      "Pending\n",
      "Pending\n",
      "Pending\n",
      "Pending\n",
      "Pending\n",
      "Pending\n",
      "Pending\n",
      "Pending\n",
      "Pending\n",
      "Pending\n",
      "Pending\n",
      "Pending\n",
      "Pending\n",
      "Pending\n",
      "Pending\n",
      "Pending\n",
      "Pending\n",
      "Pending\n",
      "Pending\n",
      "Pending\n",
      "Pending\n",
      "Pending\n",
      "Pending\n",
      "Pending\n",
      "Pending\n",
      "Pending\n",
      "Pending\n",
      "Pending\n",
      "Pending\n",
      "Pending\n",
      "Pending\n",
      "Pending\n",
      "Pending\n",
      "Pending\n",
      "Pending\n",
      "Pending\n",
      "Pending\n",
      "Pending\n",
      "Pending\n",
      "Pending\n",
      "Pending\n",
      "Pending\n",
      "Pending\n",
      "Pending\n",
      "Pending\n",
      "Pending\n",
      "Pending\n",
      "Pending\n",
      "Pending\n",
      "Pending\n"
     ]
    }
   ],
   "source": [
    "import time, boto3\n",
    "sm = boto3.client(\"sagemaker\")\n",
    "\n",
    "print(\"Watching:\", schedule_name)\n",
    "while True:\n",
    "    execs = sm.list_monitoring_executions(\n",
    "        MonitoringScheduleName=schedule_name, SortBy=\"CreationTime\",\n",
    "        SortOrder=\"Descending\", MaxResults=1\n",
    "    )[\"MonitoringExecutionSummaries\"]\n",
    "    if execs:\n",
    "        status = execs[0][\"MonitoringExecutionStatus\"]\n",
    "        print(status)\n",
    "        if status in (\"Completed\",\"Failed\",\"Stopped\"):\n",
    "            break\n",
    "    else:\n",
    "        print(\"Pending\")\n",
    "    time.sleep(10)"
   ]
  },
  {
   "cell_type": "code",
   "execution_count": null,
   "id": "f8ba66fa-88b3-439e-9830-659aab8a09f1",
   "metadata": {},
   "outputs": [],
   "source": [
    "import os, json, boto3, pandas as pd, matplotlib.pyplot as plt\n",
    "\n",
    "s3 = boto3.client(\"s3\")\n",
    "prefix = f\"{model_prefix}/monitoring/output\"\n",
    "resp = s3.list_objects_v2(Bucket=default_bucket, Prefix=prefix)\n",
    "\n",
    "keys = [o[\"Key\"] for o in resp.get(\"Contents\", []) if o[\"Key\"].endswith(\"statistics.json\")]\n",
    "if not keys:\n",
    "    raise ValueError(\"No monitoring statistics found yet.\")\n",
    "latest_stats = sorted(keys)[-1]\n",
    "latest_dir   = os.path.dirname(latest_stats)\n",
    "viol_key     = latest_dir + \"/constraint_violations.json\"\n",
    "\n",
    "s3.download_file(default_bucket, latest_stats, \"latest_stats.json\")\n",
    "s3.download_file(default_bucket, viol_key,   \"violations.json\")\n",
    "\n",
    "with open(\"latest_stats.json\") as f: stats = json.load(f)\n",
    "with open(\"violations.json\")  as f: viol  = json.load(f)\n",
    "\n",
    "rows = []\n",
    "for feat in stats[\"features\"]:\n",
    "    base = feat[\"baseline_statistics\"].get(\"mean\", 0)\n",
    "    cur  = feat.get(\"post_training_statistics\", {}).get(\"mean\", 0)\n",
    "    rows.append({\"Feature\": feat[\"name\"], \"BaselineMean\": base, \"CurrentMean\": cur, \"DriftMagnitude\": abs(cur-base)})\n",
    "\n",
    "df = pd.DataFrame(rows).sort_values(\"DriftMagnitude\", ascending=False)\n",
    "display(df.head(10))\n",
    "\n",
    "if isinstance(viol, dict) and viol.get(\"violations\"):\n",
    "    for v in viol[\"violations\"]:\n",
    "        print(f\"VIOLATION: {v.get('feature_name')} — {v.get('description')}\")\n",
    "else:\n",
    "    print(\"No constraint violations detected.\")\n",
    "\n",
    "plt.figure(figsize=(10,5))\n",
    "plt.bar(df[\"Feature\"][:10], df[\"DriftMagnitude\"][:10])\n",
    "plt.xticks(rotation=45, ha=\"right\")\n",
    "plt.title(\"Top 10 Features by Absolute Mean Drift\")\n",
    "plt.ylabel(\"Absolute Mean Drift\")\n",
    "plt.show()\n"
   ]
  }
 ],
 "metadata": {
  "kernelspec": {
   "display_name": "Python 3 (ipykernel)",
   "language": "python",
   "name": "python3"
  },
  "language_info": {
   "codemirror_mode": {
    "name": "ipython",
    "version": 3
   },
   "file_extension": ".py",
   "mimetype": "text/x-python",
   "name": "python",
   "nbconvert_exporter": "python",
   "pygments_lexer": "ipython3",
   "version": "3.12.9"
  }
 },
 "nbformat": 4,
 "nbformat_minor": 5
}
